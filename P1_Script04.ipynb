{
  "nbformat": 4,
  "nbformat_minor": 0,
  "metadata": {
    "colab": {
      "provenance": [],
      "include_colab_link": true
    },
    "kernelspec": {
      "name": "python3",
      "display_name": "Python 3"
    },
    "language_info": {
      "name": "python"
    }
  },
  "cells": [
    {
      "cell_type": "markdown",
      "metadata": {
        "id": "view-in-github",
        "colab_type": "text"
      },
      "source": [
        "<a href=\"https://colab.research.google.com/github/hfranc827/Datos/blob/main/P1_Script04.ipynb\" target=\"_parent\"><img src=\"https://colab.research.google.com/assets/colab-badge.svg\" alt=\"Open In Colab\"/></a>"
      ]
    },
    {
      "cell_type": "markdown",
      "source": [
        "# Excepciones\n",
        "\n",
        "* try : Encierra el codigo que podria generar una excepcion.\n",
        "* except : Se ejecuta si ocurre una excepcion\n",
        "* else : se ejecuta si no se produce ninguna excepcion en el bloque try\n",
        "* finally : Siempre se ejecuta"
      ],
      "metadata": {
        "id": "thEbf8bl_Mxn"
      }
    },
    {
      "cell_type": "code",
      "execution_count": 4,
      "metadata": {
        "id": "MgMiqaD69B84"
      },
      "outputs": [],
      "source": [
        "# Ejemplito 1 : Operaciones con matrices en Algebra Lineal\n",
        "# Objetivo/Requerimiento : Calculo del producto de matrices\n",
        "\n",
        "# Carguemos el modulo numpy\n",
        "import numpy as np"
      ]
    },
    {
      "cell_type": "code",
      "source": [
        "# Consideremos manipular 4 posibles excepciones\n",
        "\n",
        "# Dimensiones incompatibles\n",
        "# Tipos de datos incorrectos\n",
        "# Indices fuera de rango\n",
        "# Errores generales"
      ],
      "metadata": {
        "id": "LCXN8mZQBR7T"
      },
      "execution_count": null,
      "outputs": []
    },
    {
      "cell_type": "code",
      "source": [
        "# Implementacion de la funcion multiplicar_matrices\n",
        "def multiplicar_matrices(A,B):\n",
        "  try :\n",
        "    # Verificar la compatibilidad de dimensiones\n",
        "    if A.shape[1] != B.shape[0]:\n",
        "      raise ValueError(\"Las dimensiones de las matrices no son compatibles\")\n",
        "\n",
        "    # Multiplicar las matrices\n",
        "    C = np.dot(A,B)\n",
        "    return C\n",
        "\n",
        "  except ValueError as ve:\n",
        "    print(\"Error en alguna valor %s\"  %(ve))\n",
        "  except TypeError as te:\n",
        "    print(\"Error de tipo :%s\" %(te))\n",
        "  except IndexError as ie:\n",
        "    print(\"Indice fuera de rando : %s\" %(ie))\n",
        "  except Exception as e:\n",
        "    print(\"Error inesperado %s\" %(e))\n",
        "\n",
        "  else:\n",
        "    print(\"Multiplicacion realizada con exito\")\n",
        "  finally:\n",
        "    print(\"Fin de la operacion\")"
      ],
      "metadata": {
        "id": "VRCpu3cxB-M_"
      },
      "execution_count": 5,
      "outputs": []
    },
    {
      "cell_type": "code",
      "source": [
        "# Ejemplo de uso\n",
        "mat1 = np.array([[1,2],[3,4]])\n",
        "mat2 = np.array([[0.2,0.0009],[0.18,3.81]])\n",
        "\n",
        "# Calculamos el resultado\n",
        "try :\n",
        "  resultado = multiplicar_matrices(mat1, mat2)\n",
        "  print(resultado)\n",
        "except :\n",
        "  print(\"Ocurrio un error general \")"
      ],
      "metadata": {
        "colab": {
          "base_uri": "https://localhost:8080/"
        },
        "id": "0Ijr9jd0ESvm",
        "outputId": "aef6485a-0f61-4f2f-9b55-3b183f0c553d"
      },
      "execution_count": 6,
      "outputs": [
        {
          "output_type": "stream",
          "name": "stdout",
          "text": [
            "Fin de la operacion\n",
            "[[ 0.56    7.6209]\n",
            " [ 1.32   15.2427]]\n"
          ]
        }
      ]
    },
    {
      "cell_type": "markdown",
      "source": [
        "## Beneficios del manejo de excepciones\n",
        "* Programacion mas robusta\n",
        "* Mensajes de error personalizados\n",
        "* Mejora la legibilidad del codigo\n",
        "* Permite realizar acciones de limpieza"
      ],
      "metadata": {
        "id": "RvsjcBsqFwix"
      }
    },
    {
      "cell_type": "code",
      "source": [
        "# Modifiquemos la implementacion de la funcion multiplicar_matrices sin considerar\n",
        "# el uso de numpy para el calculo del producto entre matrices\n",
        "\n",
        "def multiplicar_matrices_ver2(A,B):\n",
        "  try :\n",
        "    # Verificar la compatibilidad de dimensiones\n",
        "    if A.shape[1] != B.shape[0]:\n",
        "      raise ValueError(\"Las dimensiones de las matrices no son compatibles\")\n",
        "\n",
        "    # Multiplicar las matrices : Usando una implementacion propia\n",
        "    C = np.zeros((A.shape[0],B.shape[1]))\n",
        "\n",
        "    # Multiplicacion de matrices\n",
        "    for i in range(A.shape[0]):\n",
        "      for j in range(B.shape[1]):\n",
        "        for k in range(A.shape[1]):\n",
        "          C[i,j] = C[i,j] + A[i,k]*B[k,j]\n",
        "\n",
        "    return C\n",
        "\n",
        "  except ValueError as ve:\n",
        "    print(\"Error en alguna valor %s\"  %(ve))\n",
        "  except TypeError as te:\n",
        "    print(\"Error de tipo :%s\" %(te))\n",
        "  except IndexError as ie:\n",
        "    print(\"Indice fuera de rando : %s\" %(ie))\n",
        "  except Exception as e:\n",
        "    print(\"Error inesperado %s\" %(e))\n",
        "\n",
        "  else:\n",
        "    print(\"Multiplicacion realizada con exito\")\n",
        "  finally:\n",
        "    print(\"Fin de la operacion\")"
      ],
      "metadata": {
        "id": "GhTzyApoFtn-"
      },
      "execution_count": null,
      "outputs": []
    },
    {
      "cell_type": "code",
      "source": [
        "# Ejemplo de uso\n",
        "mat1 = np.array([[1,2],[3,4]])\n",
        "mat2 = np.array([[0.2,0.0009],[0.18,3.81]])\n",
        "\n",
        "# Calculamos el resultado\n",
        "try :\n",
        "  resultado = multiplicar_matrices_ver2(mat1, mat2)\n",
        "  print(resultado)\n",
        "except :\n",
        "  print(\"Ocurrio un error general \")"
      ],
      "metadata": {
        "colab": {
          "base_uri": "https://localhost:8080/"
        },
        "id": "jrP50nupH6J-",
        "outputId": "dad69b97-187f-4f88-c25d-6ec15056aa50"
      },
      "execution_count": null,
      "outputs": [
        {
          "output_type": "stream",
          "name": "stdout",
          "text": [
            "Fin de la operacion\n",
            "[[ 0.56    7.6209]\n",
            " [ 1.32   15.2427]]\n"
          ]
        }
      ]
    },
    {
      "cell_type": "code",
      "source": [
        "# Ejemplito 2: Necesitamos implementar una funcion que realice operaciones\n",
        "# basicas entre matrices : suma, resta y multiplicacion\n",
        "import numpy as np\n",
        "\n",
        "def operar_matrices(matriz1, matriz2, operacion):\n",
        "  \"\"\"\n",
        "  Operaciones entre matrices\n",
        "\n",
        "  Argumentos :\n",
        "    matriz1 : primera matriz\n",
        "    matriz2 : segunda matriz\n",
        "    operacion : cadena de caracteres indicando la operacion (suma, resta, multiplicacion)\n",
        "\n",
        "  returna :\n",
        "    El resultado de la operacion\n",
        "    o un mensaje de error\n",
        "\n",
        "  \"\"\"\n",
        "\n",
        "  try:\n",
        "    if operacion  == \"suma\":\n",
        "      resultado = matriz1 + matriz2\n",
        "    elif operacion == \"resta\":\n",
        "      resultado = matriz1 - matriz2\n",
        "    elif operacion == \"multiplicacion\":\n",
        "      resultado = np.dot(matriz1, matriz2)\n",
        "    else:\n",
        "      raise ValueError(\"Operacion no valida\")\n",
        "\n",
        "    return resultado\n",
        "\n",
        "  except ValueError as e:\n",
        "    print(\"Error %s\" %(e))\n",
        "\n",
        "  except TypeError as e:\n",
        "    print(\"Las matrices deben de ser numericas %s \" %(e))\n",
        "\n",
        "  finally:\n",
        "    print(\"Operacion finalizada\")\n"
      ],
      "metadata": {
        "id": "Px3ksfZ4IblE"
      },
      "execution_count": null,
      "outputs": []
    },
    {
      "cell_type": "code",
      "source": [
        "# Ejemplo de uso\n",
        "matrizA = np.array([[1,2],[3,4]])\n",
        "matrizB = np.array([[3,4],[1,2]])\n",
        "\n",
        "resultado_suma = operar_matrices(matrizA, matrizB, \"suma\")"
      ],
      "metadata": {
        "colab": {
          "base_uri": "https://localhost:8080/"
        },
        "id": "1GRQpg1RKhxk",
        "outputId": "3bc4fc29-86c9-4ed9-e31a-2e7c676895e4"
      },
      "execution_count": null,
      "outputs": [
        {
          "output_type": "stream",
          "name": "stdout",
          "text": [
            "Operacion finalizada\n"
          ]
        }
      ]
    },
    {
      "cell_type": "code",
      "source": [
        "# Ejemplo de uso\n",
        "matrizA = np.array([[1,2],[3,4]])\n",
        "matrizB = np.array([[3,4],[1,2]])\n",
        "\n",
        "resultado_multi = operar_matrices(matrizA, matrizB, \"multiplicacion\")"
      ],
      "metadata": {
        "colab": {
          "base_uri": "https://localhost:8080/"
        },
        "id": "eZuZnMv3LFSS",
        "outputId": "f5d8cabb-9512-48ea-af73-5ec83f68f0a7"
      },
      "execution_count": null,
      "outputs": [
        {
          "output_type": "stream",
          "name": "stdout",
          "text": [
            "Operacion finalizada\n"
          ]
        }
      ]
    },
    {
      "cell_type": "code",
      "source": [
        "# Comentario\n",
        "  # Siempre agregar comentarios\n",
        "  # Considerar en el analisis previo un gran numero de posibles excepciones\n",
        "  # logging (en futuras clases)\n",
        "  # Personalizacion de mensajes de errores\n",
        "  # Pruebas unitarias"
      ],
      "metadata": {
        "id": "elpegGClLiBI"
      },
      "execution_count": null,
      "outputs": []
    },
    {
      "cell_type": "code",
      "source": [
        "\n",
        "def operar_matrices_ver2(matriz1, matriz2, operacion):\n",
        "  \"\"\"\n",
        "  Operaciones entre matrices\n",
        "\n",
        "  Argumentos :\n",
        "    matriz1 : primera matriz\n",
        "    matriz2 : segunda matriz\n",
        "    operacion : cadena de caracteres indicando la operacion (suma, resta, multiplicacion)\n",
        "\n",
        "  returna :\n",
        "    El resultado de la operacion\n",
        "    o un mensaje de error\n",
        "\n",
        "  \"\"\"\n",
        "\n",
        "  try:\n",
        "\n",
        "    # Actualizacion al requerimiento original : Esta funcion solo debe operar\n",
        "    # con datos de tipo ndarray\n",
        "    # Verificamos que matriz1 y matriz2 sean objetos de tipo ndarray\n",
        "    # Si matriz1 y matriz2 no son datos de tipo ndarray, usando raise\n",
        "    # levantamos/lanzamos una excepcion\n",
        "    if not ( isinstance(matriz1, np.ndarray) and isinstance(matriz2,np.ndarray)) :\n",
        "      raise ValueError(\"Las entradas deben de ser datos de tipo ndarray\")\n",
        "\n",
        "    if operacion  == \"suma\":\n",
        "      resultado = matriz1 + matriz2\n",
        "    elif operacion == \"resta\":\n",
        "      resultado = matriz1 - matriz2\n",
        "    elif operacion == \"multiplicacion\":\n",
        "      resultado = np.dot(matriz1, matriz2)\n",
        "    else:\n",
        "      raise ValueError(\"Operacion no valida\")\n",
        "\n",
        "    return resultado\n",
        "\n",
        "  except ValueError as e:\n",
        "    print(\"Error %s\" %(e))\n",
        "\n",
        "  except TypeError as e:\n",
        "    print(\"Las matrices deben de ser numericas %s \" %(e))\n",
        "\n",
        "  finally:\n",
        "    print(\"Operacion finalizada\")\n"
      ],
      "metadata": {
        "id": "W2XMcz_ZMqEB"
      },
      "execution_count": null,
      "outputs": []
    },
    {
      "cell_type": "markdown",
      "source": [
        "## La palabra reservada assert\n",
        "\n",
        "**¿Para que sirve assert?**\n",
        "* Detectar errores tempranos\n",
        "* Documentar suposiciones\n",
        "* Mejorar la legibilidad"
      ],
      "metadata": {
        "id": "eBkkmDChO1aU"
      }
    },
    {
      "cell_type": "code",
      "source": [
        "# Verificacion de tipo de dato\n",
        "def dividir(a,b):\n",
        "  assert isinstance(a, (int,float)) and isinstance(b , (int, float)), \"Los argumentos deben de ser numericos\"\n",
        "  return a/b"
      ],
      "metadata": {
        "id": "00raHU4TPXUF"
      },
      "execution_count": null,
      "outputs": []
    },
    {
      "cell_type": "code",
      "source": [
        "dividir(\"2\",1)"
      ],
      "metadata": {
        "colab": {
          "base_uri": "https://localhost:8080/",
          "height": 245
        },
        "id": "CItjo9m1P0G7",
        "outputId": "24b68ebd-0e8e-4387-a9a2-f4cc933dff97"
      },
      "execution_count": null,
      "outputs": [
        {
          "output_type": "error",
          "ename": "AssertionError",
          "evalue": "Los argumentos deben de ser numericos",
          "traceback": [
            "\u001b[0;31m---------------------------------------------------------------------------\u001b[0m",
            "\u001b[0;31mAssertionError\u001b[0m                            Traceback (most recent call last)",
            "\u001b[0;32m<ipython-input-22-0ebcc462e9ae>\u001b[0m in \u001b[0;36m<cell line: 0>\u001b[0;34m()\u001b[0m\n\u001b[0;32m----> 1\u001b[0;31m \u001b[0mdividir\u001b[0m\u001b[0;34m(\u001b[0m\u001b[0;34m\"2\"\u001b[0m\u001b[0;34m,\u001b[0m\u001b[0;36m1\u001b[0m\u001b[0;34m)\u001b[0m\u001b[0;34m\u001b[0m\u001b[0;34m\u001b[0m\u001b[0m\n\u001b[0m",
            "\u001b[0;32m<ipython-input-21-50f1ab9b466a>\u001b[0m in \u001b[0;36mdividir\u001b[0;34m(a, b)\u001b[0m\n\u001b[1;32m      1\u001b[0m \u001b[0;31m# Verificacion de tipo de dato\u001b[0m\u001b[0;34m\u001b[0m\u001b[0;34m\u001b[0m\u001b[0m\n\u001b[1;32m      2\u001b[0m \u001b[0;32mdef\u001b[0m \u001b[0mdividir\u001b[0m\u001b[0;34m(\u001b[0m\u001b[0ma\u001b[0m\u001b[0;34m,\u001b[0m\u001b[0mb\u001b[0m\u001b[0;34m)\u001b[0m\u001b[0;34m:\u001b[0m\u001b[0;34m\u001b[0m\u001b[0;34m\u001b[0m\u001b[0m\n\u001b[0;32m----> 3\u001b[0;31m   \u001b[0;32massert\u001b[0m \u001b[0misinstance\u001b[0m\u001b[0;34m(\u001b[0m\u001b[0ma\u001b[0m\u001b[0;34m,\u001b[0m \u001b[0;34m(\u001b[0m\u001b[0mint\u001b[0m\u001b[0;34m,\u001b[0m\u001b[0mfloat\u001b[0m\u001b[0;34m)\u001b[0m\u001b[0;34m)\u001b[0m \u001b[0;32mand\u001b[0m \u001b[0misinstance\u001b[0m\u001b[0;34m(\u001b[0m\u001b[0mb\u001b[0m \u001b[0;34m,\u001b[0m \u001b[0;34m(\u001b[0m\u001b[0mint\u001b[0m\u001b[0;34m,\u001b[0m \u001b[0mfloat\u001b[0m\u001b[0;34m)\u001b[0m\u001b[0;34m)\u001b[0m\u001b[0;34m,\u001b[0m \u001b[0;34m\"Los argumentos deben de ser numericos\"\u001b[0m\u001b[0;34m\u001b[0m\u001b[0;34m\u001b[0m\u001b[0m\n\u001b[0m\u001b[1;32m      4\u001b[0m   \u001b[0;32mreturn\u001b[0m \u001b[0ma\u001b[0m\u001b[0;34m/\u001b[0m\u001b[0mb\u001b[0m\u001b[0;34m\u001b[0m\u001b[0;34m\u001b[0m\u001b[0m\n",
            "\u001b[0;31mAssertionError\u001b[0m: Los argumentos deben de ser numericos"
          ]
        }
      ]
    },
    {
      "cell_type": "code",
      "source": [
        "# Validemos rango de valores\n",
        "def calcular_area_circulo(radio):\n",
        "  assert radio>0, \"El radio debe ser positivo\"\n",
        "  return 3.1415*radio**2"
      ],
      "metadata": {
        "id": "nc8QLBEQP8YF"
      },
      "execution_count": null,
      "outputs": []
    },
    {
      "cell_type": "code",
      "source": [
        "# Verificacion de condiciones previas\n",
        "def ordenar_lista(lista):\n",
        "  assert isinstance(lista, list), \"El argumento debe ser una lista\"\n",
        "  lista.sort()\n",
        "  return lista"
      ],
      "metadata": {
        "id": "PgQzz3z-QOsz"
      },
      "execution_count": null,
      "outputs": []
    },
    {
      "cell_type": "code",
      "source": [
        "# pruebas unitarias\n",
        "def suma(a,b):\n",
        "  assert isinstance(a, (int, float)) and isinstance(b, (int, float)) , \"Los argumentos deben de ser numericos\"\n",
        "  return a+b\n",
        "\n",
        "# Implementemos una funcion para realizar algunas pruebas unitarias\n",
        "def test_suma():\n",
        "  assert suma(2,3) == 5 , \"La suma (Historia de Usuario) no es correcta\""
      ],
      "metadata": {
        "id": "yeun208wQlb0"
      },
      "execution_count": null,
      "outputs": []
    },
    {
      "cell_type": "code",
      "source": [
        "# Cuanto usar assert\n",
        "  # Condiciones criticas\n",
        "  # Detectar errores de programacion\n",
        "  # Documentar suposiciones"
      ],
      "metadata": {
        "id": "zpUWhbgMQ6uI"
      },
      "execution_count": null,
      "outputs": []
    },
    {
      "cell_type": "code",
      "source": [
        "# Cuando no usar assert\n",
        "  # Manejo de errores en produccion\n",
        "  # Validacion de entrada de usuario"
      ],
      "metadata": {
        "id": "g0tdSm03R1Vf"
      },
      "execution_count": null,
      "outputs": []
    }
  ]
}