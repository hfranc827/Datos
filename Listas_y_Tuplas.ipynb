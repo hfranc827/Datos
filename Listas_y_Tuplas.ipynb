{
  "nbformat": 4,
  "nbformat_minor": 0,
  "metadata": {
    "colab": {
      "provenance": [],
      "authorship_tag": "ABX9TyNkHfeyi5AyS31HHwYH7IPc",
      "include_colab_link": true
    },
    "kernelspec": {
      "name": "python3",
      "display_name": "Python 3"
    },
    "language_info": {
      "name": "python"
    }
  },
  "cells": [
    {
      "cell_type": "markdown",
      "metadata": {
        "id": "view-in-github",
        "colab_type": "text"
      },
      "source": [
        "<a href=\"https://colab.research.google.com/github/hfranc827/Datos/blob/main/Listas_y_Tuplas.ipynb\" target=\"_parent\"><img src=\"https://colab.research.google.com/assets/colab-badge.svg\" alt=\"Open In Colab\"/></a>"
      ]
    },
    {
      "cell_type": "markdown",
      "source": [],
      "metadata": {
        "id": "HSIMJPdfuKNy"
      }
    },
    {
      "cell_type": "markdown",
      "source": [
        "# Listas"
      ],
      "metadata": {
        "id": "nXATMnXEuLJ1"
      }
    },
    {
      "cell_type": "code",
      "source": [
        "A = [\"Patricia\" , \"Mexico\",\"F\" , 2020]\n",
        "A"
      ],
      "metadata": {
        "colab": {
          "base_uri": "https://localhost:8080/"
        },
        "id": "V03lJ5CGuO11",
        "outputId": "451bd419-37ac-4a09-98d3-06c8051abe9e"
      },
      "execution_count": 11,
      "outputs": [
        {
          "output_type": "execute_result",
          "data": {
            "text/plain": [
              "['Patricia', 'Mexico', 'F', 2020]"
            ]
          },
          "metadata": {},
          "execution_count": 11
        }
      ]
    },
    {
      "cell_type": "code",
      "source": [
        "a = [9,10,8,5,8,8,7,5,10]\n",
        "a"
      ],
      "metadata": {
        "colab": {
          "base_uri": "https://localhost:8080/"
        },
        "id": "6taHHcHvufSM",
        "outputId": "1fb21ced-7d71-41ab-9f93-445d02922566"
      },
      "execution_count": 14,
      "outputs": [
        {
          "output_type": "execute_result",
          "data": {
            "text/plain": [
              "[9, 10, 8, 5, 8, 8, 7, 5, 10]"
            ]
          },
          "metadata": {},
          "execution_count": 14
        }
      ]
    },
    {
      "cell_type": "code",
      "source": [
        "a[0]"
      ],
      "metadata": {
        "colab": {
          "base_uri": "https://localhost:8080/"
        },
        "id": "172wtTHeuh_i",
        "outputId": "73358744-7dca-4f14-a580-c68dbb3eef0f"
      },
      "execution_count": 20,
      "outputs": [
        {
          "output_type": "execute_result",
          "data": {
            "text/plain": [
              "9"
            ]
          },
          "metadata": {},
          "execution_count": 20
        }
      ]
    },
    {
      "cell_type": "code",
      "source": [
        "a[3]"
      ],
      "metadata": {
        "colab": {
          "base_uri": "https://localhost:8080/"
        },
        "id": "VEk-pZB_vG71",
        "outputId": "a0479531-6a8f-4bb1-ec5c-5321e3c24cbc"
      },
      "execution_count": 21,
      "outputs": [
        {
          "output_type": "execute_result",
          "data": {
            "text/plain": [
              "5"
            ]
          },
          "metadata": {},
          "execution_count": 21
        }
      ]
    },
    {
      "cell_type": "code",
      "source": [
        "A[3]"
      ],
      "metadata": {
        "colab": {
          "base_uri": "https://localhost:8080/"
        },
        "id": "dFMq1SxtvIHv",
        "outputId": "ba205143-b884-465a-9da4-921f185be494"
      },
      "execution_count": 22,
      "outputs": [
        {
          "output_type": "execute_result",
          "data": {
            "text/plain": [
              "2020"
            ]
          },
          "metadata": {},
          "execution_count": 22
        }
      ]
    },
    {
      "cell_type": "markdown",
      "source": [
        "# Numero de elementos"
      ],
      "metadata": {
        "id": "J20BzALmvf-c"
      }
    },
    {
      "cell_type": "code",
      "source": [
        "len(A)"
      ],
      "metadata": {
        "colab": {
          "base_uri": "https://localhost:8080/"
        },
        "id": "XI0_TOVHuiAx",
        "outputId": "70179af0-fdd1-4871-de59-4d8211f8685e"
      },
      "execution_count": 23,
      "outputs": [
        {
          "output_type": "execute_result",
          "data": {
            "text/plain": [
              "4"
            ]
          },
          "metadata": {},
          "execution_count": 23
        }
      ]
    },
    {
      "cell_type": "code",
      "source": [
        "len(a)"
      ],
      "metadata": {
        "colab": {
          "base_uri": "https://localhost:8080/"
        },
        "id": "8KqpDaRwvNx8",
        "outputId": "509fda11-a112-443b-bb06-4f6aaedafc03"
      },
      "execution_count": 24,
      "outputs": [
        {
          "output_type": "execute_result",
          "data": {
            "text/plain": [
              "9"
            ]
          },
          "metadata": {},
          "execution_count": 24
        }
      ]
    },
    {
      "cell_type": "markdown",
      "source": [
        "# Indices negativos"
      ],
      "metadata": {
        "id": "lpYDMRB7v8yL"
      }
    },
    {
      "cell_type": "code",
      "source": [
        "A[-1]"
      ],
      "metadata": {
        "colab": {
          "base_uri": "https://localhost:8080/"
        },
        "id": "RE7lqKcawBx1",
        "outputId": "8f5aa44c-0d65-46be-eaf9-f236c6fcb4db"
      },
      "execution_count": 25,
      "outputs": [
        {
          "output_type": "execute_result",
          "data": {
            "text/plain": [
              "2020"
            ]
          },
          "metadata": {},
          "execution_count": 25
        }
      ]
    },
    {
      "cell_type": "code",
      "source": [
        "a[-5]"
      ],
      "metadata": {
        "colab": {
          "base_uri": "https://localhost:8080/"
        },
        "id": "8bG_HQIjvbor",
        "outputId": "5ec5a1cf-c53e-4ef3-87ed-ef112a263d2b"
      },
      "execution_count": 26,
      "outputs": [
        {
          "output_type": "execute_result",
          "data": {
            "text/plain": [
              "8"
            ]
          },
          "metadata": {},
          "execution_count": 26
        }
      ]
    },
    {
      "cell_type": "markdown",
      "source": [
        "![image.png](data:image/png;base64,iVBORw0KGgoAAAANSUhEUgAAAbEAAABzCAYAAAAWhzy6AAAAAXNSR0IArs4c6QAAAARnQU1BAACxjwv8YQUAAAAJcEhZcwAAEnQAABJ0Ad5mH3gAAEbUSURBVHhe7b13eBxZep/7nqrqbuQMgiAJAiDABDDHYZohJ3BmdgJ3gnZ2V7Isr61Hq2vZsq79SLKv5CtrrStZWslBsh4r7O7sahMnkzPDYRyCOYARJAgSJEAiEpHIQIeqc+4f3VXbbIIcBsRhvXyKja46VX3q1Knvd+J3hFJK4eLi4uLiMgnRYne4uLi4uLhMFlwRc3FxcXGZtLgi5uLi4uIyaXFFzMXFxcVl0uKKmIuLi4vLpMUVMRcXFxeXSYsrYi4uLi4ukxZXxFxcXFxcJi2uiLm4uLi4TFpcEXNxcXFxmbS4Iubi4uLiMmlxRczFxcXFZdLiipiLi4uLy6TFFTEXFxcXl0mLK2IuLi4uLpMWV8RcXFxcXCYtroi5uLi4uExaXBFzcXFxcZm0uCLm4uLi4jJpEUopFbvT5f5RKvyfUAolwBKxIcLoSoFQSAEogYZAIQCBdpdzXFxcXFzujStij4BSCoWFAmSkUqsLGRsMFCiloQAighWWr4iMCT3mBBcXFxeX+8EVsUdAKUXIslBCELA0gpZFKBRCSolSCqQEIRCahqZLPLqOzzAQmoGhaxiWQiiJ7nFFzMXFxeVhcEWMSJugkkghQYRrVEqCpjQUCjRFwLRo7Q9S09nHlcYWegYC9Pf76RsK4IuLJznBi8/QMAwDXQvXtDShQCnC/wQBU2FKhT9k0jc4RMiC5ORE0r2CVI+Hgpwp5E9NITPJS6pHwyN0EAKpBAgQCDQhQQFChJsnMdGU5/YqnouLi8tjgitiUqI0gQloCjQlsLDoCgQpr2nhfH0HDV0BkhINClJ1FuRlMzM9jaTEROK8BjpgCNAxUVIiosbKCM3uNAMQSAChCLc4akg0TCUY8AfoNQPc7O+ltnGAm519dAwEGAjC9PQ4irMTWFI0jakpccR5PAgVFjBdaSCFrbv2z7i4uLg8Njz2IqakwsIiIENcbuvnwLlrXO8aZEpmKutn5zIvJ5WsBA8GGggDqUAT4ZpR5AIQlqewMKmwoggg8mfkeySMCveFKRFOdmX3qKnwgA+JBkLHQqBUkO6hIHVdg5yrbefmrX76BvrJykxnYV46KwpyyfAqLN3AIwx0tzbm4uLymPFYiJhyRMRCYaCQSKUQlqKmc5B/OlXLYG8/qwqyWLugkGmJPgThkYSaEhFBsiKDMSSgO0qhfiFPQFigwp+/+BvARAs3MdpHVZQORulOSIVrdkJYKKUhZaT2FjkvhKJnKMSV5luUV9dxfSBEdpxgddEMnpgzg0RDIFCRXxOIiDii2z8UFl2Jx46Jq3kuLi6TlsdCxJAmUgiUEGCZ+C2NHWevsqe2naVTE3hlcSFZaSl4NA+TYYhF+IFJlNQYQjHk93OxoZ2jV+rp7JEUT4ln8/L5zEj1giFQGHilIqRrGIAuw9MBcCqUroy5uLhMTh4LETMtC6FC9JjwwYmrXG/rYu3c2Wyel4Yw4pCaiUfq4f6sSTH9WyGRCAVCashItU4ISUBJrrb1s+f8VTqGBOlexca5eSzKz8SrNNBBaTIyaEUjaIFH1925ai4uLpOSL5mIRTfMKcItcYIBK8R7x6uobuni5aVzWFEwBY0QEh+GJhFYgCc8a0uEmwEndA1Fhe80FGklDPekCZAKSyoEAjSFRNA2EOCzC9e41tFLZpzG8nmzWJOXgRcdqWD36SqeXlFKHBIlwo2QLi4uLpOFL5mISRQCoRTSkpgIPr9ynbJLrWxckMdT82bgxUJXAiXCQyqiK15KGeHzkZGazaSolt0XUilaeob45HwtTe1N5KSmsrakiD/efoL/96X1LJoeh9Tj0JGuNzIXF5dJw5dKxCQgCBKS0NwT5O39VeTlpPBLK2eRZEgEgiAGmlDoaGgSZHiMRbj2JUyUEFhKQxP6pOgfu18kCqksNMvCxEtNZy8/2n+B751p4JuLC/jzr6/E0PVfDDxxcXFxmQR8qUQMJCEl2Xmlmb3l1fzWSyspTEpA0zWEBgEJfSGLjr5B6tt7aOsbJDAUACDO5yM5KZ7CnDSmJcWR4vHg8TiD1ic9SimUMjGFhkBwrrGFf/Pjo/T39zInJ5cffPs5Ur2aWwtzcXGZVExyEZNYSDSpYwqTUCjEf99zhRlpHr6+uhhdeOkxAxy61Eb51ToGJWQlJTEr3UNBbjap8R7ifd5w/5Jp0e8f5EZbL9Vt3XT5wfIPsCg/k6cWzGF6goGBRlCTeIQHJcLeM4QUyMioCC26S26CoSJz0jQVjmBn3wDCG0+KV0OK8LD+sHfHCXoDLi4uLsMwuUVMwQAWcVLQGhjkO+9e4NeenMXivDQO1naxr/w8qUlJPLVwDvOnp5PkEXiUBUpDaHq4/yuq4mESQinQLQ1LQADJ9Y5+9ly8ypXWdpYXFvD1hfNJ9imUAQINpSyEDPuZUppC+wJnvlJKhIgMGxEiUkNSCCGc/dGPxN43HsRmjei4xB5TSqFp41eLs9PVTtNY7H3R6Txe2HGxn7uddtHxjs0T40VsfiXm2UcfH8/nT8wzjv5u/x29fzzjKmV4ZmnsOx+dd4UQWJaFpmnjngcmOvof/dEf/VHszsmCUhKPZXH5Vhf/46Ny/v2rSzjf2MX391+iMNXD1zYtZ1NJPjPS44k3NAw0TA2EppBCYAl+4eUC0CzQUSg97D7Kpwyyk+JZXjCNl+bPRtckf3vwFEevNzI/K5c4n4GpSRrbu/EkJOAR8p6DQZRS7Nq1i7a2Nvr6+sjIyCAYDPLJJ59QVVXFrFmzADh37hynT5+mu7ubGTNmxF5mTDBNk23btjE4OEh/fz8ZGRn09vayc+dOMjMziYuLQ0rJhQsXOHz4MEIIsrOzx/yFU5FCwE9+8hP8fj9SSpKTkzl9+jQnTpygtbWV/Px8/H4/Z86cYdu2bSxYsACPJzzZezx4++23CYVC6LpOfHw8+/bt48yZM/T19ZGbm0tvby8XLlzgvffeY/Xq1WOepjZSSr7//e9jWRZxcXEkJCRgWRZDQ0NUVFSQk5NDe3s7V65c4bPPPmP58uWxlxgTlFL09/fz9ttvI4QgPT0dXdfZunUrlZWVNDQ0UFRURGNjI9XV1ezatYuFCxei6/cucI4GUko6Ozt59913CYVCZGRkIITg9OnTHD16lNbWVmbOnMn169epra1l3759LFy4cNzywGTg7hZ3gmICWBCSEqVMKpp7+V/7K3hi0Wz+5/ZTTEtL5Lu/spYXl80mS9fwAboQ4aHoQmIg0JQHXWl45O0ldkvXkJqBwIumgTSCCM3CJxSGR7F0+lT+7LUn+eW1y/nrY4f4m71nGPQLdp65wvG6ljsa4rq7u/n888/p7u6GqBLiihUrmD9/PgAffPABGzZsYNOmTXzwwQfous6yZctYuHAhDFPjGQ2UUty8eZOysjICgYBTutY0jeXLlzN37lyEEOi6jhCCjo4OhBAYhsHixYuZP3/+mMQTwLIs6uvrOXz4sLNiAEBqaiqrVq0iLy8PKSUpKSm8+uqr9PX1cfPmTbxeLytXriQ/Pz/2kqOClBLLsqipqeHIkSMEg0EnjdLT01m+fDk5OTlYlkVJSQlbtmzh8uXLDA4OkpaW5tzLWBgvKSVSSs6dO0dFRQWWZUEkv2ZmZrJixQoyMzOdcO+++y5VVVVomkZOTg7Lly8nLS0t9rKjhmVZlJeXc+nSJWRkxQhd1yksLGT58uXEx8djmiaGYfD666/zzDPPADB9+nRWrFhBcnLymNTElFIMDQ1x8OBBGhsbndqWEIKioiJWrFhBXFwcV65c4datW2zZsoUlS5YghKCwsJAVK1aQlJQ0JnGdzEy61DGkwtQVQgoutg7yV7vOkCxMhoZ6+c+/8jQbi6fg0ww0oSF0DUR4AcpwX48WntDsfL399sPTncNupgQ6Ol4EOmgaQmhoOuiazoz0OP7Ls0+zpDiH//7RdnY3BPjBsauYUc4Sg8EgBw4cYO7cufzgBz9wjC0R42A3E1iWRUdHB+3t7ViW5WTyscy4bW1tVFZWkp+fz/e///3bRMw2okIIkpKSyM3Ndb7Hfo62wVVK0dDQwI0bN5g2bRo/+tGPnGPRTTQej4e5c+ei6zpKKbxeL7quOyXv0Y4nkbheu3aNtrY2MjIyeOedd5xj0c/Y6/WSlpbG0aNHiY+Px+v1OsfHomCglEJKyYkTJ/B6vfT09LBv3z6IiacddseOHaxfvx7DMO7II2PF4cOHSUlJob6+npMnTzriEE1vby9Xr15lz549VFRU3Pb8hws/GiilKCsro6CggM8++4z29naISVchBOfPn2fKlCns2rWLvr4+dF0fl3SdrIydpRwhTE2iSUnzrUF+/Sef4Es1+Neb1/MvVi8kUzcjnidGd9JunNSRPlg9M4cpOXM4drmTw2ev0dA5ABGDqmkamZmZXLt2Db/fz+DgYOxlHCPV29tLf3//bUI3lqSnpwPQ0NBAT0/PuDSz3C9ZWVkMDQ3R1NREZ2fnsC+6UgrLsrhx4wZKqXFr5szNzaWvr4/29nba2tpig0DEoNlGq6+vj6GhoTERLxs7XaZPn05TUxOWZdHU1BQbzDHIXV1d9Pf3O3llPMjLy6OhoQFd16mtrR22wJeens5v/dZvsXnzZs6dO0dPT8+YpqvN1KlTqa2tJSEhgdra2mHzYXd3N0opnnrqKXbs2OHUhF3ujzuf/gRHV4IuE37/w8/4Z6tW8NdfXU9+chxKByW8SGEglMT2MDgaWIZCQ6OupRNDhPjRr6/j09/7KlNSvBB54c+ePYumaaxbt46ZM2cOK1D2y7do0SJKS0tjD48Z27dvZ/78+axbt47MzMzYwxOKDz/8kOXLl7NmzRrS09PvaphqamooLy/nxRdfjD00JgghnD6ttWvXEh8fHxsEgP7+frxeL2vXrqW0tJSGhoZhDd1ooSJ9ijt37mTdunV37YMTQlBSUsKaNWucGuNw4jEW7N69m/Xr17NixYph46CUIhAIOE1xaWlphEKh2GCjTnd3N5WVlWzYsIF58+ZBVItBNNOnTyc3N5eEhAQSExPvmqddhufOHDDBsZRF2ZlKfmPzBn5jQxE+nxeh6+gRl0kaRBbyuvNFHCkMBIYQzM+bym9uWsrmkmksmJJBUpzPCZOfn8+NGzfYt28fAwMDdx1IsHHjRj7++GM+/PBDnn766djDY8KcOXM4deoUO3fuxOv1Os2asZSXl1NZWcnp06eprKwc8xKjEILZs2dz/Phxdu/eTXJy8rAvvGmafPTRRyQkJLBv3z6qq6vHJa7FxcUcP36cTz/9lJycnGHjOjAwwNatWykrK6OmpoY5c+YMG260sJu2srOzOXbsGLt37x52MJEQgtzcXObOncucOXNYtGgRSUlJscHGhIyMDA4fPsyhQ4eYOnXqHcJgWRZ1dXV89NFH7Nu3j7i4OLKysobN06NJYmIiUkoOHDjA1atXSU5OHjYOmzdvpqysjM8//5zs7OzYwy5fwKQbYj+kJEODA6TGJYT7vSag51q7dBuNbSw++eQT4uPjSUtLY+nSpc4xFWmnl1Jy8uRJGhsbmTlzJqtWrRo2448ksf11dvw//PBDsrKyyMzMZMGCBU4Y+94sy+LkyZPU1NSwbNmy28KMFnZ/XTSWZfFP//RPFBQUOJudnjaDg4OcPHmSs2fP8pu/+Zt3rRmNFHYaRsfB/vsf//EfmTVrFrNnz2b69Om3nSOEoLe3l4qKCsrLy/md3/mdYWsbI0l0XrWbwu188Hd/93fMnz+fefPmkZOTc9s5Simampq4evUq1dXVfPvb33aOjybR/Z82g4ODfO9732PRokXOgIjovGJZltOfeu3aNb71rW+NerO5na7R6auUoru7m61bt1JSUsLq1avx+cKFXzvNAa5evcrNmzepq6vjV3/1V+/I8y6/YNKJmJIKIcLuohj13q+RRSmFaZpORvV6w82P0ViWRSgUQtM0DMMYdQN2N6SUmKaJruuOYYvubLYNiYoMDJBSOoMSxhrLspCRUWp2HGMNlJTSSVdN0+44PpYEg0GIGC17gEQ0dh6xLAufz3fH8bHCzosiMgghtjXBzs/238Pl57HATisiaTrcs7UsyxFeO58YhhEbbNSx86kdX3vEb+x7blmW0yJi95m6DM+kE7GxwE0SFxeXycp4FXrGi0kp73ZpysXFxcVl4jIWdnrC1cTs6MSWJuwmLbs6bjcJjFQ1OzYZXKF0cXGZTIhh5mrGfh8pbHscS/R+u5thtJttR1XEZGRkjt2uv2zZMrxeryMQ0ZMP7WjcunWLrq4uiouLnWNSSk6fPs2KFSsAuHz5MoFAgMWLF6PF+JyLfZDRI+3Uffqji45P7KeLi4vLRMG2ZbZdEzH+F2PDxaKUIhQKcejQIbxeL/Hx8SxZsgQ94igg1nba1NXV4fV6ycnJcSoXQgjKy8tZuXIlREYzZ2ZmUlxcfJtNZRg/m9H977G/GRs2llEVMcuy+OCDD9iyZQsXL14kFAqxYsUKmpubGRgYoLCwEJ/PR3NzM11dXUyfPh1N0xgYGGDq1KnOJNG8vDxaW1uZNWsWlmVRWVlJeno6eXl5BAIB+vv76erqIiUlhalTpzo3bUUmvOq6Tl5eHn19fQSDQTo7O8nMzLxjOKud0PagBaJGw9n7Yh+si4uLy1gQa9ztfdEbUQJxPyImpcTv97N37142b97M8ePHmTp1KsXFxTQ0NBAMBpk1axa6rnPz5k26u7uZNm2a4/szNTWVlpYWent7KSgo4ObNm+Tn5xMIBLh06RLTp09n2rRp9Pf3MzAwQGdnJ9nZ2bfZXtM0uXHjBl6vl2nTpjmTv1tbW5kxYwapqal3jT9j1Sdmj8DRdZ0rV65w5coVVMSFTWdnJydOnCAxMZGenh66urqoq6ujqanJ2R8KhTh79ixCCPbs2YPP56OhoYGKigoGBwfZvn07Pp+PAwcOOF4EpJQcPnyY3t5erl+/TlVVFZ2dnezZs4f4+Hh27drF0NCQE0dbkGwhsywL0zQxTfO2kU3RYSbqZgvvRN7sZxQb94m82fGNvZeJsrlpOnpbdFzHe4u2QdG2i4hYxYaNDRONiBJDuyZkGAanT5+mpaWFQCDA3r176enp4eTJk8THx9Pf309TUxPt7e1UV1dz+fJlZ37p2bNnAdixYwfp6emcO3eOmpoampub2b9/PwkJCezcuZNAIODE6ejRo/T19VFTU8OVK1e4fv06R48eJTExkY8//viucbcZVRETQtDe3s6+ffvw+/0sXryYa9eusWbNGse3nd2k2NzcTGZmppP4V65cYdWqVeTn55Oeno6maViWhd/vZ968eaxevdpxK1RcXExeXh6zZs2it7fX+f2amhp6e3uxLIu2tjaklMybN4+8vDxycnKcoc52IslIG66MOG+1BSw2Y8RmkImEEAKfz0dcXNyE38ZrSPbDEh8fT3x8/B33MZG2hISEL2x+mUjoun7HPUzUbbih+2NJrP1RkSkOphleSzEYDBIIBPD7/YRCoQeyUY2NjZSVlZGWlsasWbNoaGhg5cqVlJaW0tvb68yrbGlpITMz05kacu3aNdauXUtRUZEz+b2/v5+kpCQKCwtZv369U2mZP38+eXl5TJky5TYRu3btGr29vZimSVtbG0opFi1aRH5+vjNh/F6Mem7Pzs7mueee44knnsDj8eDz+fD7/RCZL+Pz+diyZQv5+fns3bvXKfn4fD6CwaAzeENF+tDsOTSmaTriEi2GNkopEhMTWbt2LZs2bWLjxo1OacOuGUZnhlgBs0UsFArdVhObLNtExy4BTpTS7f1s0fGeqMTm64m+2a0GEx0RcdYdG//x3mzute9+0jcvL49nn33WccBg21oi76jH4+HVV18lLy+P3bt3Y0XmuRmGQSAQgKh3w+v1OjZ+aGjIKazaNtqOkx0+KSmJtWvX8uyzz/LUU0+hIjZdu08nyKO6nphlWbS0tFBUVOREJj09nYMHD3Lt2jWmTZtGeno6n332Gc3NzRQUFJCSkoLf76e0tJSDBw9SU1NDQkIC3d3dzJ49GyuyDEN1dTWrV6/GMAz6+/vJzc3l1q1bJCUlkZKSAkBcXBwHDx7k+vXreDweJxGzsrJoaWlhypQp+Hw+52HHCpgVmew5npOOH5RooZ7o2Ol9Pxl1IuDxeCZ8XIUQTkFvMiAiqw5M9HQFxsX/4sNi2wH77+jPaIQQhEIhOjo6yM/PR0QKQUlJSZSVlXH16lXmzp1LfHw8n332GS0tLeTl5Tm104KCAg4cOEBNTQ1ZWVncunWLoqIiuru7uXDhArW1taxZs8apdKSnp9PW1kZubq7jHMHr9VJWVsb169fxer1IKUlMTCQxMdHRhXvZ31Ed2GELQ7RBja7t2FVS2ytA9FBMO1pmZF0gFbX6rW349ChvEjYiovB2FdQuPdnXtlU+uopqx8mumsduKSkpd3grmKjYRmEyxDcUChEIBIZ9uSYi8fHx93yZxhu7hDs0NHRb/p7ICCGIj4+f8HlAKTXsShQTFduealHeaYZLY9tG28e1yEhDIraXSOFNRUYxRl/PPp/Iu2zbHNtOm6bptKRFh7fjYdtq26ZHa4W93w4zXNxtRvWNFMO4gNEi7l58Ph96ZBhnS0sLHo/HuWE7oezPxsZGiDQ/apE1mOzw9s3Z58V+93g8eCMet+3rRSeOitTC7ESMFrRQKOTUyFxcXFwmC7Y4RYuUbeuisW20bW+Jsp1er9epLQ0ODtLd3T2sndYj3TPNzc0QETT7/NhWLPt3om21iAiuN2rdP/va0eHuxqiK2Bdhq/vFixedBLYT3kZKyZkzZwiFQly6dMkJZ4etr69nYGDgNgF60FJo9DVtQbObFKNX5HVxcXGZLIyk3RoYGODq1auOfY211YFAgMrKSnp7e6mpqbnDpjY2NtLX13fH+SNRQRhXEbNrQkQS/OTJk047rH3c/tQ0DdM06e/v5+DBg5SVldHe3s7Ro0c5evQoXV1dVFdXc+jQIU6cOPGFDzD6t22iRdAWsocRRRcXF5fxxBaPkcK2l6ZpcvjwYT7//HMaGhoc26gi3T323x0dHRw4cMBZSPXQoUMcO3aMzs5Orl27RllZGSdOnIj5lYdjXEUsGiEECxcu5IknnnDmGkRjRoZf1tTUkJKSwoYNG8jIyCA7O5vVq1eTmZnJzJkzWb16Na2trbfNARsO+yFHlwoYRsjMEeokFyhAoikTTSmk0JFINBFCUwZC6YzmQp73jwIpkUoilQXKRCmQCqQKoZTEwg8TQNd1BbpSaNJDSAeFAegowMKL7nwzQITTPvwcxheJxMRCSYUpLZDhfahHL5WOJIaUmHoIgQdd+AGBFOEUHX8kFqCUhUk4ryoVRMlw6ioFkhDIEBYSCE2ELItAR+pBDMsAZWBhYGoaCAspNFAGSoxcLo21b4+KYRisXLmSlStXcubMmduaComMRrx16xYXLlygoKCAdevWkZycTE5ODqtXryYtLY28vDzWrl1La2srAwMDt53/MEwYEbt16xY7d+7k4MGD9Pf333Ysuk10wYIF9PX18emnn9LT0+OUEILBIHv27OHzzz93+tAeBvuBRwvZSGQAhUJTYKGDEAQGh7jZ7WeAJIT0E9JDCDX+86YUEiUsek1FZ1Cnx9SxRACpLDr7TWp6BkB6QIzUa/YomAQtL9X9PfT0BlGE0FUQNAuv6MYvoTdkMGhZ9EodS+gTopwgLIElQ9zo66P+1iADygILlJpYI0qDukGcFcRSguu9Hhr6h4AQmnj09+HREejKpCck6Qta9JmKblPHL02EVAgFljTotDwMmoKeoI4VGagwnpimYijkpU2BIoChTIKBINdu+fEriUYQMcEKM9HU19ezc+dODh8+jBkZcTgcq1at4urVq+zcudOpUNi21bbTN2/evOv5D8K4i5gtQrW1tcyePZsVK1bcNpIwOhyRxe+WLFlCaWkply9fxuPx0N3d7XjqePLJJ+9rgtxwxNbO7G0kEloJiaF0lPDy44strP3LnWz677t56/9so3pQ4THB0h48ziONUDr+kME3/uSHrP4vW/m9t3djSY2/3n+RlX/8Cc/956381j8dYNAc/xft8q1BnvubHbz2Fx+y+buf8r0DlYQ0L0J50WU83/28itV/9i5P/PE2nv+DH9Hh12AEatWPhFIMWRa/9955nv3Odjb8t3f5xt9+TO+AH0uE59ZMFHRTYpnJ/Jv39rPlu+/w/J9+yLd/eIye0DinIaCkJCgVb/2P3az6g3dZ+3s/ZPkfbOdX/nYXEg+WsDhW1cDyP/wpK/7j91jyh1vZcak+9jJjzl8fvsj6//IRz/1/H9IxoHHgRjub/2ofL/3FDn7tb3dQ328CYkRWSRyJFqRohBBcunSJlStXsnDhQojU9GxsuymEIBgMsnbtWnJzc2lsbETXdfr6+ujv70dKyfr160lKShoR2zruImYYBiUlJSxYsICWlhauXr3Khg0bIJJouq5TWlqKYRjMmzePYDDIkSNHqK+vZ9myZSxZsoSqqiqklM4S608++aSzWuqDYItW9N/R+x4FTQmCOlgS/nbHKTbMSOPj336J+s4g//vTU2hKhGsR44xCohuSP/q1r5AW56MLLw0dfv5yx1meXzWN//j6Wt6raGTnuXqkUpEm0EdPn4fh4IUGarqG+N63X2N+cS4/OXKDAaWhKYEJdPQFmJmczt/8yw387994kQyPBSPw0jwSQtE56Oe94zW8umoW3/2ljRysG+JwzS30iVYT8/qp6h1gd0Unv7p+Ef/utVXsu9JGdVO4wDieSE0HoSGDA7y6dDq/+42N+IeCzJ2WjkAiEDQPBAhJxX/7Z5v53q8/y/r8KbGXGXPeWFrEK8sK6bUCDGHxZx+dJSE5jr/79ae51Cn4+70ViPE3y3eQlJREQUEBa9eu5fz589y6dYtVq1Y5zYk+n4958+aRnJxMfn4+fX197N+/n0AgwOzZs1m2bBmVlZWEQiGmTJnCyZMnWbdu3Yh47Rn31DIMg1mzZhEXF8ezzz7L6tWrKSwsdI7ruk5RURGGYVBUVERWVhbPP/88Tz31FAkJCaSmpvLCCy84fWPPPPMMBQUFt805exBiBWskRcwUCiEkqT6N0639vH2wkn4/1N7sIeAxIn0644tAQxOCZXlZGF6QaFTVdxCQXt5aVMhrywvxGYJz9TeRdrKo8alBrpozE0sK/uN7xzhxvYdlhTNI1boJahKpB+ns7edKd4D/9LNy3jlVRz86I1LEfSQE6UlxLJrm4+OzDfz5J1fIMiyWFqWjxj1ut2PIZOYmxzEt28MPTtfxvX3XSEpJYva09HHvW9QAQ8L//I0X+fcvruR6Qxt4LN5aUwoiiBKKjv5+LNPgO+8f4692H6N3cPxbD/JTPeRkeFDSQ2d/kPrOAC/MncrGWeksyvFwuqGfENqEywvx8fFMnz6dlJQUXnjhBRYuXMjMmTOd43FxceTn55OcnMz06dPJy8vjhRdeYO3atXg8Hue87OxsnnjiCTZt2kRBQcGXQ8Rs7PkAtrJblkVjYyPnzp277bgdRo9MWD558iQDAwPcuHEDv9/v1N5Gopo6kkgBhtTw6CH+4pvPsHpWOv0yQEZyEilxGgLCHbsTDKEUPq+BwCIQlAwpMJXEownUOIkXkVr6h+cuE2eE+P0Xl/JccQq7a27Q0ucjGFCY0sfvbCrlh99cxkvLpvPe6Vr2XqxDjb+Kcamxi9Ntkl9aWcDvPF9Ad1Bj9/kGHqIFfHSRfo42tFN3y+RbK4v41lPFBHraOFY1/ukoAE3ozE/T8eka75bfZPXsdEpyUhgK6FhDiq/Mncn/+dYT/NsXllJR5+evys7HXmbMUUo58m8YAqFJBoOSfmEwFJLEeXW0EUzakSiAE3nfom1v9PythoYGzp075zihsMPZziyUUpSXl9Pf3091dTVqhNeCHJmrfAFDQ0OOfy2lFENDQ44njWAwiJSS/v5+J8HtxPH7/ZSUlBAMBh3nlnbNyDRN/H4/t27dwjRN4uLi0CIzxW0nmCrSvzU4OOi011qW5cwrG0uUAE1pQIi+7i7mz5hBovDQ3XOLV56Yh1eaGGr83dqEXzEFSkMohSDAgqJscuIsvrvnIv/5/eP4TIsnFxSja3bz1wi+dQ9AyK+hS0nzUD89AfCEApy83sLav/yQbRX1/NOxs5xrH6KzP4SpGWQkxiHkOJfGFVhmAGUN0DUQ4OaQxBCSQNAPTnpOEIQgYFkoGaJrMEDnoEmvnsyAxbiLmEIidTANnfcq6mgNmPyzVXMYCJk89ecf8LsfneTDC7WcqWnlZr8fKQfJiEuMvcw4IBBKIIUkM87L4oJ0tlVe4y8/qeBia5Cn5+fgsQJj3nVr2+Jou2nbSRWZz2tZlmNLo8/z+/3Mnz+fYDBIKBRiaGjIuYYVcdre1dWFZVkkJCQ45/r9fsem2xpgX9v+/fuZRzaqvhNlZDHLmpoaZx2Z3bt3093dzZkzZ8jKyuLSpUucP3+ewcFBTp06xZw5cxwR279/PyUlJfzsZz9jaGiIqqoqrIi7qh07dhAMBqmqqqK0tJQLFy6QlZVFbW0tlZWVdHR0kJWV5SwjcPr0aQoLC/n000+dRM3KyoLIg5BRnjrszZ4rlpycTFxcXMzdPSgCNIVlCQ5faeLjM/UM+YP81uZSXlpSjCElaNYjlyvsmqj+sL4ThUAIBaZGdUMjBVkJPD83n2VF07h4vYWBgSD/7oUlPLcgD48mwvf1kLVeO5M/bK15QUEO/gE/ByqbifMofv/FxcyZMYWaxjY2zJlO6y0/xy/fpHdwkG9vmM2LC/LwGNpDN4SNiI8/AVOSk5iamkB5dQt1rV28tWwG//ypRSRoIB6xdCpG0HeiR1pMS88gO97DiZqb3Gzt5tfWFPH15UV4HjJ7xSIe0neiUAKEwpIaH5+sIC/Fx7/evBChGVQ3tbFqeiqG7uNgVT1XG7t5aX4e//qFJST5Hr7JfiR8J2oYdHf10yf7eWXuTDaWzORmazeX69t4ZUUe39o4n3jx8O9UNHaNKLoVy94fy9mzZ7l8+TLd3d1kZGSwa9cuBgcHOXHiBPn5+Zw5c4bz58/T19fHmTNnKC4udq5TVlbG/Pnz2bp1K0NDQ1y5coVgMIjH42HHjh0MDQ1x6dIlFi9ezPHjx5k1axYnT56ksbHRWdvx008/ZWhoiAsXLpCfn8/HH3/sVFKmTp0aG93bGFXfiVJK3nvvPd544w2EEPT29nLs2DGef/55Ojo6uHDhAnFxcU4b6rZt29iyZYvTVPjOO+/wS7/0S7z//vu88cYbDAwMcOTIEVJTU8nJyaGwsJBPPvmEJ598kvLycpYvX86+ffv46le/iqZpdHR08NlnnzFnzhyqq6t5+umnOXr0KAsXLmTOnDloET9hUkpCoRChUMgpHQQCAaf2N23aNFJTU2Nv76FRgNQNhJJopomy/1YWUjyadbCNwkP7TlRgohDKhEgfkrJA1yykkFjoaAoMocEjNn8+qu9EpQ0S0uIQGBiWRCgDaUmUbmGoISzNi6l7MJAIqdCkRKE/dM1xJHwnKsCSFropCXk0JBIDgaYUoKE9Qm1MjYLvRF2F+2f8hsKQCm8QTMMMz70bAcRD+k5UgAUYpklQB4EEPOhKoZQALYiQGgIPlg5CmeiYIB6uMKpGyHeiJg08DDKoJ6CpEJqU6Hjx+0w0S+KRFhID9YiFWTsv6LruNOvZeXe4tN66dStvvvkmmqZRX19PQ0MD69at4/r163R2dhIKhZgxYwbTpk1j+/btvPrqq45P23fffZc333yTd999l6997Wv09fVx5MgR0tPTyc7OdioPGzZsYN++fbzyyit89NFHvPnmmwghqK6u5syZM+Tn51NRUcHXv/51du3aRWlpKXPnznXifzceLaXug2j1txNWKYXH43HmGdj+uaIjGv091k+ijCwNYB9TMSMJ7bBSSrKysiguLub5558nOzub1157jcHBQXbs2DFiL/qDIgCPFUSXEiF0PDKI1Kxw6XLcUQgRLjGGPwWaAWgCTRh4ERhoY5F1vhDNTCUupGFY9qhOE02XeJRAihQMqZMYNPEGQTd1FN5xj7eAcLOhFzwIfOjoaCjNg3gEARsNLKFhiXC/qNdUCAlBj4k2asXe+0egwoNLhIGOjhAGhhBoQkPpIIQHoetIPfzENXQUDz5ieaSRmmLAY+A1NTQs0BRBPYgR1NEtgxDx4fmM44RtY6OFzy7o+3y+2+ywjV0PsmvU9nGlFF6vFxXlgJ3I+Ab7HBFZ4mbGjBkUFxfz2muvkZSUxJYtWwgGg+zcufMLWxVG/Y2eOnUqx44d4/z58yQmJhIMBqmoqODQoUOUlpY6CWULHFHNe/aNRyekruvMnTuX06dPU1FRQVNTk3MNgFmzZnHgwAEqKipISUkhEAjQ2NhIc3MzMtK8aT+g2Idhc69jI4Uk3KylhMIUBprUsR6xlD8iCIGOQGhhgyCEQENDYCDQQeigaQ9bmRlRlGYiBQhlROZeh/vzpACBhRICU9MxNYHUFGE3I/d+IcYCAxB4EEJztoevH44eupKAxIpMbBeApgyUGJla2KMRzqfooAuBTnhwFIJwzTZc/EKPGLmxeKfvDwvd0rD0EIrwiGRN6SBUuN8cGamVjy3Tpk3j6NGjnD17luzsbG7evMm5c+c4e/Yss2fPvq0FQtf12/qq7GOxQlVUVER5eTkVFRU0NzejolYQyczMdI7NnDmTlpYWbt686djp8vJyRzC/6LmNenOiUorOzk6EEGRmZmJFVllOTk4mKSnpNnf9wcgimSJSi/L7/cTHxzM0NOTsDwaDeL1e+vv7GRwcJD09HcMwMCNLtggh6OrqcuYj2L8XFxdHRkYG3d3dDA4Okp2d7SRodHOi3ZQYvY10c+JoIh61OXEMedTmxLFmJJoTRxO7IDiSzYmjjXjI5sSxRo1Qc+JYYeeF+21OlFLS2dmJUoqMjAxUZHWRzMxM4uLiCEXWVbRtsG2PVWQgncfjIRgMEh8f79hTj8dzm53WdZ1QKOTM4W1vb0fTNEcXWlpaSElJISkpid7eXgYGBsjJyflCWzaqIjZS2J3/0dVQy7Ic8XtQ7GvYAmYnummajnANDQ2NWp/YaOKK2OjhitjI44rY6GDnBcMwnClH9xKx0cS21aP1u2P+Rtq1s+iXLHqfiurbsr8fOnQIKSXt7e1YlkV/fz9nz55FDbMOWOwWe637wc4A0ZuLi4vLl5loW2lv0cdibWqszbb/tiyLnp4e/H4/oVCII0eODHtu7HnR3x+EUR1iPxw3btygu7ubyspKUlNT8fl8dHd3c/bsWQKBABkZGfj9fs6ePUtLSwsZGRlO9fWDDz5gcHCQqVOnopSitbWVzMxMAKqrq8nMzOTatWtUV1eTnJyMz+ejubmZiooKLMsiIyPjtrjEJpyM8lxv/y2lJCUl5aHcWI0H4lGH2I8hdhpPlkLCwwwFH2vECA6xHwvEQw6xHw9GYoj9WGLXvmL7lu6W1iLSjVNbW0tzczP19fVkZWVhGAYNDQ1UVlaSkpKC1+ulrq6OCxcuUFdXR2JiIoODg1RUVNDX10daWho7duygubmZ1NRUdF2nu7ubpKQkDMNw7HNTUxMXL17E6/WSkJBAZ2cnZ86cYWBggClT7t9F2JjXxKqqqujs7KSoqIidO3cSjHifLyoqoq2tjcuXL3PkyBGys7PJzc1FCEFlZSXx8fEkJSWxYMECgsEgNTU1tLa20tbWxsDAANeuXePy5cu0t7dTVFTE3r17CQaDHD16lLlz55KYmHhfL3b0g58sYuAytpiWZH9FLXvOXmPP2Wt09d972R8Xl/HAtmV3E61YVGRk98GDB0lKSiI5OZkjR47Q1NREVVUVxcXF7N27l+7ubioqKpg7dy6NjY2kpKRgmiazZ8/m2rVrdHd3Ex8fT3FxMUlJSVy6dAm/309NTQ1SSs6fP09HRwcXL15kzpw5HD9+3PG1OG/evAfuuhlzESMygjAnJwev10tHRweZmZlMmTKFBQsWcOPGDRYsWEBFRQUNDQ3OXAR7qeu0tDTnwSxevJiqqiouXbrEwoULqaurY9GiRWRnZ5ORkcHAwAAzZszg2LFjhEKhYR9mdOkkWsCiSzC2kNlhJvJmE1tln4jbZElTe7PTtXfQT1nFDQAq69u51hzuEB/vzY5fbLwn+hZ7HxN1i433eG6xRO/7ouNfRGpqKvn5+eTl5TE0NER9fT29vb2cOnXKmcTc19fH5cuXycjIQNd16urqOHXqFG1tbZimSWJiotPSBjB37lyuXr1KXV0dhYWF1NfXU1paSmZmJvn5+bS0tFBSUsLRo0fp6el5oCbFMR/Y8dlnn1FSUsK0adN47733eOWVV9i9ezevvvoqdXV1tLS0OMuxHD58mOnTp3Pq1Cneeust3n//fV5//XW6u7s5ffo0zzzzDNu3b0cpxcsvv8zJkyfJzc1l5syZbN++nc2bN+P1ejFNk23btvGNb3wDol706DZc20tHKBRy3KcEg0Fn9KQd3t54wIwxVtj3NlmYbPEF6A+Y7LzUzptLczlcc4upKT6KsyeCS6MwkylN3bjeP9FCGt1SZG/2gC494tvQHtRhF8ht7nYPthTYdnZoaIiysjIKCwvp7+9n2bJliEihY8eOHaxYsYKsrCxM0+Tjjz/mjTfeYPfu3SxdupSqqioWLFhAWloan3zyCV/96lcdLyAvvvgiDQ0N9Pb2snz5csrKypg3bx7Z2dkopRwHGfb84S9izEVs165dqIifrpkzZ7J48WLOnTvHzZs3IbIeWG1tLfX19ViWxTPPPMOZM2dYv349p06dor29nSeeeIIbN26wePFiqqurGRwcZOnSpQSDQfbv349SiilTprB48WJ27dqFEIKsrCxWr17tPASb6H4w+zNawOxPK+LrMbYT0uXxYyBosb+ml5fnp3OyoZ/sRIPCjIfzBOHicr/YQmSLmC1khmHg8Xjwer1Oi5UtZtEidj+CIKXk8OHDrFu3jmAwyMWLF1m6dCn79u1DSkliYiJz587lyJEjeL1eBgcH2bRpE6dPnwbA6/WyaNEihoaGKC8vZ+XKlTQ0NLB69Wpu3rxJdXU1Tz75JETcVQWDQRITE1m/fj1lZWX4/X7i4uJ4+umn7yu+jIeI7dixgw0bNpCYGC652qJiR8OOuL1fRGpAWtTweiKJHb0v+obt86I/ox9i7HVsIYutkdmf9jFXwFyIiNjOS+28sWQqR2q7mJrioyjrF45NXVxGEtvWDCdido3L4/E4n/bfetTQ+vsVMUtaKKkQApT6xeohUkrn/KNHj5KVlUVOTg6nT59m7ty5zJgxAxU1sjDWHtu2OtoWR1+TiC22vz/IWIQxF7GrV68yY8YM4uPjYw+NKfZt2wlvb9E1smgRiw43xknmMsHoD5h8fL6Zb6yayYHqdnJT45iTkxwbzMVlVIgVMbsp0a6VxTYjRvfp3wsFKMui17RIEmDcZa2vQCDA+fPnGRgYYObMmRQWFiLu0lc3Foy5iNk/N143bBMrYvanXeOKbmKMFjm7NOHy+NLnD/HBqTr++fpi9l26ybS0eOZPS4sN5uIyKtiCEV3TsoXLMIzbxMs+bp93L0LKZGAIfnL8BP/qqbX49OHD2zZwuNrWeDDmIjZRiBax6C1WtKK/RyeVK2aPL71DQd45XsO/2jSfXRUNzMhIpHTG7XMQXVxGmmiRiBYnW7Cia192k539d6zoDEdIKf7wg3PEefz8wcurMCaYQ+q78diLWPT3aBGL/R59jv3d5fGkZzDATw9f4Tc3L+LTM9eZmZXMwpnhtelcXEYTuxY23GaLGJE+JXu/fd5wSPxIPGDB35ZdZMAvKUz18saa2Xj04ZsTJxquiMV8jxYwe4sVrdhzXR4vugf8/HD/RX775RVsO3mV/OwUlhTmxAZzcRkVYsUpdiNmEEj0ZywhpdBlgB+dqEVqFr6QRWlxAQtykjC0ibBawRfz2IqYTfTt26IV/T1awB7zpHKJ0D3g5+92nuFr60s4dKmehflTWDrr3qvPuriMJNGiFCtg0fuivw9HSEp+cqyKQSX4l2vz+YttFfzbl5eT6PGEl7qZBDz2ImYzXDLEipi9z+XxZiho8s7hSkwrnDc2L5lFXvaDucpxcXkUYgUqVrSijwFIFAqFhiKEjtdS+IG3j5zDo8OvPLEYzVL80bZz/PEbJQjhQ3vEldvHClfEItwtGe6238XFxWWiMJyAcdt+iSK8sKmSJj0hwff2lDMjZypvLMnD8ni42tbJ4Ss3+Y11c0HTEePjlfCBcUVsGEYjSWzPIjk5OUydOvWOTGf3xdkjiaSUdHR00NzcTFJSEsXFxWMyhFUpxYULFzBNk8LCQtLT0+84bn/KqAnn169fp7e31/GFNhZYlsW5c+cAKCkpuWPuoYqZRG/Xqu245ubmkpube9s5o4FSiv7+fq5cuYLX66W0tPSekzntvCCl5Nq1awQCAXJzc8nOzh71PKCUore3l9raWgzDoKSkZNi4WpHVB+w8K6WkoqIC0zQpKSkhISHhjjw+GjQ1NdHS0kJycvKw74idB+y8qkUW362srCQYDLJ06VK8d5kPNdLU19fT3t5ORkYGhYWFsYeduNppCtDV1cX169cRQrBs2bLYU4blznRXKCRC6vgFNN0a4G/2nOSN1XNZm5+GFHFo0uIHhypZXTqTksx00LDXyp7wjO4b8RgSbTjtTyLe+23/YMNRVVXFO++8w89//nP+/M//3BGE0tJSzp8/P0zGfDSi4xgdZ4Br166xcOFCUlJSos4IY4vB9u3b2b59O++//z4ABQUFLFiwgJMnT8aeMmLExlUpRX19PQsXLrzrUjmNjY38wz/8Az/96U85ceIEAPn5+cyZM4dTp07FBh8RbKMZHdfW1lY8Hg8lJSX3fJZSSn784x8zNDSErusUFRU5nr5Hg+g0VZFh2PayRvPmzbtDFGwOHTrEBx98wNtvv82tW7cgUpCwLIubN2/e8x4fhuj8Gf33mTNnKC0tZdasWcP+pmmafPjhh3z88cds3boVy7LweDyUlpbS0dHB0NDorEBgp6ddcFJKce7cORYsWEBeXl5scIi8WzU1NXznO99BRrxXpKamsnDhQmpqamKDA2CFpygzFLRQkb/DW/h/qSRShpeWCliSj89d5h/2nOR3v7KKdXlTUSoOAQRQXGkLMSc1jqB2u2u+ic7wOfQxRwwz4ud+NoCOjg62bdvGz372M7q6uhzDoGkacXFxeDweZw5H9LZgwQK++c1v8swzz1BSUkJaWhper5e4uLhhwz/qpiLLj2/bto13332Xvr4+55hhGI4PttjzAE6dOsXMmTPZsmULr732GiKyJpS9ZPlIb0SE9f333+eTTz5xagGapjm/Gz2kOHpramrihRde4Otf/zpr1qxB13XHx9yjPOt7bVVVVbz//vvs3r3bMWL2RFTbs0LsOSJSONi/fz+dnZ3OOfZzIDLiLPacR9lM0+T48eP8/Oc/58SJE1iW5fyOHde7/eb69ev56le/ypYtWzh48OAX5u9H2Yis5XXo0CF+8pOfOOsD2se9Xu9df1fTNL7yla/w6quvMmXKFFpbWxFC4PP5hs3fj7rZcT1w4AA//elPqa6uRkW1sNhpFHueiLyTs2bNYsGCBY6I2e/i3fKMMBUXG2/x4+NnAYEUAmkLvZKYKPwKjtf18H+/dwCf8PBfv/YUOUnxCEND0wClqOsNMS0FdN1HHKBPkv4wXBEbeUzT5JVXXuH1119n27ZtsYch4rZl79697Nmzh927dztiR8RB8ssvv+y8EKOF/RK88sorvPTSS3z44YexQQAYGBhg165d7Nmzhz179jAwMEBtbS2NjY28//777N+/P/aUEcUuzSYmJvL6669TWFjo1KhiwzU3NzvxPHDgADLiRuzgwYNs3bqVzz//PPa0EUcpRWpqKm+88QYJCQlUVVXFBgGgoaHBievhw4cxTZNLly5hGAYFBQVOTW40kVJSVFTE1772Na5evUogEIgNAkBlZaWTX8+fP+8UzLZt28bf//3f88wzz4x6XC3LoqSkhLfeeotTp045ghuNUorz588779WlS5fQNM1pZm5ubr5jYdyRRkWcmy9ZsoS33nqLsrKyYd9lKSUHDx508kBDQwNaZNKyXfC5F/Z7Udnewzf+7jOmTslFScKbAlNKbvb52XbqOr/785NUNrfyJ2+u5eWF+ehR8RFKEtQEn5+u5oWls+9a857ITL4YT2BUZLXpHTt2cOrUKfx+f2wQiKwQvGHDBjZu3MimTZtITg773bMzpoiajT9aWJZFbW0tu3fv5syZMwSDwdggAPh8PjZt2sTGjRt58skn8fl8BAIBli9fzptvvklXVxcDAwOxp40oSikqKiooKyujqamJ7u7u2CAopcjOzmbjxo089dRTPPHEEyilWLt2Lb/8y7/M1772NWpra+/LQDwKSilOnz7NoUOHaG1tpaura1gjNn36dDZu3MjGjRtZvXo1/f39/PznP6e7u5tTp05x6NAhrIjPztHCNE3Kyso4fvw4t27dumt+nTt3rpNfS0pKkJH+pVdffZUXX3yRQ4cOxZ4yoohIrXHv3r2Ul5fT3t4+bLoopZg/f76TrnPmzHHOP3DgAAsXLnRqtaOFUoqhoSF2797NkSNHhs2rNmvWrHHiOnXqg0/RGBjy89s/2kfLYDIfHb/En3x8gj/9pJz/uu04f/rJSbaeukZaMvy3N5fyr1YXk2JoCE0gxC/mkSk0UH5udPZSlJU6bF6d6IyupXwMKS8v58UXX6S4uHjY0iKR5hqfz3ebx2mAW7duOd79RxshBBcuXGDz5s3MmjXrrnG1mzPsZjvDMFiyZAl1dXUopRgcHMTj8cSeNmKoiNeUpqYmNmzYQFra8D4K7aZFT2RJCrtp88qVK1hRfjBH+yUdGhqit7eXNWvWkJycjIy4LoslOr4ej4e0tDS+853v8Oqrr7Jy5UqefPJJp7lrtLh48SLFxcWsWrUKTdOGjSeRPBCdXzVNcwbU5Ofn31WoRwopJUePHmXFihUsW7bMaZqLRdM0J6/azbBKKXbv3k1CQgKlpaWjXjgUQnD48GE2bNjAihUrYg87xD5/j8fj5FO7BSEUCsWe5iCEIDkxge//+nP82vrpBPwD/PbLq/gPL63gP21Zw/+zZQ2/8/QinptbTIIvAc3woQkDIfTIGMUwSinKq2+xuGAqunZnmk4GRveJPmYIIdiwYQMHDx6ktraWzZs333bsXk1ESil0XWflypW37btb+EdF0zTWrVvHgQMHaGxs5Omnn77t+L1+e+HChQAcPHiQ1atX4/V67xn+URCRPo/oNYwWLFjgHFfDzOWzEUKQkJBAWVkZZWVlTv+d/RxGw/DGx8czc+ZMjh49Sk5ODkVFRXf8zt3SSYuMnlu0aBE+n++u4UaKJUuW0NHRweHDh1mzZg1JSUm3Hb/b74tIS8HBgwcpLy/n9ddfh3uEf1SEEDz55JNcvXqV48ePs3HjxttqVHbeG+73TdOkt7eXnp4ePv/8c5qbm28LO9w5j4IQgqeffprz589z6tQpnn32Wef5i5hlp4bj4MGDeDwepyb/ReHz0lL401cX8e9fW0/AHyBe1/AIcMaTimjJujO/K6n4+EINLy2dCcOXYSY87hD7MWLv3r0kJyczbdo0pk+ffl8lwqamJpqbm+ns7OT555+/wxiOBkopPvroI3Jzc5kzZ8599yFUV1fT2dmJaZps2LAh9vCoYFkW27dvZ+rUqSxevJiEhC9e00tKSXV1NV1dXXg8nnuWlkcKFRlEU1FRQXZ2NosWLbqvZi3Lsrh06RKDg4MYhuGsrDva1NXVUVtb64yMu5+atpSS06dP09bWxooVK8jJGRs3XOXl5YRCIdLS0pg/f/59pU8wGOT06dM0NTXx4osvjknrh5SS48ePo+s6GRkZzJ49OzbIsHR0dHD9+nUaGxt57bXXYg9jYaJJA4WFJgBx53SIe1HR0sXBc1f5zedXoKMe+PyJgCtiY0R0Mt/Pi2YTXWK8H+F7VGKzw8PE9UHOeRQeJk1VVA0s+u/R5mHS9WHub6Sw+2Z5gN9+mHt8VOxneLdnaVqKS40NpGZkMzNeD1dGhI7UFJq6v3W2RopHeT/udn9KgVAKSwtPTb4zxJ2YSISUWEj+64cn+L+eW0Vqio94GQLtiwssE43Rt4ouEMm49vYg2OeMhYARE8+HjetY8TDxjA77IOc9Kg+Trg8afiTRooar3y8Pc4+Piv07d/s9IeH/HLnOS9/9lLfPX6ddalho6OoXw+vHikf5vbudJwSgCW7v6bo3QgkUkstNfWQkJ5AdH3ZHpcQXtw5MRMbGMrq4uLiMA5YGx2p78AdCvFd+g90nLqBk2AXTY4tSWOj8+PApfvWpRWgehReBEpMzVVwRc3Fx+dLS3NvH2qleyv7gDRZmJTIgvZgyhCSEpWR4XlV4enDsqV8+JEhAqCA7Ljazumg6aR4dkziEAo3hB0hNdNw+MRcXly8tLf0DJHh8JOkaIRGkvKaVnx27zr/YNJeF0zMwlBbuB9KiRvR9GVFhD4pCSRoHAvzlp8f4s9c2IbwS7yRtRrRxRczFxeVLi1QKocLGW2kCqTT6LMnb+8/R39vHr72wmqlxAkPzgPYllTEV/s8kiCUN/uTdI/zK84spSE3Fo5kIXBFzcXFxmZio8IiH8IdCYWFJDWEpKju7+dmxKkpy0nhz1XzijHDvilDhyVXhFbgmy4Ikd0cBSgWRSuPnp2pJ0AQvLcnHoxljNmBsNHFFzMXF5bFEIglJyZ6qeg5WtfCVkhk8UTwFw1AozRdeisRU6BFxm3RELLtUCqVCnK7vYe/Fq/zey2tu85842XFFzMXF5bFEApoVQlqSQQQ/O13D1cZ23lpTyqJpaegigEkc3knk0f02VGRFZyWp7ejj+59X8HtbVpES70Wb9PXLX+CKmIuLy2OJRKIQKCUxAR/QOhji3SNn6ezzs2XdUhZlJaHfh3eVCUfEqgeVRVNPH/9rx1l+f8sqpiQagC88v+xLgitiLi4ujyXhHq9IhxkKhESpsHWv7wvyw33HQQi++eRKZiZ70DRQugcdRXjVLjGheswUFkJpSCGwpERXksaeXr67/Qz/6bU1TEn2oQk9MkP6y4MrYi4uLi5RKClBCYLKpMsf5Id7TzIoPXx9TSlzcuJRmgepBLoAfQKJGApCQqJjgqU419rLP+69wh++uZyp8XFj5rpurHFFzMXFxSUKCVgoNKzw0HwlaPVLth6+SGP7AFtWF7M8P5N4wwjXbCYI4dGUFn0m7Kq4waWaVv7DliXEax50I7yS+ZcRV8RcXFxcYrFH9kX+EFKhhGRASrafa+DE5RpWFk3nK0tmk+rVkGjoQsMUCq+IDMxX4Ssw4gNDIg2hym4JtZBoSIJ09Uv+ZucxFuVP45VVs/EoLezzWPtyNSFG44qYi4uLy30SQmFYJgFLp6q1iw9OXkFIk+eXzGJJfi4JCJQn4lkfgeTBnPN+ESqyaUqBsggJDV0GGDAFn56q4+DNa/zupjVMS4/Hq8XHnv6lxBUxFxcXl/skbC0tQkgUGl4kbYMmOy82cO1WF178PDdnHqUz04gzBEJKdN0XHkAyAtheHjWpCGAyFLL4pKKVq/U3WVE8ha/MKUCLUwgpEPpI1wAnJq6Iubi4uNw3Fgo94knXQgmBkqCpECiDlgGTvVXXqe8cxBzspmBaFs8umE1WchxejfCoRgUqsvqXUOFqWuTD4baRk0KBEOFamApP0K682c/OcxVI08vqOdNYP2cKXgEILzoaliYn1qCTUcQVMRcXF5eRRClMGaRfGZy/0c6p2gaGQpKQKUlMiKcwO5UlM3LISdERhoFXSTxKR2lhoRJhw4wUCr9SBCxFQ1sfZ2uaaOrqx9IFU5ITeHlRAdPTkiCy/tvjiitiLi4uLiOMUla4PiUlSlNIpWEpQWe/ycXrTVy/1Utn3wBeTUPz+LCEBdKDILxwptSCSCWQoSDSgtyMdJYWZDJ7WjpxQqErkHjRtXDtzBUxFxcXF5cRQ6nwZGglBWgSgUAqgcACAVa4bRANwpOTAUMQFj5FeECICg/gUCiEpmEJAUphKB1Ll0AQA98IDhuZnLgi5uLi4jLiRHd2hU1suJfLNrdfIDyxnWTOTsLiONzhxxRXxFxcXFxcJi2Pb0Oqi4uLi8uk5/8Hq8ch9Fc4JLgAAAAASUVORK5CYII=)"
      ],
      "metadata": {
        "id": "6FCCybpuwXXy"
      }
    },
    {
      "cell_type": "markdown",
      "source": [
        "# Indices Enteros"
      ],
      "metadata": {
        "id": "Clmjygp2wv2M"
      }
    },
    {
      "cell_type": "code",
      "source": [
        "ax=1\n",
        "ay=4\n",
        "a[ax-ay]"
      ],
      "metadata": {
        "colab": {
          "base_uri": "https://localhost:8080/"
        },
        "id": "WW-cGVHPwzkm",
        "outputId": "2e880e36-98af-4c35-98b8-e487dc35c764"
      },
      "execution_count": 28,
      "outputs": [
        {
          "output_type": "execute_result",
          "data": {
            "text/plain": [
              "7"
            ]
          },
          "metadata": {},
          "execution_count": 28
        }
      ]
    },
    {
      "cell_type": "markdown",
      "source": [
        "# Cambiar de elemento"
      ],
      "metadata": {
        "id": "CRdktk8Nw-fL"
      }
    },
    {
      "cell_type": "code",
      "source": [
        "a[3] = 7.2\n",
        "a"
      ],
      "metadata": {
        "colab": {
          "base_uri": "https://localhost:8080/"
        },
        "id": "8lTjYHj3xBZ5",
        "outputId": "9650bae1-fdee-4300-cc83-411d6c3750db"
      },
      "execution_count": 29,
      "outputs": [
        {
          "output_type": "execute_result",
          "data": {
            "text/plain": [
              "[9, 10, 8, 7.2, 8, 8, 7, 5, 10]"
            ]
          },
          "metadata": {},
          "execution_count": 29
        }
      ]
    },
    {
      "cell_type": "markdown",
      "source": [
        "# Añadir elemento a una lista vacia"
      ],
      "metadata": {
        "id": "P5rXNrpkxcBd"
      }
    },
    {
      "cell_type": "code",
      "source": [
        "mi_secuencia=[]\n",
        "for numero in range(-2,3):\n",
        "  mi_secuencia +=[numero]\n",
        "mi_secuencia"
      ],
      "metadata": {
        "colab": {
          "base_uri": "https://localhost:8080/"
        },
        "id": "CoKJ3SYhxjRB",
        "outputId": "21922f8e-703a-4cc8-d5cf-271d25ae903f"
      },
      "execution_count": 32,
      "outputs": [
        {
          "output_type": "execute_result",
          "data": {
            "text/plain": [
              "[-2, -1, 0, 1, 2]"
            ]
          },
          "metadata": {},
          "execution_count": 32
        }
      ]
    },
    {
      "cell_type": "code",
      "source": [
        "letras = []\n",
        "letras += \"Porejemplo\"\n",
        "letras"
      ],
      "metadata": {
        "colab": {
          "base_uri": "https://localhost:8080/"
        },
        "id": "9pidlKTQyayg",
        "outputId": "e1a242cf-2761-4a28-b20a-65a969392b05"
      },
      "execution_count": 33,
      "outputs": [
        {
          "output_type": "execute_result",
          "data": {
            "text/plain": [
              "['P', 'o', 'r', 'e', 'j', 'e', 'm', 'p', 'l', 'o']"
            ]
          },
          "metadata": {},
          "execution_count": 33
        }
      ]
    },
    {
      "cell_type": "markdown",
      "source": [
        "# Concatenar dos listas"
      ],
      "metadata": {
        "id": "_IwerMhRy1IA"
      }
    },
    {
      "cell_type": "code",
      "source": [
        "A = [\"Patricia\" , \"Mexico\",\"F\" , 2020]\n",
        "A"
      ],
      "metadata": {
        "colab": {
          "base_uri": "https://localhost:8080/"
        },
        "id": "lT0EvSWiz8Lt",
        "outputId": "a3043bc6-986e-42ad-d34e-373a59dc8ced"
      },
      "execution_count": 38,
      "outputs": [
        {
          "output_type": "execute_result",
          "data": {
            "text/plain": [
              "['Patricia', 'Mexico', 'F', 2020]"
            ]
          },
          "metadata": {},
          "execution_count": 38
        }
      ]
    },
    {
      "cell_type": "code",
      "source": [
        "b = [2125,33,22,45,36]\n",
        "b"
      ],
      "metadata": {
        "colab": {
          "base_uri": "https://localhost:8080/"
        },
        "id": "tHGjRMXiy5ML",
        "outputId": "1bf2d8c3-75a1-4ed6-b912-21a202643723"
      },
      "execution_count": 36,
      "outputs": [
        {
          "output_type": "execute_result",
          "data": {
            "text/plain": [
              "[2125, 33, 22, 45, 36]"
            ]
          },
          "metadata": {},
          "execution_count": 36
        }
      ]
    },
    {
      "cell_type": "code",
      "source": [
        "Lista = A + b\n",
        "Lista"
      ],
      "metadata": {
        "colab": {
          "base_uri": "https://localhost:8080/"
        },
        "id": "Mqs1HZkByzoe",
        "outputId": "5ea3f3a0-0880-4e7d-912a-b8e85a1a68d4"
      },
      "execution_count": 37,
      "outputs": [
        {
          "output_type": "execute_result",
          "data": {
            "text/plain": [
              "['Patricia', 'Mexico', 'F', 2020, 2125, 33, 22, 45, 36]"
            ]
          },
          "metadata": {},
          "execution_count": 37
        }
      ]
    },
    {
      "cell_type": "code",
      "source": [
        "for i in range(len(Lista)):\n",
        "  print(f\"{i}:{Lista[i]}\")"
      ],
      "metadata": {
        "colab": {
          "base_uri": "https://localhost:8080/"
        },
        "id": "QUbTMboCzVZ5",
        "outputId": "3f9a35c2-e12d-405d-be68-e5513dfaa5bb"
      },
      "execution_count": 39,
      "outputs": [
        {
          "output_type": "stream",
          "name": "stdout",
          "text": [
            "0:Patricia\n",
            "1:Mexico\n",
            "2:F\n",
            "3:2020\n",
            "4:2125\n",
            "5:33\n",
            "6:22\n",
            "7:45\n",
            "8:36\n"
          ]
        }
      ]
    },
    {
      "cell_type": "markdown",
      "source": [
        "# Tuplas"
      ],
      "metadata": {
        "id": "9A-NPraE0kaB"
      }
    },
    {
      "cell_type": "code",
      "source": [
        "datos_clientes1 = ()\n",
        "datos_clientes1"
      ],
      "metadata": {
        "colab": {
          "base_uri": "https://localhost:8080/"
        },
        "id": "aTedOg4i0mYF",
        "outputId": "2a34c5b4-6d09-4699-eff8-15d08ef2a6f2"
      },
      "execution_count": 42,
      "outputs": [
        {
          "output_type": "execute_result",
          "data": {
            "text/plain": [
              "()"
            ]
          },
          "metadata": {},
          "execution_count": 42
        }
      ]
    },
    {
      "cell_type": "code",
      "source": [
        "len(datos_clientes1)"
      ],
      "metadata": {
        "colab": {
          "base_uri": "https://localhost:8080/"
        },
        "id": "-z3o5I7i1Qdu",
        "outputId": "725f0987-800b-4ce2-f928-15baf2ac9caa"
      },
      "execution_count": 43,
      "outputs": [
        {
          "output_type": "execute_result",
          "data": {
            "text/plain": [
              "0"
            ]
          },
          "metadata": {},
          "execution_count": 43
        }
      ]
    },
    {
      "cell_type": "code",
      "source": [
        "datos_clientes1 =\"Paty\",\"F\",\"23\"\n",
        "datos_clientes1"
      ],
      "metadata": {
        "colab": {
          "base_uri": "https://localhost:8080/"
        },
        "id": "XOshSCET0hIr",
        "outputId": "57efc574-9310-481a-b095-f3fa5ca42d53"
      },
      "execution_count": 44,
      "outputs": [
        {
          "output_type": "execute_result",
          "data": {
            "text/plain": [
              "('Paty', 'F', '23')"
            ]
          },
          "metadata": {},
          "execution_count": 44
        }
      ]
    },
    {
      "cell_type": "markdown",
      "source": [
        "# Llamando a una tupla de manera individual"
      ],
      "metadata": {
        "id": "RzxyeOsb1mZO"
      }
    },
    {
      "cell_type": "code",
      "source": [
        "print(datos_clientes1[0],\"nacio en el año de \",2021-int(datos_clientes1[2]))"
      ],
      "metadata": {
        "colab": {
          "base_uri": "https://localhost:8080/"
        },
        "id": "DQofcguf1rQN",
        "outputId": "2bd1b7b7-02fb-46af-fef1-459737038bb1"
      },
      "execution_count": 51,
      "outputs": [
        {
          "output_type": "stream",
          "name": "stdout",
          "text": [
            "Paty nacio en el año de  1998\n"
          ]
        }
      ]
    },
    {
      "cell_type": "code",
      "source": [
        "complemento_info = (\"Feb\" ,\"1998\")\n",
        "datos_c1 = datos_clientes1 + complemento_info\n",
        "datos_c1"
      ],
      "metadata": {
        "colab": {
          "base_uri": "https://localhost:8080/"
        },
        "id": "ZHYV4EA-1U0o",
        "outputId": "064aadd7-f50b-4176-e66f-15fea6e5afa9"
      },
      "execution_count": 52,
      "outputs": [
        {
          "output_type": "execute_result",
          "data": {
            "text/plain": [
              "('Paty', 'F', '23', 'Feb', '1998')"
            ]
          },
          "metadata": {},
          "execution_count": 52
        }
      ]
    },
    {
      "cell_type": "code",
      "source": [
        "primera,segunda = \"va\"\n",
        "print(f\"{primera},{segunda}\")"
      ],
      "metadata": {
        "colab": {
          "base_uri": "https://localhost:8080/"
        },
        "id": "E0HM2IBq2yZa",
        "outputId": "806122c8-7d46-4e3c-8e20-379ddfb8c227"
      },
      "execution_count": 54,
      "outputs": [
        {
          "output_type": "stream",
          "name": "stdout",
          "text": [
            "v,a\n"
          ]
        }
      ]
    },
    {
      "cell_type": "code",
      "source": [
        "Estatura,Peso,Temperatura = (1.8,69,37.5)\n",
        "print(f\"{Estatura},{Peso},{Temperatura}\")"
      ],
      "metadata": {
        "colab": {
          "base_uri": "https://localhost:8080/"
        },
        "id": "4V5GAQjA3DI4",
        "outputId": "129a716e-9d2b-4ba5-a258-db94a7a8fab9"
      },
      "execution_count": 55,
      "outputs": [
        {
          "output_type": "stream",
          "name": "stdout",
          "text": [
            "1.8,69,37.5\n"
          ]
        }
      ]
    },
    {
      "cell_type": "markdown",
      "source": [
        "# Acceder al valor indexarlo"
      ],
      "metadata": {
        "id": "l6lz1JBh33wb"
      }
    },
    {
      "cell_type": "markdown",
      "source": [
        "## La funcion enumerate recibe una lista o una tupla que contiene dos elementos un indice y un valor"
      ],
      "metadata": {
        "id": "IzuwF1Tu5DPQ"
      }
    },
    {
      "cell_type": "code",
      "source": [
        "estudiantes = [\"Hugo\",\"Paco\",\"Luis\"]\n",
        "list(enumerate(estudiantes))"
      ],
      "metadata": {
        "colab": {
          "base_uri": "https://localhost:8080/"
        },
        "id": "B2rur4aZ3-O8",
        "outputId": "28112c5e-6e06-4067-a4aa-7545f6f3551b"
      },
      "execution_count": 56,
      "outputs": [
        {
          "output_type": "execute_result",
          "data": {
            "text/plain": [
              "[(0, 'Hugo'), (1, 'Paco'), (2, 'Luis')]"
            ]
          },
          "metadata": {},
          "execution_count": 56
        }
      ]
    },
    {
      "cell_type": "code",
      "source": [
        "tuple(enumerate(estudiantes))"
      ],
      "metadata": {
        "colab": {
          "base_uri": "https://localhost:8080/"
        },
        "id": "aEgxfTOC3c4u",
        "outputId": "bc1b4fd7-8527-4f9f-e543-9e3b0b5350f7"
      },
      "execution_count": 57,
      "outputs": [
        {
          "output_type": "execute_result",
          "data": {
            "text/plain": [
              "((0, 'Hugo'), (1, 'Paco'), (2, 'Luis'))"
            ]
          },
          "metadata": {},
          "execution_count": 57
        }
      ]
    },
    {
      "cell_type": "code",
      "source": [
        "for index,valor in enumerate(estudiantes):\n",
        "  print(f\"{index}:{valor}\")"
      ],
      "metadata": {
        "colab": {
          "base_uri": "https://localhost:8080/"
        },
        "id": "XzPQ7hO55yOB",
        "outputId": "699db0a0-845a-4fe3-e19c-743d589e176b"
      },
      "execution_count": 63,
      "outputs": [
        {
          "output_type": "stream",
          "name": "stdout",
          "text": [
            "0:Hugo\n",
            "1:Paco\n",
            "2:Luis\n"
          ]
        }
      ]
    },
    {
      "cell_type": "markdown",
      "source": [
        "# Separando secuencias , seleccionar subconjuntos"
      ],
      "metadata": {
        "id": "rj5YUmOB7Rpj"
      }
    },
    {
      "cell_type": "code",
      "source": [
        "potencias2 = [2,4,8,16,32,64,128,256]\n",
        "potencias2[3:5]"
      ],
      "metadata": {
        "colab": {
          "base_uri": "https://localhost:8080/"
        },
        "id": "BlPqr8OS7XB0",
        "outputId": "f51dd709-a883-4a68-c8d5-d1d3fe68cea0"
      },
      "execution_count": 67,
      "outputs": [
        {
          "output_type": "execute_result",
          "data": {
            "text/plain": [
              "[16, 32]"
            ]
          },
          "metadata": {},
          "execution_count": 67
        }
      ]
    },
    {
      "cell_type": "code",
      "source": [
        "potencias2[:5]"
      ],
      "metadata": {
        "colab": {
          "base_uri": "https://localhost:8080/"
        },
        "id": "qwimW0_87kfE",
        "outputId": "d9756753-d769-42e8-c169-6440a8f8fda6"
      },
      "execution_count": 68,
      "outputs": [
        {
          "output_type": "execute_result",
          "data": {
            "text/plain": [
              "[2, 4, 8, 16, 32]"
            ]
          },
          "metadata": {},
          "execution_count": 68
        }
      ]
    },
    {
      "cell_type": "code",
      "source": [
        "potencias2[3:]"
      ],
      "metadata": {
        "colab": {
          "base_uri": "https://localhost:8080/"
        },
        "id": "1Mam2dj07Nja",
        "outputId": "c75cc0c2-f77f-4329-a10e-aa3f7d4f95f0"
      },
      "execution_count": 69,
      "outputs": [
        {
          "output_type": "execute_result",
          "data": {
            "text/plain": [
              "[16, 32, 64, 128, 256]"
            ]
          },
          "metadata": {},
          "execution_count": 69
        }
      ]
    },
    {
      "cell_type": "code",
      "source": [
        "potencias2[:]"
      ],
      "metadata": {
        "colab": {
          "base_uri": "https://localhost:8080/"
        },
        "id": "bY_9IpiI7-Kp",
        "outputId": "d6a2b417-2554-4912-96af-e0fb6d4ebfd0"
      },
      "execution_count": 70,
      "outputs": [
        {
          "output_type": "execute_result",
          "data": {
            "text/plain": [
              "[2, 4, 8, 16, 32, 64, 128, 256]"
            ]
          },
          "metadata": {},
          "execution_count": 70
        }
      ]
    },
    {
      "cell_type": "markdown",
      "source": [
        "## Seleccionar elementos no consecutivos añadiendo un tamaño de paso"
      ],
      "metadata": {
        "id": "MJlsuwk58QTT"
      }
    },
    {
      "cell_type": "code",
      "source": [
        "potencias2[::3]"
      ],
      "metadata": {
        "colab": {
          "base_uri": "https://localhost:8080/"
        },
        "id": "GfsROnop8ZCH",
        "outputId": "48298d4a-a523-45fc-bcc9-4bea0b456cef"
      },
      "execution_count": 71,
      "outputs": [
        {
          "output_type": "execute_result",
          "data": {
            "text/plain": [
              "[2, 16, 128]"
            ]
          },
          "metadata": {},
          "execution_count": 71
        }
      ]
    },
    {
      "cell_type": "code",
      "source": [
        "potencias2[::-3]"
      ],
      "metadata": {
        "colab": {
          "base_uri": "https://localhost:8080/"
        },
        "id": "UChYUNIL8pyC",
        "outputId": "3d583089-e2a2-49b0-f7ef-13732f1f0930"
      },
      "execution_count": 72,
      "outputs": [
        {
          "output_type": "execute_result",
          "data": {
            "text/plain": [
              "[256, 32, 4]"
            ]
          },
          "metadata": {},
          "execution_count": 72
        }
      ]
    },
    {
      "cell_type": "markdown",
      "source": [
        "## Se puede modificar una lista cambiando de una parte de los elementos y dejar al resto"
      ],
      "metadata": {
        "id": "h2V6dDTK9BnK"
      }
    },
    {
      "cell_type": "code",
      "source": [
        "potencias2[0:3] = [\"dos\",\"cuatro\",\"ocho\"]\n",
        "potencias2"
      ],
      "metadata": {
        "colab": {
          "base_uri": "https://localhost:8080/"
        },
        "id": "n1JCjWVZ9NIr",
        "outputId": "ff16a529-4982-4a03-c302-a3a910a7a4ce"
      },
      "execution_count": 73,
      "outputs": [
        {
          "output_type": "execute_result",
          "data": {
            "text/plain": [
              "['dos', 'cuatro', 'ocho', 16, 32, 64, 128, 256]"
            ]
          },
          "metadata": {},
          "execution_count": 73
        }
      ]
    },
    {
      "cell_type": "code",
      "source": [
        "potencias2[0:2] = []\n",
        "potencias2[:]"
      ],
      "metadata": {
        "colab": {
          "base_uri": "https://localhost:8080/"
        },
        "id": "mcb3SoOg9IIi",
        "outputId": "58ca2f8a-33f1-4588-ab0f-6836ccc72e60"
      },
      "execution_count": 74,
      "outputs": [
        {
          "output_type": "execute_result",
          "data": {
            "text/plain": [
              "['ocho', 16, 32, 64, 128, 256]"
            ]
          },
          "metadata": {},
          "execution_count": 74
        }
      ]
    },
    {
      "cell_type": "code",
      "source": [
        "potencias2 = [2,4,8,16,32,64,128,256]\n",
        "potencias2[::3] = [1,1,1]\n",
        "potencias2"
      ],
      "metadata": {
        "colab": {
          "base_uri": "https://localhost:8080/"
        },
        "id": "OIVNaqFT85kN",
        "outputId": "f9c0f725-4ccf-4ad2-8d89-b594dc55a9f5"
      },
      "execution_count": 75,
      "outputs": [
        {
          "output_type": "execute_result",
          "data": {
            "text/plain": [
              "[1, 4, 8, 1, 32, 64, 1, 256]"
            ]
          },
          "metadata": {},
          "execution_count": 75
        }
      ]
    },
    {
      "cell_type": "markdown",
      "source": [
        "## Para borrar cualquier elemento de una lista es posible utilizar la sentencia \"del\""
      ],
      "metadata": {
        "id": "jqc0C1tf-iVw"
      }
    },
    {
      "cell_type": "code",
      "source": [
        "multiplos10 = list(range(0,100,10))\n",
        "multiplos10"
      ],
      "metadata": {
        "colab": {
          "base_uri": "https://localhost:8080/"
        },
        "id": "T1olLA7W-xq9",
        "outputId": "6114be91-bb26-4028-c592-2e89a0878cd9"
      },
      "execution_count": 76,
      "outputs": [
        {
          "output_type": "execute_result",
          "data": {
            "text/plain": [
              "[0, 10, 20, 30, 40, 50, 60, 70, 80, 90]"
            ]
          },
          "metadata": {},
          "execution_count": 76
        }
      ]
    },
    {
      "cell_type": "code",
      "source": [
        "del multiplos10[3:6]\n",
        "multiplos10"
      ],
      "metadata": {
        "colab": {
          "base_uri": "https://localhost:8080/"
        },
        "id": "OWsxhIwQ8LnX",
        "outputId": "340f2d98-7929-44f4-f892-53c359ad2cfe"
      },
      "execution_count": 77,
      "outputs": [
        {
          "output_type": "execute_result",
          "data": {
            "text/plain": [
              "[0, 10, 20, 60, 70, 80, 90]"
            ]
          },
          "metadata": {},
          "execution_count": 77
        }
      ]
    },
    {
      "cell_type": "markdown",
      "source": [
        "## Borrar con tamaño de paso\n",
        "\n"
      ],
      "metadata": {
        "id": "nccVsrjoAcUS"
      }
    },
    {
      "cell_type": "code",
      "source": [
        "multiplos10 = list(range(0,100,10))\n",
        "multiplos10"
      ],
      "metadata": {
        "colab": {
          "base_uri": "https://localhost:8080/"
        },
        "id": "W62CBw_hAjMI",
        "outputId": "d58d9ff0-3da5-4261-d3c7-1d3f8009937d"
      },
      "execution_count": 79,
      "outputs": [
        {
          "output_type": "execute_result",
          "data": {
            "text/plain": [
              "[0, 10, 20, 30, 40, 50, 60, 70, 80, 90]"
            ]
          },
          "metadata": {},
          "execution_count": 79
        }
      ]
    },
    {
      "cell_type": "code",
      "source": [
        "del multiplos10[::2]\n",
        "multiplos10"
      ],
      "metadata": {
        "colab": {
          "base_uri": "https://localhost:8080/"
        },
        "id": "SEEzJ2AVA-iu",
        "outputId": "6df60405-3281-4636-e186-f3508f9e930e"
      },
      "execution_count": 80,
      "outputs": [
        {
          "output_type": "execute_result",
          "data": {
            "text/plain": [
              "[10, 30, 50, 70, 90]"
            ]
          },
          "metadata": {},
          "execution_count": 80
        }
      ]
    },
    {
      "cell_type": "code",
      "source": [
        "del multiplos10[:]\n",
        "multiplos10"
      ],
      "metadata": {
        "colab": {
          "base_uri": "https://localhost:8080/"
        },
        "id": "E9MbnYViBbL1",
        "outputId": "7b9441b6-d2ae-45ea-b27d-2f3b76c429b3"
      },
      "execution_count": 81,
      "outputs": [
        {
          "output_type": "execute_result",
          "data": {
            "text/plain": [
              "[]"
            ]
          },
          "metadata": {},
          "execution_count": 81
        }
      ]
    },
    {
      "cell_type": "markdown",
      "source": [
        "## Listas ordenadas"
      ],
      "metadata": {
        "id": "U26wlqIrBh6D"
      }
    },
    {
      "cell_type": "code",
      "source": [
        "edad = [65,26,28,36,18]\n",
        "edad.sort()\n",
        "edad"
      ],
      "metadata": {
        "colab": {
          "base_uri": "https://localhost:8080/"
        },
        "id": "NdbhCTmHBnIZ",
        "outputId": "ac6c765f-97f9-40b4-8015-a3754a16dbf2"
      },
      "execution_count": 85,
      "outputs": [
        {
          "output_type": "execute_result",
          "data": {
            "text/plain": [
              "[18, 26, 28, 36, 65]"
            ]
          },
          "metadata": {},
          "execution_count": 85
        }
      ]
    },
    {
      "cell_type": "markdown",
      "source": [
        "## Ordenar de forma ascendente"
      ],
      "metadata": {
        "id": "qtTo3IdcCimj"
      }
    },
    {
      "cell_type": "code",
      "source": [
        "edad.sort(reverse=True)\n",
        "edad"
      ],
      "metadata": {
        "colab": {
          "base_uri": "https://localhost:8080/"
        },
        "id": "93_Xr9G_Cl9a",
        "outputId": "f84af687-8c6b-46e1-dec7-ba7f3f7d19e8"
      },
      "execution_count": 84,
      "outputs": [
        {
          "output_type": "execute_result",
          "data": {
            "text/plain": [
              "[65, 36, 28, 26, 18]"
            ]
          },
          "metadata": {},
          "execution_count": 84
        }
      ]
    },
    {
      "cell_type": "markdown",
      "source": [
        "## La funcion sorted regresa una lista nueva con los elementos ordenados"
      ],
      "metadata": {
        "id": "LNjUK0X3C9yo"
      }
    },
    {
      "cell_type": "code",
      "source": [
        "edad = [65,26,28,36,18]\n",
        "edad"
      ],
      "metadata": {
        "colab": {
          "base_uri": "https://localhost:8080/"
        },
        "id": "A6c5kUhgDcwp",
        "outputId": "4b0e547f-35b8-4bb1-f704-7459e34de972"
      },
      "execution_count": 86,
      "outputs": [
        {
          "output_type": "execute_result",
          "data": {
            "text/plain": [
              "[65, 26, 28, 36, 18]"
            ]
          },
          "metadata": {},
          "execution_count": 86
        }
      ]
    },
    {
      "cell_type": "code",
      "source": [
        "edades_ascendentes = sorted(edad)\n",
        "edades_ascendentes"
      ],
      "metadata": {
        "colab": {
          "base_uri": "https://localhost:8080/"
        },
        "id": "-M0O95pADiaJ",
        "outputId": "ef56d868-0683-436d-aa2c-2a0933099b69"
      },
      "execution_count": 89,
      "outputs": [
        {
          "output_type": "execute_result",
          "data": {
            "text/plain": [
              "[18, 26, 28, 36, 65]"
            ]
          },
          "metadata": {},
          "execution_count": 89
        }
      ]
    },
    {
      "cell_type": "code",
      "source": [
        "edad"
      ],
      "metadata": {
        "colab": {
          "base_uri": "https://localhost:8080/"
        },
        "id": "qih4O6wPCgyU",
        "outputId": "a69e7945-f7f0-42c0-cec8-61ca8aa8a3c1"
      },
      "execution_count": 90,
      "outputs": [
        {
          "output_type": "execute_result",
          "data": {
            "text/plain": [
              "[65, 26, 28, 36, 18]"
            ]
          },
          "metadata": {},
          "execution_count": 90
        }
      ]
    },
    {
      "cell_type": "markdown",
      "source": [
        "## Ordenar caracteres"
      ],
      "metadata": {
        "id": "6tM11y9nD3Uh"
      }
    },
    {
      "cell_type": "code",
      "source": [
        "nombre = \"FRANCISCO\"\n",
        "letras_ascendentes = sorted(nombre)\n",
        "letras_ascendentes"
      ],
      "metadata": {
        "colab": {
          "base_uri": "https://localhost:8080/"
        },
        "id": "rELlC7WAD5mf",
        "outputId": "191208b7-de41-476f-8cb6-23fe1337e085"
      },
      "execution_count": 92,
      "outputs": [
        {
          "output_type": "execute_result",
          "data": {
            "text/plain": [
              "['A', 'C', 'C', 'F', 'I', 'N', 'O', 'R', 'S']"
            ]
          },
          "metadata": {},
          "execution_count": 92
        }
      ]
    },
    {
      "cell_type": "code",
      "source": [
        "nombre"
      ],
      "metadata": {
        "colab": {
          "base_uri": "https://localhost:8080/",
          "height": 36
        },
        "id": "BpW3p4xLEamL",
        "outputId": "28dde03c-6c2f-4251-c6bb-82ec80406af3"
      },
      "execution_count": 93,
      "outputs": [
        {
          "output_type": "execute_result",
          "data": {
            "text/plain": [
              "'FRANCISCO'"
            ],
            "application/vnd.google.colaboratory.intrinsic+json": {
              "type": "string"
            }
          },
          "metadata": {},
          "execution_count": 93
        }
      ]
    },
    {
      "cell_type": "markdown",
      "source": [
        "## Ordenar tuplas"
      ],
      "metadata": {
        "id": "Nu68WzgMEnWk"
      }
    },
    {
      "cell_type": "code",
      "source": [
        "estudiantes = (\"Hugo\",\"Paco\",\"Luis\")\n",
        "estud_ordenados = sorted(estudiantes)\n",
        "estud_ordenados"
      ],
      "metadata": {
        "colab": {
          "base_uri": "https://localhost:8080/"
        },
        "id": "1onxHZdzEr_V",
        "outputId": "01861b95-c0c1-466a-9730-115be3a16c95"
      },
      "execution_count": 95,
      "outputs": [
        {
          "output_type": "execute_result",
          "data": {
            "text/plain": [
              "['Hugo', 'Luis', 'Paco']"
            ]
          },
          "metadata": {},
          "execution_count": 95
        }
      ]
    },
    {
      "cell_type": "code",
      "source": [
        "estudiantes"
      ],
      "metadata": {
        "colab": {
          "base_uri": "https://localhost:8080/"
        },
        "id": "769xw2MbFsC2",
        "outputId": "93d72c3c-ba6d-4b48-c72f-6e85b19387ae"
      },
      "execution_count": 96,
      "outputs": [
        {
          "output_type": "execute_result",
          "data": {
            "text/plain": [
              "('Hugo', 'Paco', 'Luis')"
            ]
          },
          "metadata": {},
          "execution_count": 96
        }
      ]
    },
    {
      "cell_type": "code",
      "source": [
        "edad = [65,12,19,80,36,28,16,18,36,16,45,32,36,59]\n",
        "edad.index(45)"
      ],
      "metadata": {
        "colab": {
          "base_uri": "https://localhost:8080/"
        },
        "id": "EmNw2BxvF3p8",
        "outputId": "0b55a4a8-3867-4aa2-c6da-46a96b4eb579"
      },
      "execution_count": 97,
      "outputs": [
        {
          "output_type": "execute_result",
          "data": {
            "text/plain": [
              "10"
            ]
          },
          "metadata": {},
          "execution_count": 97
        }
      ]
    },
    {
      "cell_type": "code",
      "source": [
        "vegetales = [\"espinaca\",\"apio\"]\n",
        "vegetales.insert(0,\"lechuga\")\n",
        "vegetales"
      ],
      "metadata": {
        "colab": {
          "base_uri": "https://localhost:8080/"
        },
        "id": "88QmBV9rHfID",
        "outputId": "de8a7f44-f2bd-4ac3-ae6d-9026896e2050"
      },
      "execution_count": 98,
      "outputs": [
        {
          "output_type": "execute_result",
          "data": {
            "text/plain": [
              "['lechuga', 'espinaca', 'apio']"
            ]
          },
          "metadata": {},
          "execution_count": 98
        }
      ]
    },
    {
      "cell_type": "markdown",
      "source": [
        "## insertar elementos al final de la lista"
      ],
      "metadata": {
        "id": "uC9c7CGQHyZ5"
      }
    },
    {
      "cell_type": "code",
      "source": [
        "vegetales.append(\"esparrago\")\n",
        "vegetales"
      ],
      "metadata": {
        "colab": {
          "base_uri": "https://localhost:8080/"
        },
        "id": "u5FySfvLH1zm",
        "outputId": "bcb78148-015a-49a6-8b03-c5c3e7a1b59b"
      },
      "execution_count": 99,
      "outputs": [
        {
          "output_type": "execute_result",
          "data": {
            "text/plain": [
              "['lechuga', 'espinaca', 'apio', 'esparrago']"
            ]
          },
          "metadata": {},
          "execution_count": 99
        }
      ]
    },
    {
      "cell_type": "markdown",
      "source": [
        "## añadir elementos al final de la lista con extend"
      ],
      "metadata": {
        "id": "ImTqQFnfILaO"
      }
    },
    {
      "cell_type": "code",
      "source": [
        "precio = (10,15,8,30)\n",
        "vegetales.extend(precio)\n",
        "vegetales"
      ],
      "metadata": {
        "colab": {
          "base_uri": "https://localhost:8080/"
        },
        "id": "TI0-LyFIHuyP",
        "outputId": "30c06d01-4ba0-4469-f94e-cf6d703c1448"
      },
      "execution_count": 100,
      "outputs": [
        {
          "output_type": "execute_result",
          "data": {
            "text/plain": [
              "['lechuga', 'espinaca', 'apio', 'esparrago', 10, 15, 8, 30]"
            ]
          },
          "metadata": {},
          "execution_count": 100
        }
      ]
    },
    {
      "cell_type": "markdown",
      "source": [
        "## remove borra el primer elemento con un valor especifico"
      ],
      "metadata": {
        "id": "ZjKXzWQkIbvJ"
      }
    },
    {
      "cell_type": "code",
      "source": [
        "vegetales.remove(\"esparrago\")\n",
        "vegetales"
      ],
      "metadata": {
        "colab": {
          "base_uri": "https://localhost:8080/"
        },
        "id": "y7Y6hwrtIggl",
        "outputId": "77540720-9670-43bf-8227-22a612de2b1b"
      },
      "execution_count": 101,
      "outputs": [
        {
          "output_type": "execute_result",
          "data": {
            "text/plain": [
              "['lechuga', 'espinaca', 'apio', 10, 15, 8, 30]"
            ]
          },
          "metadata": {},
          "execution_count": 101
        }
      ]
    },
    {
      "cell_type": "code",
      "source": [
        "vegetales.clear()\n",
        "vegetales"
      ],
      "metadata": {
        "colab": {
          "base_uri": "https://localhost:8080/"
        },
        "id": "6TghYP_oIal3",
        "outputId": "6980f89c-49cf-4ac9-f561-c7024c78aabe"
      },
      "execution_count": 102,
      "outputs": [
        {
          "output_type": "execute_result",
          "data": {
            "text/plain": [
              "[]"
            ]
          },
          "metadata": {},
          "execution_count": 102
        }
      ]
    },
    {
      "cell_type": "code",
      "source": [
        "edades = [15,21,16,19,20,16,19,15,21,17,18,24,20,24,21,19,18,16,19,16]\n",
        "for edad in range(15,25):\n",
        "  print(f\"La edad {edad} se repite {edades.count(edad)} veces\")"
      ],
      "metadata": {
        "colab": {
          "base_uri": "https://localhost:8080/"
        },
        "id": "woYIDlKWI0jz",
        "outputId": "17587cf9-62ca-4d4e-c86e-c9ad701ac421"
      },
      "execution_count": 106,
      "outputs": [
        {
          "output_type": "stream",
          "name": "stdout",
          "text": [
            "La edad 15 se repite 2 veces\n",
            "La edad 16 se repite 4 veces\n",
            "La edad 17 se repite 1 veces\n",
            "La edad 18 se repite 2 veces\n",
            "La edad 19 se repite 4 veces\n",
            "La edad 20 se repite 2 veces\n",
            "La edad 21 se repite 3 veces\n",
            "La edad 22 se repite 0 veces\n",
            "La edad 23 se repite 0 veces\n",
            "La edad 24 se repite 2 veces\n"
          ]
        }
      ]
    },
    {
      "cell_type": "markdown",
      "source": [
        "## La funcion reverse invierte el orden de una lista . A diferencia de sort reverse no crea una lista nueva"
      ],
      "metadata": {
        "id": "hhch1u8-KKTj"
      }
    },
    {
      "cell_type": "code",
      "source": [
        "vegetales = [\"lechuga\",\"espinaca\",\"apio\",\"pepinillo\"]\n",
        "vegetales.reverse()\n",
        "vegetales"
      ],
      "metadata": {
        "colab": {
          "base_uri": "https://localhost:8080/"
        },
        "id": "y9431HV6Kmqs",
        "outputId": "60076050-7133-4f45-c220-d51be639b01b"
      },
      "execution_count": 108,
      "outputs": [
        {
          "output_type": "execute_result",
          "data": {
            "text/plain": [
              "['pepinillo', 'apio', 'espinaca', 'lechuga']"
            ]
          },
          "metadata": {},
          "execution_count": 108
        }
      ]
    },
    {
      "cell_type": "code",
      "source": [
        "copia_vegetales = vegetales.copy()\n",
        "copia_vegetales"
      ],
      "metadata": {
        "colab": {
          "base_uri": "https://localhost:8080/"
        },
        "id": "u-YFkiZHK0ss",
        "outputId": "f0e57b05-0cbc-4fdb-b51e-8741e293a0a6"
      },
      "execution_count": 109,
      "outputs": [
        {
          "output_type": "execute_result",
          "data": {
            "text/plain": [
              "['pepinillo', 'apio', 'espinaca', 'lechuga']"
            ]
          },
          "metadata": {},
          "execution_count": 109
        }
      ]
    },
    {
      "cell_type": "markdown",
      "source": [
        "# Comprension de listas\n",
        "## es una funcion de python que permite generar listas nuevas siendo simplista"
      ],
      "metadata": {
        "id": "81jMQZmKLBF8"
      }
    },
    {
      "cell_type": "code",
      "source": [
        "lista1 = []\n",
        "for dato in range(1,11):\n",
        "  lista1.append(dato)\n",
        "lista1"
      ],
      "metadata": {
        "colab": {
          "base_uri": "https://localhost:8080/"
        },
        "id": "PuBjjwkQMNvz",
        "outputId": "57ee243f-c318-4d4b-a2c4-670c67673aef"
      },
      "execution_count": 110,
      "outputs": [
        {
          "output_type": "execute_result",
          "data": {
            "text/plain": [
              "[1, 2, 3, 4, 5, 6, 7, 8, 9, 10]"
            ]
          },
          "metadata": {},
          "execution_count": 110
        }
      ]
    },
    {
      "cell_type": "code",
      "source": [
        "lista2 = [dato for dato in range(1,11)]\n",
        "lista2"
      ],
      "metadata": {
        "colab": {
          "base_uri": "https://localhost:8080/"
        },
        "id": "F6MQP8-jMXMn",
        "outputId": "b407006f-d85c-49b6-d437-dffd3e4ae277"
      },
      "execution_count": 111,
      "outputs": [
        {
          "output_type": "execute_result",
          "data": {
            "text/plain": [
              "[1, 2, 3, 4, 5, 6, 7, 8, 9, 10]"
            ]
          },
          "metadata": {},
          "execution_count": 111
        }
      ]
    },
    {
      "cell_type": "code",
      "source": [
        "lista3 = list(range(1,11))\n",
        "lista3"
      ],
      "metadata": {
        "colab": {
          "base_uri": "https://localhost:8080/"
        },
        "id": "NiM8h9rwNn8T",
        "outputId": "b5f95836-cb7c-483d-9824-c80a1d11c1a6"
      },
      "execution_count": 112,
      "outputs": [
        {
          "output_type": "execute_result",
          "data": {
            "text/plain": [
              "[1, 2, 3, 4, 5, 6, 7, 8, 9, 10]"
            ]
          },
          "metadata": {},
          "execution_count": 112
        }
      ]
    },
    {
      "cell_type": "markdown",
      "source": [
        "## Mapear es llevar cosas(elementos de una lista) de un lado a otro(a otra lista)"
      ],
      "metadata": {
        "id": "e0yCy562NyZQ"
      }
    },
    {
      "cell_type": "code",
      "source": [
        "cuad10 = [dato*dato for dato in range(1,11)]\n",
        "cuad10"
      ],
      "metadata": {
        "colab": {
          "base_uri": "https://localhost:8080/"
        },
        "id": "VR7u4fddOBxq",
        "outputId": "0aca9250-5f9c-43ab-b00b-e667059044ae"
      },
      "execution_count": 113,
      "outputs": [
        {
          "output_type": "execute_result",
          "data": {
            "text/plain": [
              "[1, 4, 9, 16, 25, 36, 49, 64, 81, 100]"
            ]
          },
          "metadata": {},
          "execution_count": 113
        }
      ]
    },
    {
      "cell_type": "markdown",
      "source": [
        "## Estamos mapeando (llevando) una lista [1,2,3,4,5,6,7,8,9,10] a otra lista [1,4,9,16,25,36,49,64,81,100]"
      ],
      "metadata": {
        "id": "-ZCnbQcWOViu"
      }
    },
    {
      "cell_type": "code",
      "source": [
        "cuad = [dato*dato for dato in range(1,11) if dato*dato <=50]\n",
        "cuad"
      ],
      "metadata": {
        "colab": {
          "base_uri": "https://localhost:8080/"
        },
        "id": "78vxAo1aOo_C",
        "outputId": "ac1d223b-c983-430f-e9e6-58987f09130a"
      },
      "execution_count": 114,
      "outputs": [
        {
          "output_type": "execute_result",
          "data": {
            "text/plain": [
              "[1, 4, 9, 16, 25, 36, 49]"
            ]
          },
          "metadata": {},
          "execution_count": 114
        }
      ]
    },
    {
      "cell_type": "code",
      "source": [
        "cuad2 = [dato*dato for dato in range(1,11) if dato % 2 == 0]\n",
        "cuad2"
      ],
      "metadata": {
        "colab": {
          "base_uri": "https://localhost:8080/"
        },
        "id": "L1Ihca-jPGGg",
        "outputId": "faf7f616-3056-40f4-8b9b-e7bfd70a6c11"
      },
      "execution_count": 115,
      "outputs": [
        {
          "output_type": "execute_result",
          "data": {
            "text/plain": [
              "[4, 16, 36, 64, 100]"
            ]
          },
          "metadata": {},
          "execution_count": 115
        }
      ]
    },
    {
      "cell_type": "code",
      "source": [
        "vegetales = [\"apio\",\"brocoli\",\"lechuga\"]\n",
        "vegetales2 = [dato.upper() for dato in vegetales]\n",
        "vegetales2"
      ],
      "metadata": {
        "colab": {
          "base_uri": "https://localhost:8080/"
        },
        "id": "3M3D6_20NwRI",
        "outputId": "e4190414-a26d-4d9d-ae06-d9cb2211fa82"
      },
      "execution_count": 116,
      "outputs": [
        {
          "output_type": "execute_result",
          "data": {
            "text/plain": [
              "['APIO', 'BROCOLI', 'LECHUGA']"
            ]
          },
          "metadata": {},
          "execution_count": 116
        }
      ]
    },
    {
      "cell_type": "markdown",
      "source": [
        "## La compresion de listas realiza una evaluacion robusta por lo crea otra lista inmediatamente despues de la ejecucion , para una cantidad de datos esto puede ocasionar un uso considerable de tiempo y memoria el generador de expresiones reduce el consumo de recursos"
      ],
      "metadata": {
        "id": "OZbH1_MESPtY"
      }
    },
    {
      "cell_type": "markdown",
      "source": [
        "## cuadrados pares de una lista"
      ],
      "metadata": {
        "id": "9Fr9G0r1TQOr"
      }
    },
    {
      "cell_type": "code",
      "source": [
        "lista = [-3,5,8,4,1,-6,7,10]\n",
        "for valor in (x**2 for x in lista if x % 2 == 0):\n",
        "  print(valor,end=\" \")\n"
      ],
      "metadata": {
        "colab": {
          "base_uri": "https://localhost:8080/"
        },
        "id": "sq--eh4OTWhF",
        "outputId": "d5c83ad2-6874-4460-f5e9-1dcaf6615eb7"
      },
      "execution_count": 117,
      "outputs": [
        {
          "output_type": "stream",
          "name": "stdout",
          "text": [
            "64 16 36 100 "
          ]
        }
      ]
    },
    {
      "cell_type": "markdown",
      "source": [
        "## generador de expresiones"
      ],
      "metadata": {
        "id": "cYpPl5KmTxmo"
      }
    },
    {
      "cell_type": "code",
      "source": [
        "cuadrados_pares = (x**2 for x in lista if x % 2 == 0)\n",
        "cuadrados_pares"
      ],
      "metadata": {
        "colab": {
          "base_uri": "https://localhost:8080/"
        },
        "id": "-Ioh8NzpTzZV",
        "outputId": "414a235d-4939-4bbd-f6cc-01939980a818"
      },
      "execution_count": 118,
      "outputs": [
        {
          "output_type": "execute_result",
          "data": {
            "text/plain": [
              "<generator object <genexpr> at 0x7bd04273ee90>"
            ]
          },
          "metadata": {},
          "execution_count": 118
        }
      ]
    },
    {
      "cell_type": "code",
      "source": [
        "list(cuadrados_pares)"
      ],
      "metadata": {
        "colab": {
          "base_uri": "https://localhost:8080/"
        },
        "id": "1MxmJy-UUCrz",
        "outputId": "00839134-5fc6-477d-ab0e-ecb8037089ab"
      },
      "execution_count": 119,
      "outputs": [
        {
          "output_type": "execute_result",
          "data": {
            "text/plain": [
              "[64, 16, 36, 100]"
            ]
          },
          "metadata": {},
          "execution_count": 119
        }
      ]
    },
    {
      "cell_type": "markdown",
      "source": [
        "## La funcion \"filter\" tiene como primer argumento la funcion \"pares\" , la funcion \"pares\" tambien tiene un argumento y regresa True si un argumento es par. La funcion \"filter\" llama entonces a la funcion \"pares\" para cada valor (de la lista) en el segundo argumento.\n"
      ],
      "metadata": {
        "id": "PyhXc6SVYMg3"
      }
    },
    {
      "cell_type": "markdown",
      "source": [
        "## \"filter\" regresa un iterador (una lista generada) por lo que los resultados de filter no se producen \"\"\"hasta que iteras sobre ellos\"\"\" (la funcion list los manda a llamar)"
      ],
      "metadata": {
        "id": "drq7MvxSa7oL"
      }
    },
    {
      "cell_type": "code",
      "source": [
        "lista = [-3,5,8,4,1,-6,7,10]\n",
        "def pares(x):\n",
        "  return x % 2 == 0\n",
        "list(filter(pares,lista))"
      ],
      "metadata": {
        "colab": {
          "base_uri": "https://localhost:8080/"
        },
        "id": "PAdpd-TtUKwK",
        "outputId": "d9aff6f9-ba21-4119-ecef-58b76ccb946f"
      },
      "execution_count": 120,
      "outputs": [
        {
          "output_type": "execute_result",
          "data": {
            "text/plain": [
              "[8, 4, -6, 10]"
            ]
          },
          "metadata": {},
          "execution_count": 120
        }
      ]
    },
    {
      "cell_type": "markdown",
      "source": [
        "## Una lista con una comprension"
      ],
      "metadata": {
        "id": "6GmBfCpvczhb"
      }
    },
    {
      "cell_type": "markdown",
      "source": [
        "## Este puede ser un codigo más corto , pero que puede tener ciertas desventajas en tiempo de computo y uso de memoria cuando las listas son muy largas"
      ],
      "metadata": {
        "id": "0MVZdi8Ic85D"
      }
    },
    {
      "cell_type": "code",
      "source": [
        "[valor for valor in lista if pares(valor)]"
      ],
      "metadata": {
        "colab": {
          "base_uri": "https://localhost:8080/"
        },
        "id": "vHKotBKJUiJj",
        "outputId": "d11e12b1-ff8d-4c44-df5b-c0bfc9e8921d"
      },
      "execution_count": 121,
      "outputs": [
        {
          "output_type": "execute_result",
          "data": {
            "text/plain": [
              "[8, 4, -6, 10]"
            ]
          },
          "metadata": {},
          "execution_count": 121
        }
      ]
    },
    {
      "cell_type": "markdown",
      "source": [
        "## Algunas veces es necesario utilizar funciones que realizan tareas relativamente sencillas , como en \"pares\". Para estas tareas Python permite utilizar una funcion a la que llama \"lambda\""
      ],
      "metadata": {
        "id": "7PKkjmDkdtcm"
      }
    },
    {
      "cell_type": "code",
      "source": [
        "list(filter(lambda x: x % 2 == 0,lista))"
      ],
      "metadata": {
        "colab": {
          "base_uri": "https://localhost:8080/"
        },
        "id": "7Xrsru32VQv6",
        "outputId": "69d8bed7-cdaa-44fa-aaa4-9ec196436701"
      },
      "execution_count": 122,
      "outputs": [
        {
          "output_type": "execute_result",
          "data": {
            "text/plain": [
              "[8, 4, -6, 10]"
            ]
          },
          "metadata": {},
          "execution_count": 122
        }
      ]
    },
    {
      "cell_type": "markdown",
      "source": [
        "## La funcion **lambda** es reconocida como una funcion anónima o sin nombre y es útil para llamar alguna función.\n"
      ],
      "metadata": {
        "id": "6f5pbhFTe86F"
      }
    },
    {
      "cell_type": "markdown",
      "source": [
        "![image.png](data:image/png;base64,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)"
      ],
      "metadata": {
        "id": "mTrGa1QclBde"
      }
    },
    {
      "cell_type": "markdown",
      "source": [
        "## Utilizaremos lambda para introducir la funcion map"
      ],
      "metadata": {
        "id": "DQg1yDRHlrjd"
      }
    },
    {
      "cell_type": "code",
      "source": [
        "lista = [-3,5,8,4,1,-6,7,10]\n",
        "list(map(lambda x: x**3,lista))"
      ],
      "metadata": {
        "colab": {
          "base_uri": "https://localhost:8080/"
        },
        "id": "Uz1XYa4yVfXp",
        "outputId": "b72adee0-4bb4-496d-f4c4-5dc2ffe104c2"
      },
      "execution_count": 123,
      "outputs": [
        {
          "output_type": "execute_result",
          "data": {
            "text/plain": [
              "[-27, 125, 512, 64, 1, -216, 343, 1000]"
            ]
          },
          "metadata": {},
          "execution_count": 123
        }
      ]
    },
    {
      "cell_type": "code",
      "source": [
        "lista = [-3,5,8,4,1,-6,7,10]\n",
        "list(map(lambda a: a**2,lista))"
      ],
      "metadata": {
        "colab": {
          "base_uri": "https://localhost:8080/"
        },
        "id": "DCSA-7girkrK",
        "outputId": "d4ad6612-d88c-48d4-b879-83c18a892546"
      },
      "execution_count": 4,
      "outputs": [
        {
          "output_type": "execute_result",
          "data": {
            "text/plain": [
              "[9, 25, 64, 16, 1, 36, 49, 100]"
            ]
          },
          "metadata": {},
          "execution_count": 4
        }
      ]
    },
    {
      "cell_type": "markdown",
      "source": [
        "## La funcion **map** tiene dos argumentos.El primero recibe un valor y la forma en que lo regresará , el segundo es una lista de valores iterables.La funcion **map** realiza un evaluacion debil , por lo que al pasarlos por **list** es posible ver los valores."
      ],
      "metadata": {
        "id": "6vNNaaqjsT2a"
      }
    },
    {
      "cell_type": "code",
      "source": [],
      "metadata": {
        "id": "pFAxyWeLt4pt"
      },
      "execution_count": null,
      "outputs": []
    },
    {
      "cell_type": "markdown",
      "source": [
        "## misma lista la podemos generar con una comprension como se muestra ahora"
      ],
      "metadata": {
        "id": "PVJRTfQnt74J"
      }
    },
    {
      "cell_type": "code",
      "source": [
        "[valor**3 for valor in lista]"
      ],
      "metadata": {
        "colab": {
          "base_uri": "https://localhost:8080/"
        },
        "id": "5W1vNllvuEkp",
        "outputId": "3e003697-b6f9-4fbf-c554-b34c002fb562"
      },
      "execution_count": 5,
      "outputs": [
        {
          "output_type": "execute_result",
          "data": {
            "text/plain": [
              "[-27, 125, 512, 64, 1, -216, 343, 1000]"
            ]
          },
          "metadata": {},
          "execution_count": 5
        }
      ]
    },
    {
      "cell_type": "code",
      "source": [
        "[valor**2 for valor in lista]"
      ],
      "metadata": {
        "colab": {
          "base_uri": "https://localhost:8080/"
        },
        "id": "nWG-JewsuIe0",
        "outputId": "d994c278-8833-4b4f-bb7e-6bebc0823efc"
      },
      "execution_count": 6,
      "outputs": [
        {
          "output_type": "execute_result",
          "data": {
            "text/plain": [
              "[9, 25, 64, 16, 1, 36, 49, 100]"
            ]
          },
          "metadata": {},
          "execution_count": 6
        }
      ]
    },
    {
      "cell_type": "markdown",
      "source": [
        "## Solo queremos los numeros pares , podemos combinar las funciones **map** y **filter**"
      ],
      "metadata": {
        "id": "rzWrD0ezuV4x"
      }
    },
    {
      "cell_type": "code",
      "source": [
        "list(map(lambda x: x**3,filter(lambda x: x % 2 == 0,lista)))"
      ],
      "metadata": {
        "colab": {
          "base_uri": "https://localhost:8080/"
        },
        "id": "fqITEzmWVxhE",
        "outputId": "6da7142c-bd65-4477-d429-5e833fb4be9d"
      },
      "execution_count": 125,
      "outputs": [
        {
          "output_type": "execute_result",
          "data": {
            "text/plain": [
              "[512, 64, -216, 1000]"
            ]
          },
          "metadata": {},
          "execution_count": 125
        }
      ]
    },
    {
      "cell_type": "markdown",
      "source": [
        "## Naturalmente con una comprension la formulacion es mas compacta"
      ],
      "metadata": {
        "id": "Q63_MlyivFcj"
      }
    },
    {
      "cell_type": "code",
      "source": [
        "[x**3 for x in lista if x % 2 == 0]"
      ],
      "metadata": {
        "colab": {
          "base_uri": "https://localhost:8080/"
        },
        "id": "tCMNxtoCV4VP",
        "outputId": "455c03c6-d196-4eb8-c243-f5133bd0d658"
      },
      "execution_count": 126,
      "outputs": [
        {
          "output_type": "execute_result",
          "data": {
            "text/plain": [
              "[512, 64, -216, 1000]"
            ]
          },
          "metadata": {},
          "execution_count": 126
        }
      ]
    },
    {
      "cell_type": "markdown",
      "source": [
        "## Para que python pueda ordenar y comprender el orden , es necesario que todas las palabras sean mayusculas o minisculas"
      ],
      "metadata": {
        "id": "jwIsjxBjvcG_"
      }
    },
    {
      "cell_type": "code",
      "source": [
        "animales = [\"Pato\",\"murcielago\",\"Jirafa\",\"gato\",\"Raton\",\"conejo\"]\n",
        "min(animales,key=lambda a: a.upper())"
      ],
      "metadata": {
        "colab": {
          "base_uri": "https://localhost:8080/",
          "height": 36
        },
        "id": "Maa9eNucv1it",
        "outputId": "e63115ab-2dea-4b4c-b84e-edffff59dad4"
      },
      "execution_count": 7,
      "outputs": [
        {
          "output_type": "execute_result",
          "data": {
            "text/plain": [
              "'conejo'"
            ],
            "application/vnd.google.colaboratory.intrinsic+json": {
              "type": "string"
            }
          },
          "metadata": {},
          "execution_count": 7
        }
      ]
    },
    {
      "cell_type": "markdown",
      "source": [
        "## La funcion **key** tiene como argumento una funcion de un parametro que regresa otro valor. **lambda** llama a la tarea **upper** (mayusculas) para obtener la version en mayusculas de cada palabra"
      ],
      "metadata": {
        "id": "VzG3CK2KwcQX"
      }
    },
    {
      "cell_type": "code",
      "source": [
        "max(animales,key=lambda a:a.upper())"
      ],
      "metadata": {
        "colab": {
          "base_uri": "https://localhost:8080/",
          "height": 36
        },
        "id": "LKdfiGspwTop",
        "outputId": "8beb9a54-f939-469b-e669-2d184cea4ce0"
      },
      "execution_count": 8,
      "outputs": [
        {
          "output_type": "execute_result",
          "data": {
            "text/plain": [
              "'Raton'"
            ],
            "application/vnd.google.colaboratory.intrinsic+json": {
              "type": "string"
            }
          },
          "metadata": {},
          "execution_count": 8
        }
      ]
    },
    {
      "cell_type": "markdown",
      "source": [
        "## La funcion **zip** permite iterar multiples listas de datos de manera simultanea"
      ],
      "metadata": {
        "id": "HpTZLz7Xzpt4"
      }
    },
    {
      "cell_type": "code",
      "source": [
        "lugar = [\"Mexico\",\"Colombia\",\"Brasil\"]\n",
        "ProdIB = [3.8,5.0,3.2]\n",
        "for pais,pib in zip(lugar,ProdIB):\n",
        "    print(f\"Pais: {pais} , PIB= {pib}\")"
      ],
      "metadata": {
        "colab": {
          "base_uri": "https://localhost:8080/"
        },
        "id": "RAcgzX0ozzMk",
        "outputId": "e22141ac-dd1b-4d59-bafb-2d15f618beef"
      },
      "execution_count": 9,
      "outputs": [
        {
          "output_type": "stream",
          "name": "stdout",
          "text": [
            "Pais: Mexico , PIB= 3.8\n",
            "Pais: Colombia , PIB= 5.0\n",
            "Pais: Brasil , PIB= 3.2\n"
          ]
        }
      ]
    },
    {
      "cell_type": "markdown",
      "source": [
        "## La linea 3 llama a la funcion zip para empaquetar la informacion en tuplas que luego se desempacan en **pais** y **pib**. la funcion **zip** determina el numero de tuplas de acuerdo al argumento con menor numero de elementos , en este caso las tuplas tienen el mismo numero de elementos"
      ],
      "metadata": {
        "id": "0mr9S-go07OS"
      }
    },
    {
      "cell_type": "markdown",
      "source": [],
      "metadata": {
        "id": "Kw9FYqK8L67D"
      }
    },
    {
      "cell_type": "code",
      "source": [],
      "metadata": {
        "id": "EhPchHe4LDvn"
      },
      "execution_count": null,
      "outputs": []
    }
  ]
}