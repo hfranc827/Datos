{
  "nbformat": 4,
  "nbformat_minor": 0,
  "metadata": {
    "colab": {
      "provenance": [],
      "authorship_tag": "ABX9TyMMm4NVv2OnY6CpH6whMU17",
      "include_colab_link": true
    },
    "kernelspec": {
      "name": "python3",
      "display_name": "Python 3"
    },
    "language_info": {
      "name": "python"
    }
  },
  "cells": [
    {
      "cell_type": "markdown",
      "metadata": {
        "id": "view-in-github",
        "colab_type": "text"
      },
      "source": [
        "<a href=\"https://colab.research.google.com/github/hfranc827/Datos/blob/main/Funciones.ipynb\" target=\"_parent\"><img src=\"https://colab.research.google.com/assets/colab-badge.svg\" alt=\"Open In Colab\"/></a>"
      ]
    },
    {
      "cell_type": "markdown",
      "source": [
        "## **def**"
      ],
      "metadata": {
        "id": "FSocOToe504s"
      }
    },
    {
      "cell_type": "code",
      "source": [
        "def raiz_cuad(numero):\n",
        "  return numero ** (1/2)\n",
        "raiz_cuad(25)"
      ],
      "metadata": {
        "colab": {
          "base_uri": "https://localhost:8080/"
        },
        "id": "7KFObuF86KjW",
        "outputId": "7a397499-2c88-4ba7-c6bc-2fc0ab9aeae6"
      },
      "execution_count": 1,
      "outputs": [
        {
          "output_type": "execute_result",
          "data": {
            "text/plain": [
              "5.0"
            ]
          },
          "metadata": {},
          "execution_count": 1
        }
      ]
    },
    {
      "cell_type": "code",
      "source": [
        "def raiz_min(num1,num2,num3):\n",
        "  r_num1 = num1 ** (1/2)\n",
        "  r_num2 = num2 ** (1/2)\n",
        "  r_num3 = num3 ** (1/2)\n",
        "  raiz_min = r_num1\n",
        "  if r_num2<raiz_min:\n",
        "    raiz_min = r_num2\n",
        "  if r_num3<raiz_min:\n",
        "    raiz_min = r_num3\n",
        "  return raiz_min\n",
        "raiz_min(9,25,4)"
      ],
      "metadata": {
        "colab": {
          "base_uri": "https://localhost:8080/"
        },
        "id": "tu-cilg26Wwu",
        "outputId": "3b43119d-ae2b-4fca-e817-48f8a398056f"
      },
      "execution_count": 4,
      "outputs": [
        {
          "output_type": "execute_result",
          "data": {
            "text/plain": [
              "2.0"
            ]
          },
          "metadata": {},
          "execution_count": 4
        }
      ]
    },
    {
      "cell_type": "code",
      "source": [
        "raiz_min(74,73,75)"
      ],
      "metadata": {
        "colab": {
          "base_uri": "https://localhost:8080/"
        },
        "id": "396n7Dlv89mH",
        "outputId": "80758f25-8843-42fa-ac21-5cdc5024c56e"
      },
      "execution_count": 5,
      "outputs": [
        {
          "output_type": "execute_result",
          "data": {
            "text/plain": [
              "8.54400374531753"
            ]
          },
          "metadata": {},
          "execution_count": 5
        }
      ]
    },
    {
      "cell_type": "markdown",
      "source": [
        "## Numeros Aleatorios"
      ],
      "metadata": {
        "id": "uRaInBn19pHD"
      }
    },
    {
      "cell_type": "code",
      "source": [
        "import random\n",
        "for tirada in range(10):\n",
        "  print(random.randrange(0,2),end=\" \")"
      ],
      "metadata": {
        "colab": {
          "base_uri": "https://localhost:8080/"
        },
        "id": "_FR953M29rEt",
        "outputId": "e853fee3-1e78-4fa8-ce2d-5a81d22071a6"
      },
      "execution_count": 6,
      "outputs": [
        {
          "output_type": "stream",
          "name": "stdout",
          "text": [
            "0 0 0 1 1 0 0 1 0 1 "
          ]
        }
      ]
    },
    {
      "cell_type": "code",
      "source": [
        "import random\n",
        "frecuencias_unos = 0\n",
        "frecuencias_ceros = 0\n",
        "for tirada in range(100000):\n",
        "  resultado = random.randrange(0,2)\n",
        "  if resultado == 1:\n",
        "    frecuencias_unos += 1\n",
        "  else:\n",
        "    frecuencias_ceros += 1\n",
        "print(f\"1=Cara , 0=Aguila {'Frecuencia':>13}\")\n",
        "print(f\"{1:>14}{frecuencias_unos:>13}\")\n",
        "print(f\"{0:>14}{frecuencias_ceros:>13}\")\n",
        ""
      ],
      "metadata": {
        "colab": {
          "base_uri": "https://localhost:8080/"
        },
        "id": "kZnoDb9Z-BF_",
        "outputId": "8cbb1e1e-71d9-4219-fc96-00368db4698a"
      },
      "execution_count": 9,
      "outputs": [
        {
          "output_type": "stream",
          "name": "stdout",
          "text": [
            "1=Cara , 0=Aguila    Frecuencia\n",
            "             1        49729\n",
            "             0        50271\n"
          ]
        }
      ]
    },
    {
      "cell_type": "markdown",
      "source": [
        "## Algunas veces es necesario reproducir los mismos numeros aleatorios.Esto es posible si en la funcion random **seed** se deja fija la semilla"
      ],
      "metadata": {
        "id": "ofNec3ArBGPf"
      }
    },
    {
      "cell_type": "code",
      "source": [
        "random.seed(1)\n",
        "for tirada in range(10):\n",
        "  print(random.randrange(0,2),end=\" \")"
      ],
      "metadata": {
        "colab": {
          "base_uri": "https://localhost:8080/"
        },
        "id": "G0eFii5L_9Hf",
        "outputId": "a9aee426-fd0d-4732-e2f6-2455414c52f8"
      },
      "execution_count": 11,
      "outputs": [
        {
          "output_type": "stream",
          "name": "stdout",
          "text": [
            "0 0 1 0 1 1 1 1 0 0 "
          ]
        }
      ]
    },
    {
      "cell_type": "code",
      "source": [],
      "metadata": {
        "id": "iciORDzKBEvX"
      },
      "execution_count": null,
      "outputs": []
    },
    {
      "cell_type": "markdown",
      "source": [
        "## cambiamos la semilla"
      ],
      "metadata": {
        "id": "sVqrr0v6Byi6"
      }
    },
    {
      "cell_type": "code",
      "source": [
        "random.seed(21)\n",
        "for tirada in range(10):\n",
        "  print(random.randrange(0,2),end=\" \")"
      ],
      "metadata": {
        "colab": {
          "base_uri": "https://localhost:8080/"
        },
        "id": "sTf37n1PB2eP",
        "outputId": "499e8975-b567-4366-8513-c2e33a4ac4d2"
      },
      "execution_count": 12,
      "outputs": [
        {
          "output_type": "stream",
          "name": "stdout",
          "text": [
            "0 1 1 1 1 0 1 0 0 0 "
          ]
        }
      ]
    },
    {
      "cell_type": "markdown",
      "source": [
        "## Funciones sin parametros y multiples parametros"
      ],
      "metadata": {
        "id": "vJMny2T-CWEt"
      }
    },
    {
      "cell_type": "code",
      "source": [
        "def raiz_cuad(numero):\n",
        "  return numero**(1/2)\n",
        "raiz_cuad(49)"
      ],
      "metadata": {
        "colab": {
          "base_uri": "https://localhost:8080/"
        },
        "id": "nlGIj2W_CaZa",
        "outputId": "69057c3c-0f50-4e14-c721-ee78f6cd684e"
      },
      "execution_count": 16,
      "outputs": [
        {
          "output_type": "execute_result",
          "data": {
            "text/plain": [
              "7.0"
            ]
          },
          "metadata": {},
          "execution_count": 16
        }
      ]
    },
    {
      "cell_type": "code",
      "source": [
        "def raiz_cuad(numero):\n",
        "  return numero**(1/2)\n",
        "raiz_cuad()"
      ],
      "metadata": {
        "colab": {
          "base_uri": "https://localhost:8080/",
          "height": 176
        },
        "id": "JBKDKKX4C81u",
        "outputId": "2c96f47a-e634-4b6f-9024-61dd0332fa73"
      },
      "execution_count": 17,
      "outputs": [
        {
          "output_type": "error",
          "ename": "TypeError",
          "evalue": "raiz_cuad() missing 1 required positional argument: 'numero'",
          "traceback": [
            "\u001b[0;31m---------------------------------------------------------------------------\u001b[0m",
            "\u001b[0;31mTypeError\u001b[0m                                 Traceback (most recent call last)",
            "\u001b[0;32m/tmp/ipython-input-275179089.py\u001b[0m in \u001b[0;36m<cell line: 0>\u001b[0;34m()\u001b[0m\n\u001b[1;32m      1\u001b[0m \u001b[0;32mdef\u001b[0m \u001b[0mraiz_cuad\u001b[0m\u001b[0;34m(\u001b[0m\u001b[0mnumero\u001b[0m\u001b[0;34m)\u001b[0m\u001b[0;34m:\u001b[0m\u001b[0;34m\u001b[0m\u001b[0;34m\u001b[0m\u001b[0m\n\u001b[1;32m      2\u001b[0m   \u001b[0;32mreturn\u001b[0m \u001b[0mnumero\u001b[0m\u001b[0;34m**\u001b[0m\u001b[0;34m(\u001b[0m\u001b[0;36m1\u001b[0m\u001b[0;34m/\u001b[0m\u001b[0;36m2\u001b[0m\u001b[0;34m)\u001b[0m\u001b[0;34m\u001b[0m\u001b[0;34m\u001b[0m\u001b[0m\n\u001b[0;32m----> 3\u001b[0;31m \u001b[0mraiz_cuad\u001b[0m\u001b[0;34m(\u001b[0m\u001b[0;34m)\u001b[0m\u001b[0;34m\u001b[0m\u001b[0;34m\u001b[0m\u001b[0m\n\u001b[0m",
            "\u001b[0;31mTypeError\u001b[0m: raiz_cuad() missing 1 required positional argument: 'numero'"
          ]
        }
      ]
    },
    {
      "cell_type": "markdown",
      "source": [
        "## Para evitar errores es posible asignar valores iniciales que luego pueden ser cambiados"
      ],
      "metadata": {
        "id": "0l6kwTmUDE0S"
      }
    },
    {
      "cell_type": "code",
      "source": [
        "def raiz_cuad(numero = 1):\n",
        "  return numero**(1/2)\n",
        "raiz_cuad()"
      ],
      "metadata": {
        "colab": {
          "base_uri": "https://localhost:8080/"
        },
        "id": "6SS119KYDLwq",
        "outputId": "4c8bfafd-d8fa-4ce0-cf4a-249265d365d9"
      },
      "execution_count": 18,
      "outputs": [
        {
          "output_type": "execute_result",
          "data": {
            "text/plain": [
              "1.0"
            ]
          },
          "metadata": {},
          "execution_count": 18
        }
      ]
    },
    {
      "cell_type": "code",
      "source": [
        "raiz_cuad(27)"
      ],
      "metadata": {
        "colab": {
          "base_uri": "https://localhost:8080/"
        },
        "id": "CVv79ybNDb4I",
        "outputId": "4a5ca134-dfb7-4229-8ee0-7413d3d10708"
      },
      "execution_count": 20,
      "outputs": [
        {
          "output_type": "execute_result",
          "data": {
            "text/plain": [
              "5.196152422706632"
            ]
          },
          "metadata": {},
          "execution_count": 20
        }
      ]
    },
    {
      "cell_type": "markdown",
      "source": [
        "# Este ejemplo calcula el promedio de calificaciones , pueden tener una cantidad arbitraria de elementos"
      ],
      "metadata": {
        "id": "e9C7M8hSDuF4"
      }
    },
    {
      "cell_type": "markdown",
      "source": [
        "## En este ejemplo ademas de utilizar el parametro ***calif** , emplea la funcion **sum** , cuya tarea es sumar los elementos de la tupla **calif** y **len** , cuya tarea es determinar el numero de elementos en la tupla **calif**"
      ],
      "metadata": {
        "id": "Jf-f-0f9EkeP"
      }
    },
    {
      "cell_type": "code",
      "source": [
        "def promedio_calif(*calif):\n",
        "  return sum(calif)/len(calif)\n",
        "promedio_calif(10,9,8,7,6,5,4,3,2,1)\n"
      ],
      "metadata": {
        "colab": {
          "base_uri": "https://localhost:8080/"
        },
        "id": "U8ghPo54Dg3i",
        "outputId": "a138905c-d494-4f9e-d0e5-71438472b4ef"
      },
      "execution_count": 21,
      "outputs": [
        {
          "output_type": "execute_result",
          "data": {
            "text/plain": [
              "5.5"
            ]
          },
          "metadata": {},
          "execution_count": 21
        }
      ]
    },
    {
      "cell_type": "code",
      "source": [
        "promedio_calif(7,7.3,8.1)"
      ],
      "metadata": {
        "colab": {
          "base_uri": "https://localhost:8080/"
        },
        "id": "E77BJJ25DtZ1",
        "outputId": "7ef55114-3a7c-4f0c-97ba-9bca8623fb3a"
      },
      "execution_count": 22,
      "outputs": [
        {
          "output_type": "execute_result",
          "data": {
            "text/plain": [
              "7.466666666666666"
            ]
          },
          "metadata": {},
          "execution_count": 22
        }
      ]
    },
    {
      "cell_type": "markdown",
      "source": [
        "## Clase personalizada"
      ],
      "metadata": {
        "id": "_dxtMaZOI7xD"
      }
    },
    {
      "cell_type": "code",
      "source": [
        "class Mascota:\n",
        "  #atributos\n",
        "  tipo = \"pequeño\"\n",
        "  raza = \"chihuahua\"\n",
        "  tarea = \"guardian\"\n",
        "perro = Mascota() #objeto\n",
        "print(perro.raza)\n",
        "print(perro.tipo)\n"
      ],
      "metadata": {
        "colab": {
          "base_uri": "https://localhost:8080/"
        },
        "id": "O5ww9oP_JAev",
        "outputId": "1a3c4b5c-ba99-4ea7-d408-e2fe2698ab36"
      },
      "execution_count": 24,
      "outputs": [
        {
          "output_type": "stream",
          "name": "stdout",
          "text": [
            "chihuahua\n",
            "pequeño\n"
          ]
        }
      ]
    },
    {
      "cell_type": "markdown",
      "source": [
        "## si es necesario cambiar alguno de los atributos , puedes realizarlo con la funcion **setattr**"
      ],
      "metadata": {
        "id": "8eOu32O4JvWz"
      }
    },
    {
      "cell_type": "code",
      "source": [
        "setattr(perro,\"tarea\",\"amigo\")\n",
        "print(perro.raza)\n",
        "print(perro.tarea)"
      ],
      "metadata": {
        "colab": {
          "base_uri": "https://localhost:8080/"
        },
        "id": "XWH8FS8GJ7-7",
        "outputId": "8c68debb-55c8-4115-e428-6904f6277aa4"
      },
      "execution_count": 25,
      "outputs": [
        {
          "output_type": "stream",
          "name": "stdout",
          "text": [
            "chihuahua\n",
            "amigo\n"
          ]
        }
      ]
    },
    {
      "cell_type": "markdown",
      "source": [
        "## para borrar alguno de los atributos que estas utilizando , la funcion **delattr**"
      ],
      "metadata": {
        "id": "6OVKmrlVKsFr"
      }
    },
    {
      "cell_type": "code",
      "source": [
        "delattr(perro,\"tarea\")\n",
        "print(perro.tarea)"
      ],
      "metadata": {
        "colab": {
          "base_uri": "https://localhost:8080/"
        },
        "id": "aojPBRtWK23f",
        "outputId": "e554a7c9-51cc-4829-b0b8-f2cef8e2125d"
      },
      "execution_count": 26,
      "outputs": [
        {
          "output_type": "stream",
          "name": "stdout",
          "text": [
            "guardian\n"
          ]
        }
      ]
    },
    {
      "cell_type": "markdown",
      "source": [
        "## Alternativa de definir objetos y atributos es la siguiente"
      ],
      "metadata": {
        "id": "j-b-qPNxLxao"
      }
    },
    {
      "cell_type": "code",
      "source": [
        "class Registro:\n",
        "  pass"
      ],
      "metadata": {
        "id": "ytM1-ka6L33m"
      },
      "execution_count": 27,
      "outputs": []
    },
    {
      "cell_type": "code",
      "source": [
        "eva = Registro()\n",
        "laura = Registro()\n",
        "luis = Registro()\n",
        "eva.edad = 30\n",
        "eva.experiencia = 6\n",
        "eva.edo_civ = \"soltera\"\n",
        "laura.edad = 32\n",
        "laura.experiencia = 5\n",
        "laura.edo_civ = \"casada\"\n",
        "luis.edad = 28\n",
        "luis.experiencia = 1\n",
        "luis.edo_civ = \"soltero\""
      ],
      "metadata": {
        "id": "inwepYg6L6UM"
      },
      "execution_count": 29,
      "outputs": []
    },
    {
      "cell_type": "code",
      "source": [
        "print(luis.experiencia)\n",
        "print(eva.edo_civ)\n",
        "print(laura.edad)"
      ],
      "metadata": {
        "colab": {
          "base_uri": "https://localhost:8080/"
        },
        "id": "SY3lZ_rDNe3Q",
        "outputId": "7ef97543-9287-4ac9-dca6-4ea4e84c8b5e"
      },
      "execution_count": 30,
      "outputs": [
        {
          "output_type": "stream",
          "name": "stdout",
          "text": [
            "1\n",
            "soltera\n",
            "32\n"
          ]
        }
      ]
    },
    {
      "cell_type": "code",
      "source": [
        "class Oferta:\n",
        "  def descuento(self):\n",
        "    self.costo = 1200\n",
        "    self.desc = 0.15"
      ],
      "metadata": {
        "id": "rIortVUYNoU-"
      },
      "execution_count": 31,
      "outputs": []
    },
    {
      "cell_type": "code",
      "source": [
        "rebaja = Oferta()\n",
        "rebaja.descuento()\n",
        "print(rebaja.costo * rebaja.desc)"
      ],
      "metadata": {
        "colab": {
          "base_uri": "https://localhost:8080/"
        },
        "id": "xkY0u7IROVlr",
        "outputId": "1c804ee6-451b-45d1-a249-460370ce8079"
      },
      "execution_count": 32,
      "outputs": [
        {
          "output_type": "stream",
          "name": "stdout",
          "text": [
            "180.0\n"
          ]
        }
      ]
    },
    {
      "cell_type": "code",
      "source": [
        "from decimal import Decimal\n",
        "\n",
        "class Cuenta:\n",
        "    def __init__(self, nombre, ahorro):\n",
        "        if ahorro < Decimal(\"0.00\"):\n",
        "            raise ValueError(\"El capital inicial debe ser >= $0.00\")\n",
        "        self.nombre = nombre\n",
        "        self.ahorro = ahorro\n",
        "\n",
        "    def deposito(self, cantidad):\n",
        "        if cantidad < Decimal(\"0.00\"):\n",
        "            raise ValueError(\"El monto del deposito debe ser >= $0.00\")\n",
        "        self.ahorro += cantidad"
      ],
      "metadata": {
        "id": "wb-tvFa6O87r"
      },
      "execution_count": 33,
      "outputs": []
    },
    {
      "cell_type": "code",
      "source": [
        "cuenta1 = Cuenta(\"Juan\",2000)\n",
        "print(cuenta1.nombre)\n",
        "print(cuenta1.ahorro)"
      ],
      "metadata": {
        "colab": {
          "base_uri": "https://localhost:8080/"
        },
        "id": "l_L2q5jTLGtH",
        "outputId": "cd0afcba-60e9-421c-9cb1-565527991ff8"
      },
      "execution_count": 34,
      "outputs": [
        {
          "output_type": "stream",
          "name": "stdout",
          "text": [
            "Juan\n",
            "2000\n"
          ]
        }
      ]
    },
    {
      "cell_type": "code",
      "source": [
        "cuenta1.deposito(500)\n",
        "print(cuenta1.ahorro)"
      ],
      "metadata": {
        "colab": {
          "base_uri": "https://localhost:8080/"
        },
        "id": "kb4sUWriQ7Wy",
        "outputId": "eb621fec-a642-498c-c0db-7e3ace55b827"
      },
      "execution_count": 35,
      "outputs": [
        {
          "output_type": "stream",
          "name": "stdout",
          "text": [
            "2500\n"
          ]
        }
      ]
    },
    {
      "cell_type": "code",
      "source": [
        "cuenta1.deposito(-500)"
      ],
      "metadata": {
        "colab": {
          "base_uri": "https://localhost:8080/",
          "height": 245
        },
        "id": "VsD3EuH1RRGk",
        "outputId": "27ca5a96-0fe5-4977-e079-778e354fd15d"
      },
      "execution_count": 36,
      "outputs": [
        {
          "output_type": "error",
          "ename": "ValueError",
          "evalue": "El monto del deposito debe ser >= $0.00",
          "traceback": [
            "\u001b[0;31m---------------------------------------------------------------------------\u001b[0m",
            "\u001b[0;31mValueError\u001b[0m                                Traceback (most recent call last)",
            "\u001b[0;32m/tmp/ipython-input-160720749.py\u001b[0m in \u001b[0;36m<cell line: 0>\u001b[0;34m()\u001b[0m\n\u001b[0;32m----> 1\u001b[0;31m \u001b[0mcuenta1\u001b[0m\u001b[0;34m.\u001b[0m\u001b[0mdeposito\u001b[0m\u001b[0;34m(\u001b[0m\u001b[0;34m-\u001b[0m\u001b[0;36m500\u001b[0m\u001b[0;34m)\u001b[0m\u001b[0;34m\u001b[0m\u001b[0;34m\u001b[0m\u001b[0m\n\u001b[0m",
            "\u001b[0;32m/tmp/ipython-input-3196365926.py\u001b[0m in \u001b[0;36mdeposito\u001b[0;34m(self, cantidad)\u001b[0m\n\u001b[1;32m     10\u001b[0m     \u001b[0;32mdef\u001b[0m \u001b[0mdeposito\u001b[0m\u001b[0;34m(\u001b[0m\u001b[0mself\u001b[0m\u001b[0;34m,\u001b[0m \u001b[0mcantidad\u001b[0m\u001b[0;34m)\u001b[0m\u001b[0;34m:\u001b[0m\u001b[0;34m\u001b[0m\u001b[0;34m\u001b[0m\u001b[0m\n\u001b[1;32m     11\u001b[0m         \u001b[0;32mif\u001b[0m \u001b[0mcantidad\u001b[0m \u001b[0;34m<\u001b[0m \u001b[0mDecimal\u001b[0m\u001b[0;34m(\u001b[0m\u001b[0;34m\"0.00\"\u001b[0m\u001b[0;34m)\u001b[0m\u001b[0;34m:\u001b[0m  \u001b[0;31m# Corregir la sintaxis del if\u001b[0m\u001b[0;34m\u001b[0m\u001b[0;34m\u001b[0m\u001b[0m\n\u001b[0;32m---> 12\u001b[0;31m             \u001b[0;32mraise\u001b[0m \u001b[0mValueError\u001b[0m\u001b[0;34m(\u001b[0m\u001b[0;34m\"El monto del deposito debe ser >= $0.00\"\u001b[0m\u001b[0;34m)\u001b[0m\u001b[0;34m\u001b[0m\u001b[0;34m\u001b[0m\u001b[0m\n\u001b[0m\u001b[1;32m     13\u001b[0m         \u001b[0mself\u001b[0m\u001b[0;34m.\u001b[0m\u001b[0mahorro\u001b[0m \u001b[0;34m+=\u001b[0m \u001b[0mcantidad\u001b[0m\u001b[0;34m\u001b[0m\u001b[0;34m\u001b[0m\u001b[0m\n",
            "\u001b[0;31mValueError\u001b[0m: El monto del deposito debe ser >= $0.00"
          ]
        }
      ]
    },
    {
      "cell_type": "markdown",
      "source": [
        "# Herencia"
      ],
      "metadata": {
        "id": "qGI5c_KrRV2K"
      }
    },
    {
      "cell_type": "markdown",
      "source": [
        "## Se encuentran definidas varias clases , con la caracteristica , de que hay una clase inicial que las demas invocan , la clase inicial es llamada **padre** y a las otras se les llaman **hijos**"
      ],
      "metadata": {
        "id": "u_D6H99stW02"
      }
    },
    {
      "cell_type": "code",
      "source": [
        "from typing_extensions import Self\n",
        "class Personal:\n",
        "  pass\n",
        "  ## El constructor __init__ indica que los objetos para la clase Personal\n",
        "  ## deben tener 3 parametros nombre , profesion y cargo\n",
        "  def __init__(self,nombre,profesion,cargo):\n",
        "    self.nombre = nombre\n",
        "    self.profesion = profesion\n",
        "    self.cargo = cargo\n",
        "  def detalle(self):\n",
        "    return f\"{self.nombre} es un {self.profesion} y tiene el cargo de {self.cargo}\"\n"
      ],
      "metadata": {
        "id": "vjuAdzHouHE4"
      },
      "execution_count": 18,
      "outputs": []
    },
    {
      "cell_type": "code",
      "source": [
        "## Ahora se muestran otras dos clases con la peculiaridad\n",
        "## de que amabas llaman a la estructura de la clase Personal\n",
        "##Las clases heredan la estructura de la primera\n",
        "class pers_nuevo(Personal):\n",
        "  def contratacion(self,contrato):\n",
        "    return f\"{self.nombre} tiene contrato {self.contrato}\"\n",
        "class pers_advo(Personal):\n",
        "  def contratacion(self,contrato):\n",
        "    return f\"{self.nombre} tiene contrato {self.contrato}\"\n",
        "\n",
        "ingeniero = pers_nuevo(\"Juan\",\"ingeniero de Sistemas\",\"Supervision\")\n",
        "print(ingeniero.detalle())"
      ],
      "metadata": {
        "colab": {
          "base_uri": "https://localhost:8080/"
        },
        "id": "9eZx2ht8wVmC",
        "outputId": "ee1200ce-23e0-4559-8c1c-56737b24a6b3"
      },
      "execution_count": 21,
      "outputs": [
        {
          "output_type": "stream",
          "name": "stdout",
          "text": [
            "Juan es un ingeniero de Sistemas y tiene el cargo de Supervision\n"
          ]
        }
      ]
    },
    {
      "cell_type": "code",
      "source": [
        "from decimal import Decimal\n",
        "class Cuenta:\n",
        "  def __init__(self,nombre,capital):\n",
        "    if capital < Decimal(\"0.00\"):\n",
        "      raise ValueError (\"El capital inicial debe ser mayor >=$0.00\")\n",
        "    self.nombre = nombre\n",
        "    self.capital = capital\n",
        "  def informacion(self):\n",
        "    return f\"{self.nombre} tiene en su cuenta {self.capital}\""
      ],
      "metadata": {
        "id": "dOneiWwirt5Y"
      },
      "execution_count": 3,
      "outputs": []
    },
    {
      "cell_type": "code",
      "source": [
        "class Ahorro(Cuenta):\n",
        "  def cantidad(self,deposito):\n",
        "    if deposito < Decimal(\"0.00\"):\n",
        "      raise ValueError(\"La cantidad a depositar debe ser positiva\")\n",
        "    self.capital += deposito\n",
        "    return f\"{self.nombre} tiene ahora en su cuenta {self.capital}\""
      ],
      "metadata": {
        "id": "MYChrm2fuSE0"
      },
      "execution_count": 5,
      "outputs": []
    },
    {
      "cell_type": "code",
      "source": [
        "class Gasto(Cuenta):\n",
        "  def cantidad(self,retiro):\n",
        "    if retiro < Decimal(\"0.00\"):\n",
        "      raise ValueError(\"La cantidad a retirar debe ser positiva\")\n",
        "    #if retiro > self.capital:\n",
        "     #  raise ValueError(\"No hay suficiente capital para retirar\")\n",
        "    self.capital -= retiro\n",
        "    return f\"{self.nombre} tiene ahora en su cuenta {self.capital}\""
      ],
      "metadata": {
        "id": "9tf5JVSmwbFw"
      },
      "execution_count": 64,
      "outputs": []
    },
    {
      "cell_type": "code",
      "source": [
        "cuenta1 = Ahorro(\"Juan\",2000)\n",
        "print(cuenta1.informacion())"
      ],
      "metadata": {
        "colab": {
          "base_uri": "https://localhost:8080/"
        },
        "id": "a5tAU5lCxGGq",
        "outputId": "e42044a8-194c-42bd-bb37-228271ed6631"
      },
      "execution_count": 65,
      "outputs": [
        {
          "output_type": "stream",
          "name": "stdout",
          "text": [
            "Juan tiene en su cuenta 2000\n"
          ]
        }
      ]
    },
    {
      "cell_type": "code",
      "source": [
        "cuenta1.cantidad(1500)"
      ],
      "metadata": {
        "colab": {
          "base_uri": "https://localhost:8080/",
          "height": 36
        },
        "id": "so2CcEoExg2u",
        "outputId": "7095b37c-3053-4536-8de9-5e4e559ba2ee"
      },
      "execution_count": 66,
      "outputs": [
        {
          "output_type": "execute_result",
          "data": {
            "text/plain": [
              "'Juan tiene ahora en su cuenta 3500'"
            ],
            "application/vnd.google.colaboratory.intrinsic+json": {
              "type": "string"
            }
          },
          "metadata": {},
          "execution_count": 66
        }
      ]
    },
    {
      "cell_type": "code",
      "source": [
        "cuenta2 = Gasto(\"Paco\",5000)\n",
        "print(cuenta2.informacion())"
      ],
      "metadata": {
        "colab": {
          "base_uri": "https://localhost:8080/"
        },
        "id": "r1de5187xmpk",
        "outputId": "8082b34a-da29-42d0-af8e-803d008083d4"
      },
      "execution_count": 67,
      "outputs": [
        {
          "output_type": "stream",
          "name": "stdout",
          "text": [
            "Paco tiene en su cuenta 5000\n"
          ]
        }
      ]
    },
    {
      "cell_type": "code",
      "source": [
        "cuenta2.cantidad(50)"
      ],
      "metadata": {
        "colab": {
          "base_uri": "https://localhost:8080/",
          "height": 36
        },
        "id": "fnD7-HbJxtxR",
        "outputId": "5b8f0a44-301b-4954-e7fe-465d04b1bdd1"
      },
      "execution_count": 68,
      "outputs": [
        {
          "output_type": "execute_result",
          "data": {
            "text/plain": [
              "'Paco tiene ahora en su cuenta 4950'"
            ],
            "application/vnd.google.colaboratory.intrinsic+json": {
              "type": "string"
            }
          },
          "metadata": {},
          "execution_count": 68
        }
      ]
    },
    {
      "cell_type": "code",
      "source": [
        "print(cuenta2.capital)"
      ],
      "metadata": {
        "colab": {
          "base_uri": "https://localhost:8080/"
        },
        "id": "NKryvWtky6Dp",
        "outputId": "e27f6830-f7f2-498d-ea07-efef087e2760"
      },
      "execution_count": 69,
      "outputs": [
        {
          "output_type": "stream",
          "name": "stdout",
          "text": [
            "4950\n"
          ]
        }
      ]
    },
    {
      "cell_type": "code",
      "source": [
        "cuenta2.cantidad(5000)"
      ],
      "metadata": {
        "colab": {
          "base_uri": "https://localhost:8080/",
          "height": 36
        },
        "id": "YKtDln92zhA8",
        "outputId": "81bf10f9-3f6a-465c-9076-395816a77efd"
      },
      "execution_count": 70,
      "outputs": [
        {
          "output_type": "execute_result",
          "data": {
            "text/plain": [
              "'Paco tiene ahora en su cuenta -50'"
            ],
            "application/vnd.google.colaboratory.intrinsic+json": {
              "type": "string"
            }
          },
          "metadata": {},
          "execution_count": 70
        }
      ]
    }
  ]
}