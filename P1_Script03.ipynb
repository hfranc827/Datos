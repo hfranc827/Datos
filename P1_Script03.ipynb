{
  "nbformat": 4,
  "nbformat_minor": 0,
  "metadata": {
    "colab": {
      "provenance": [],
      "include_colab_link": true
    },
    "kernelspec": {
      "name": "python3",
      "display_name": "Python 3"
    },
    "language_info": {
      "name": "python"
    },
    "widgets": {
      "application/vnd.jupyter.widget-state+json": {
        "d6a245d5ada444a19488a4894532a0eb": {
          "model_module": "@jupyter-widgets/output",
          "model_name": "OutputModel",
          "model_module_version": "1.0.0",
          "state": {
            "_dom_classes": [],
            "_model_module": "@jupyter-widgets/output",
            "_model_module_version": "1.0.0",
            "_model_name": "OutputModel",
            "_view_count": null,
            "_view_module": "@jupyter-widgets/output",
            "_view_module_version": "1.0.0",
            "_view_name": "OutputView",
            "layout": "IPY_MODEL_25f72b6e1b3f4dfe97f7055ab575811e",
            "msg_id": "",
            "outputs": [
              {
                "output_type": "display_data",
                "data": {
                  "text/plain": "   \u001b[38;2;249;38;114m━━━━━━━━━━━━━━━━━━━━━━━━━━━━━━━━━━━━━━━\u001b[0m\u001b[38;2;249;38;114m╸\u001b[0m \u001b[32m17.7/17.7 MB\u001b[0m \u001b[31m108.6 MB/s\u001b[0m eta \u001b[36m0:00:01\u001b[0m\n",
                  "text/html": "<pre style=\"white-space:pre;overflow-x:auto;line-height:normal;font-family:Menlo,'DejaVu Sans Mono',consolas,'Courier New',monospace\">   <span style=\"color: #f92672; text-decoration-color: #f92672\">━━━━━━━━━━━━━━━━━━━━━━━━━━━━━━━━━━━━━━━╸</span> <span style=\"color: #008000; text-decoration-color: #008000\">17.7/17.7 MB</span> <span style=\"color: #800000; text-decoration-color: #800000\">108.6 MB/s</span> eta <span style=\"color: #008080; text-decoration-color: #008080\">0:00:01</span>\n</pre>\n"
                },
                "metadata": {}
              }
            ]
          }
        },
        "25f72b6e1b3f4dfe97f7055ab575811e": {
          "model_module": "@jupyter-widgets/base",
          "model_name": "LayoutModel",
          "model_module_version": "1.2.0",
          "state": {
            "_model_module": "@jupyter-widgets/base",
            "_model_module_version": "1.2.0",
            "_model_name": "LayoutModel",
            "_view_count": null,
            "_view_module": "@jupyter-widgets/base",
            "_view_module_version": "1.2.0",
            "_view_name": "LayoutView",
            "align_content": null,
            "align_items": null,
            "align_self": null,
            "border": null,
            "bottom": null,
            "display": null,
            "flex": null,
            "flex_flow": null,
            "grid_area": null,
            "grid_auto_columns": null,
            "grid_auto_flow": null,
            "grid_auto_rows": null,
            "grid_column": null,
            "grid_gap": null,
            "grid_row": null,
            "grid_template_areas": null,
            "grid_template_columns": null,
            "grid_template_rows": null,
            "height": null,
            "justify_content": null,
            "justify_items": null,
            "left": null,
            "margin": null,
            "max_height": null,
            "max_width": null,
            "min_height": null,
            "min_width": null,
            "object_fit": null,
            "object_position": null,
            "order": null,
            "overflow": null,
            "overflow_x": null,
            "overflow_y": null,
            "padding": null,
            "right": null,
            "top": null,
            "visibility": null,
            "width": null
          }
        }
      }
    }
  },
  "cells": [
    {
      "cell_type": "markdown",
      "metadata": {
        "id": "view-in-github",
        "colab_type": "text"
      },
      "source": [
        "<a href=\"https://colab.research.google.com/github/hfranc827/Datos/blob/main/P1_Script03.ipynb\" target=\"_parent\"><img src=\"https://colab.research.google.com/assets/colab-badge.svg\" alt=\"Open In Colab\"/></a>"
      ]
    },
    {
      "cell_type": "markdown",
      "source": [
        "# Repaso de la clase2 : Bloque `try-except`"
      ],
      "metadata": {
        "id": "vCTX_6D3iFat"
      }
    },
    {
      "cell_type": "code",
      "execution_count": null,
      "metadata": {
        "colab": {
          "base_uri": "https://localhost:8080/"
        },
        "id": "CzH0TYNehmTI",
        "outputId": "92d75e89-dc07-4704-8b2a-7929e9c06a35"
      },
      "outputs": [
        {
          "output_type": "stream",
          "name": "stdout",
          "text": [
            "Ingresa un numero entero : 0.1\n",
            "Ocurrio una Excepcion !!!\n",
            "Ingresa un numero entero : 5\n",
            "Ingresa un numero entero : 4\n",
            "Ingresa un numero entero : 3\n",
            "Ingresa un numero entero : 2\n",
            "Ingresa un numero entero : 1\n",
            "Valores admitidos :  [5, 4, 3, 2, 1]\n"
          ]
        }
      ],
      "source": [
        "# Ejemplito : Pidamos al usuario que ingrese cinco numeros enteros\n",
        "\n",
        "# Crear un dato de tipo lista para almacenar los numeros enteros\n",
        "# proveidos o ingresados por el usuario\n",
        "lista_num = list()\n",
        "\n",
        "# Utilicemos una estructura repetitiva while\n",
        "i = 1\n",
        "while i<=5:\n",
        "  # El bloque try : tiene el codigo para el caso todo funcione de manera correcta\n",
        "  try:\n",
        "    numero = int(input(\"Ingresa un numero entero : \"))\n",
        "    lista_num.append(numero)\n",
        "    i = i +1\n",
        "  # El bloque except : Para el caso en que se  levante/ejecute/instancia una excepcion\n",
        "  except:\n",
        "    print(\"Ocurrio una Excepcion !!!\")\n",
        "\n",
        "# Mostremos al usuario los valores admitidos\n",
        "print(\"Valores admitidos : \", lista_num)"
      ]
    },
    {
      "cell_type": "markdown",
      "source": [
        "# Otra ejemplito de una excepcion\n",
        "# Excepcion cuando un modulo no esta instalado : ModuleNotFoundError\n",
        "\n",
        "# Cuanto todo va bien : try\n",
        "try:\n",
        "  import pulp\n",
        "except:\n",
        "  # Acciones a realizar en caso se levante una excepcion\n",
        "  from pip._internal import main as pip\n",
        "  pip([\"install\", \"pulp\"])\n",
        "  import pulp\n",
        "\n",
        "# Accdeder a la documentacion\n",
        "help(pulp)"
      ],
      "metadata": {
        "id": "gtQ-CqWcFIu0"
      }
    },
    {
      "cell_type": "code",
      "source": [],
      "metadata": {
        "colab": {
          "base_uri": "https://localhost:8080/",
          "height": 1000,
          "referenced_widgets": [
            "d6a245d5ada444a19488a4894532a0eb",
            "25f72b6e1b3f4dfe97f7055ab575811e"
          ]
        },
        "id": "BDk4zophmQqF",
        "outputId": "cb721b80-e987-4695-9c18-527d9408de0c"
      },
      "execution_count": null,
      "outputs": [
        {
          "output_type": "stream",
          "name": "stderr",
          "text": [
            "/usr/local/lib/python3.11/dist-packages/_distutils_hack/__init__.py:31: UserWarning: Setuptools is replacing distutils. Support for replacing an already imported distutils is deprecated. In the future, this condition will fail. Register concerns at https://github.com/pypa/setuptools/issues/new?template=distutils-deprecation.yml\n",
            "  warnings.warn(\n",
            "WARNING: pip is being invoked by an old script wrapper. This will fail in a future version of pip.\n",
            "Please see https://github.com/pypa/pip/issues/5599 for advice on fixing the underlying issue.\n",
            "To avoid this problem you can invoke Python with '-m pip' instead of running pip directly.\n"
          ]
        },
        {
          "output_type": "display_data",
          "data": {
            "text/plain": [
              "Collecting pulp\n"
            ],
            "text/html": [
              "<pre style=\"white-space:pre;overflow-x:auto;line-height:normal;font-family:Menlo,'DejaVu Sans Mono',consolas,'Courier New',monospace\">Collecting pulp\n",
              "</pre>\n"
            ]
          },
          "metadata": {}
        },
        {
          "output_type": "display_data",
          "data": {
            "text/plain": [
              "  Downloading PuLP-2.9.0-py3-none-any.whl.metadata (5.4 kB)\n"
            ],
            "text/html": [
              "<pre style=\"white-space:pre;overflow-x:auto;line-height:normal;font-family:Menlo,'DejaVu Sans Mono',consolas,'Courier New',monospace\">  Downloading PuLP-2.9.0-py3-none-any.whl.metadata (5.4 kB)\n",
              "</pre>\n"
            ]
          },
          "metadata": {}
        },
        {
          "output_type": "display_data",
          "data": {
            "text/plain": [
              "Downloading PuLP-2.9.0-py3-none-any.whl (17.7 MB)\n"
            ],
            "text/html": [
              "<pre style=\"white-space:pre;overflow-x:auto;line-height:normal;font-family:Menlo,'DejaVu Sans Mono',consolas,'Courier New',monospace\">Downloading PuLP-2.9.0-py3-none-any.whl (17.7 MB)\n",
              "</pre>\n"
            ]
          },
          "metadata": {}
        },
        {
          "output_type": "display_data",
          "data": {
            "text/plain": [
              "Output()"
            ],
            "application/vnd.jupyter.widget-view+json": {
              "version_major": 2,
              "version_minor": 0,
              "model_id": "d6a245d5ada444a19488a4894532a0eb"
            }
          },
          "metadata": {}
        },
        {
          "output_type": "display_data",
          "data": {
            "text/plain": [],
            "text/html": [
              "<pre style=\"white-space:pre;overflow-x:auto;line-height:normal;font-family:Menlo,'DejaVu Sans Mono',consolas,'Courier New',monospace\"></pre>\n"
            ]
          },
          "metadata": {}
        },
        {
          "output_type": "display_data",
          "data": {
            "text/plain": [
              "\n"
            ],
            "text/html": [
              "<pre style=\"white-space:pre;overflow-x:auto;line-height:normal;font-family:Menlo,'DejaVu Sans Mono',consolas,'Courier New',monospace\">\n",
              "</pre>\n"
            ]
          },
          "metadata": {}
        },
        {
          "output_type": "display_data",
          "data": {
            "text/plain": [
              "Installing collected packages: pulp\n"
            ],
            "text/html": [
              "<pre style=\"white-space:pre;overflow-x:auto;line-height:normal;font-family:Menlo,'DejaVu Sans Mono',consolas,'Courier New',monospace\">Installing collected packages: pulp\n",
              "</pre>\n"
            ]
          },
          "metadata": {}
        },
        {
          "output_type": "display_data",
          "data": {
            "text/plain": [
              "Successfully installed pulp-2.9.0\n"
            ],
            "text/html": [
              "<pre style=\"white-space:pre;overflow-x:auto;line-height:normal;font-family:Menlo,'DejaVu Sans Mono',consolas,'Courier New',monospace\">Successfully installed pulp-2.9.0\n",
              "</pre>\n"
            ]
          },
          "metadata": {}
        },
        {
          "output_type": "stream",
          "name": "stdout",
          "text": [
            "Help on package pulp:\n",
            "\n",
            "NAME\n",
            "    pulp\n",
            "\n",
            "DESCRIPTION\n",
            "    PuLP is an LP modeler written in python. PuLP can generate MPS or LP files\n",
            "    and call GLPK[1], COIN CLP/CBC[2], CPLEX[3], GUROBI[4] and MOSEK[5] to solve linear\n",
            "    problems.\n",
            "    \n",
            "    See the examples directory for examples.\n",
            "    \n",
            "    The examples require at least a solver in your PATH or a shared library file.\n",
            "    \n",
            "    Documentation is found on https://www.coin-or.org/PuLP/.\n",
            "    A comprehensive wiki can be found at https://www.coin-or.org/PuLP/\n",
            "    \n",
            "    Use LpVariable() to create new variables. To create a variable 0 <= x <= 3\n",
            "    >>> x = LpVariable(\"x\", 0, 3)\n",
            "    \n",
            "    To create a variable 0 <= y <= 1\n",
            "    >>> y = LpVariable(\"y\", 0, 1)\n",
            "    \n",
            "    Use LpProblem() to create new problems. Create \"myProblem\"\n",
            "    >>> prob = LpProblem(\"myProblem\", const.LpMinimize)\n",
            "    \n",
            "    Combine variables to create expressions and constraints and add them to the\n",
            "    problem.\n",
            "    >>> prob += x + y <= 2\n",
            "    \n",
            "    If you add an expression (not a constraint), it will\n",
            "    become the objective.\n",
            "    >>> prob += -4 * x + y\n",
            "    \n",
            "    Choose a solver and solve the problem. ex:\n",
            "    >>> status = prob.solve(PULP_CBC_CMD(msg=0))\n",
            "    \n",
            "    Display the status of the solution\n",
            "    >>> const.LpStatus[status]\n",
            "    'Optimal'\n",
            "    \n",
            "    You can get the value of the variables using value(). ex:\n",
            "    >>> value(x)\n",
            "    2.0\n",
            "    \n",
            "    Exported Classes:\n",
            "        - LpProblem -- Container class for a Linear programming problem\n",
            "        - LpVariable -- Variables that are added to constraints in the LP\n",
            "        - LpConstraint -- A constraint of the general form\n",
            "          a1x1+a2x2 ...anxn (<=, =, >=) b\n",
            "        - LpConstraintVar -- Used to construct a column of the model in column-wise\n",
            "          modelling\n",
            "    \n",
            "    Exported Functions:\n",
            "        - value() -- Finds the value of a variable or expression\n",
            "        - lpSum() -- given a list of the form [a1*x1, a2x2, ..., anxn] will construct\n",
            "          a linear expression to be used as a constraint or variable\n",
            "        - lpDot() --given two lists of the form [a1, a2, ..., an] and\n",
            "          [ x1, x2, ..., xn] will construct a linear epression to be used\n",
            "          as a constraint or variable\n",
            "    \n",
            "    Comments, bug reports, patches and suggestions are welcome.\n",
            "    https://github.com/coin-or/pulp\n",
            "    \n",
            "    References:\n",
            "    [1] http://www.gnu.org/software/glpk/glpk.html\n",
            "    [2] http://www.coin-or.org/\n",
            "    [3] http://www.cplex.com/\n",
            "    [4] http://www.gurobi.com/\n",
            "    [5] http://www.mosek.com/\n",
            "\n",
            "PACKAGE CONTENTS\n",
            "    apis (package)\n",
            "    constants\n",
            "    mps_lp\n",
            "    pulp\n",
            "    solverdir (package)\n",
            "    sparse\n",
            "    tests (package)\n",
            "    utilities\n",
            "\n",
            "SUBMODULES\n",
            "    choco_api\n",
            "    coin_api\n",
            "    const\n",
            "    copt_api\n",
            "    core\n",
            "    cplex_api\n",
            "    glpk_api\n",
            "    gurobi_api\n",
            "    highs_api\n",
            "    mipcl_api\n",
            "    mosek_api\n",
            "    mpslp\n",
            "    scip_api\n",
            "    xpress_api\n",
            "\n",
            "FUNCTIONS\n",
            "    byref(...)\n",
            "        byref(C instance[, offset=0]) -> byref-object\n",
            "        Return a pointer lookalike to a C instance, only usable\n",
            "        as function argument\n",
            "    \n",
            "    clock = monotonic(...)\n",
            "        monotonic() -> float\n",
            "        \n",
            "        Monotonic clock, cannot go backward.\n",
            "    \n",
            "    maketrans(...)\n",
            "        Return a translation table usable for str.translate().\n",
            "        \n",
            "        If there is only one argument, it must be a dictionary mapping Unicode\n",
            "        ordinals (integers) or characters to Unicode ordinals, strings or None.\n",
            "        Character keys will be then converted to ordinals.\n",
            "        If there are two arguments, they must be strings of equal length, and\n",
            "        in the resulting dictionary, each character in x will be mapped to the\n",
            "        character at the same position in y. If there is a third argument, it\n",
            "        must be a string, whose characters will be mapped to None in the result.\n",
            "    \n",
            "    time(...)\n",
            "        time() -> floating point number\n",
            "        \n",
            "        Return the current time in seconds since the Epoch.\n",
            "        Fractions of a second may be present if the system clock provides them.\n",
            "\n",
            "DATA\n",
            "    DIRNAME = '/usr/local/lib/python3.11/dist-packages/pulp/apis'\n",
            "    Dict = typing.Dict\n",
            "        A generic version of dict.\n",
            "    \n",
            "    EPS = 1e-07\n",
            "    List = typing.List\n",
            "        A generic version of list.\n",
            "    \n",
            "    LpBinary = 'Binary'\n",
            "    LpCategories = {'Binary': 'Binary', 'Continuous': 'Continuous', 'Integ...\n",
            "    LpConstraintEQ = 0\n",
            "    LpConstraintGE = 1\n",
            "    LpConstraintLE = -1\n",
            "    LpConstraintSenses = {-1: '<=', 0: '=', 1: '>='}\n",
            "    LpConstraintTypeToMps = {-1: 'L', 0: 'E', 1: 'G'}\n",
            "    LpContinuous = 'Continuous'\n",
            "    LpCplexLPLineSize = 78\n",
            "    LpInteger = 'Integer'\n",
            "    LpMaximize = -1\n",
            "    LpMinimize = 1\n",
            "    LpSenses = {-1: 'Maximize', 1: 'Minimize'}\n",
            "    LpSensesMPS = {-1: 'MAX', 1: 'MIN'}\n",
            "    LpSolution = {-2: 'Solution is Unbounded', -1: 'No Solution Exists', 0...\n",
            "    LpSolutionInfeasible = -1\n",
            "    LpSolutionIntegerFeasible = 2\n",
            "    LpSolutionNoSolutionFound = 0\n",
            "    LpSolutionOptimal = 1\n",
            "    LpSolutionUnbounded = -2\n",
            "    LpSolverDefault = <pulp.apis.coin_api.PULP_CBC_CMD object>\n",
            "    LpStatus = {-3: 'Undefined', -2: 'Unbounded', -1: 'Infeasible', 0: 'No...\n",
            "    LpStatusInfeasible = -1\n",
            "    LpStatusNotSolved = 0\n",
            "    LpStatusOptimal = 1\n",
            "    LpStatusToSolution = {-3: -1, -2: -2, -1: -1, 0: -1, 1: 1}\n",
            "    LpStatusUnbounded = -2\n",
            "    LpStatusUndefined = -3\n",
            "    Optional = typing.Optional\n",
            "        Optional[X] is equivalent to Union[X, None].\n",
            "    \n",
            "    PULPCFGFILE = 'pulp.cfg.linux'\n",
            "    Tuple = typing.Tuple\n",
            "        Deprecated alias to builtins.tuple.\n",
            "        \n",
            "        Tuple[X, Y] is the cross-product type of X and Y.\n",
            "        \n",
            "        Example: Tuple[T1, T2] is a tuple of two elements corresponding\n",
            "        to type variables T1 and T2.  Tuple[int, float, str] is a tuple\n",
            "        of an int, a float and a string.\n",
            "        \n",
            "        To specify a variable-length tuple of homogeneous type, use Tuple[T, ...].\n",
            "    \n",
            "    Union = typing.Union\n",
            "        Union type; Union[X, Y] means either X or Y.\n",
            "        \n",
            "        On Python 3.10 and higher, the | operator\n",
            "        can also be used to denote unions;\n",
            "        X | Y means the same thing to the type checker as Union[X, Y].\n",
            "        \n",
            "        To define a union, use e.g. Union[int, str]. Details:\n",
            "        - The arguments must be types and there must be at least one.\n",
            "        - None as an argument is a special case and is replaced by\n",
            "          type(None).\n",
            "        - Unions of unions are flattened, e.g.::\n",
            "        \n",
            "            assert Union[Union[int, str], float] == Union[int, str, float]\n",
            "        \n",
            "        - Unions of a single argument vanish, e.g.::\n",
            "        \n",
            "            assert Union[int] == int  # The constructor actually returns int\n",
            "        \n",
            "        - Redundant arguments are skipped, e.g.::\n",
            "        \n",
            "            assert Union[int, str, int] == Union[int, str]\n",
            "        \n",
            "        - When comparing unions, the argument order is ignored, e.g.::\n",
            "        \n",
            "            assert Union[int, str] == Union[str, int]\n",
            "        \n",
            "        - You cannot subclass or instantiate a union.\n",
            "        - You can use Optional[X] as a shorthand for Union[X, None].\n",
            "    \n",
            "    VERSION = '2.9.0'\n",
            "    arch = '64'\n",
            "    cbc_path = 'cbc'\n",
            "    coinMP_path = ['/usr/local/lib/python3.11/dist-packages/pulp/libCoinMP...\n",
            "    config_filename = '/usr/local/lib/python3.11/dist-packages/pulp/pulp.c...\n",
            "    coptctype = {'Binary': b'B', 'Continuous': b'C', 'Integer': b'I'}\n",
            "    coptlpstat = {0: 0, 1: 1, 2: -1, 3: -2, 4: 0, 5: 0, 6: 0, 8: 0, 9: 0, ...\n",
            "    coptobjsen = {-1: -1, 1: 1}\n",
            "    coptrsense = {-1: b'L', 0: b'E', 1: b'G'}\n",
            "    cplex_dll_path = '/usr/ilog/cplex/bin/x86_rhel4.0_3.4/libcplex110.so'\n",
            "    devnull = -3\n",
            "    fscip_path = 'fscip'\n",
            "    glpk = None\n",
            "    glpk_path = 'glpsol'\n",
            "    gp = None\n",
            "    gurobi_path = '/opt/gurobi201/linux32/lib/python2.5'\n",
            "    ilm_cplex_license = r'LICENSE your-enterprise\\nRUNTIME NEVER ...'\n",
            "    ilm_cplex_license_signature = 0\n",
            "    inf = inf\n",
            "    is_64bits = True\n",
            "    log = <VerboseLogger pulp.apis.core (DEBUG)>\n",
            "    operating_system = 'linux'\n",
            "    pulp_cbc_path = '/usr/local/lib/python3.11/dist-packages/pulp/solverdi...\n",
            "    scip_path = 'scip'\n",
            "    xpress = None\n",
            "    yaposib = None\n",
            "\n",
            "VERSION\n",
            "    2.9.0\n",
            "\n",
            "FILE\n",
            "    /usr/local/lib/python3.11/dist-packages/pulp/__init__.py\n",
            "\n",
            "\n"
          ]
        }
      ]
    },
    {
      "cell_type": "markdown",
      "source": [],
      "metadata": {
        "id": "Cs061a9lFHRZ"
      }
    },
    {
      "cell_type": "markdown",
      "source": [
        "# Uso del bloque `else` con el bloque `try-except`"
      ],
      "metadata": {
        "id": "ZkcIE3c2n1Lj"
      }
    },
    {
      "cell_type": "code",
      "source": [
        "try :\n",
        "  x  = 3.15/0.0\n",
        "except:\n",
        "  print(\"Operacion inadecuada\")\n",
        "  x = float(input(\"Ingresa el numerador : \"))\n",
        "  y = float(input(\"Ingrese el denominador : \"))\n",
        "else:\n",
        "  print(\"Usuario : 'No a ocurrido excepcion alguna.'\")"
      ],
      "metadata": {
        "colab": {
          "base_uri": "https://localhost:8080/"
        },
        "id": "xa5cZVTZn631",
        "outputId": "c09c550e-b8aa-4453-fb80-197be2c451cb"
      },
      "execution_count": null,
      "outputs": [
        {
          "name": "stdout",
          "output_type": "stream",
          "text": [
            "Operacion inadecuada\n",
            "Ingresa el numerador : 3.15\n",
            "Ingrese el denominador : 2.6\n"
          ]
        }
      ]
    },
    {
      "cell_type": "code",
      "source": [
        "try :\n",
        "  x  = 3.15/2.0\n",
        "except:\n",
        "  print(\"Operacion inadecuada\")\n",
        "  x = float(input(\"Ingresa el numerador : \"))\n",
        "  y = float(input(\"Ingrese el denominador : \"))\n",
        "else:\n",
        "  print(\"Usuario : 'No a ocurrido excepcion alguna.'\")"
      ],
      "metadata": {
        "colab": {
          "base_uri": "https://localhost:8080/"
        },
        "id": "FyUM5827obKL",
        "outputId": "61744dba-56af-42cf-9983-6a8b65281eaf"
      },
      "execution_count": null,
      "outputs": [
        {
          "output_type": "stream",
          "name": "stdout",
          "text": [
            "Usuario : 'No a ocurrido excepcion alguna.'\n"
          ]
        }
      ]
    },
    {
      "cell_type": "markdown",
      "source": [
        "# La palabra reservada `finally`"
      ],
      "metadata": {
        "id": "cyqy7acIox7h"
      }
    },
    {
      "cell_type": "code",
      "source": [
        "# Supongamos que necesitamos cargar en memoria ram el contenido de un archivo de texto\n",
        "try :\n",
        "  with open(\"vulnerabilidades.txt\") as file:\n",
        "    data_obtenieda = file.read()\n",
        "except FileNotFoundError:\n",
        "  print(\"Usuario : Se lanzo una excepcion y no es posible cargar el contenido de 'vulnerabilidades.txt' en la BD\")\n",
        "  x1 = \"blablabla\"\n",
        "  import numpy as np\n",
        "  y0 = np.random.randint(0,666, (10**3,20**3))\n",
        "except OSError:\n",
        "  print(\"Usuario : El error proviene de la interaccion con el sistema operativo\")\n",
        "  import scipy\n",
        "  # Algunas otras tareas\n",
        "else:\n",
        "  print(\"No a ocurrido excepcion alguna\")\n",
        "finally:\n",
        "  import os\n",
        "  os.system(\"wget https://raw.githubusercontent.com/robintux/Datasets4StackOverFlowQuestions/refs/heads/master/Advertising.csv\")\n",
        "  import numpy as np\n",
        "  y1 = np.random.randint(0,666,10**3)\n",
        "  print(y1.shape)\n"
      ],
      "metadata": {
        "colab": {
          "base_uri": "https://localhost:8080/"
        },
        "id": "qP-C91e2pG9H",
        "outputId": "43a0efb4-517f-4441-c894-05b6b83fe31d"
      },
      "execution_count": null,
      "outputs": [
        {
          "output_type": "stream",
          "name": "stdout",
          "text": [
            "Usuario : Se lanzo una excepcion y no es posible cargar el contenido de 'vulnerabilidades.txt' en la BD\n",
            "(1000,)\n"
          ]
        }
      ]
    },
    {
      "cell_type": "code",
      "source": [
        "x1"
      ],
      "metadata": {
        "colab": {
          "base_uri": "https://localhost:8080/",
          "height": 35
        },
        "id": "ZgwLZju4rraC",
        "outputId": "4b4504a6-ff34-4054-9226-d0342268d0bb"
      },
      "execution_count": null,
      "outputs": [
        {
          "output_type": "execute_result",
          "data": {
            "text/plain": [
              "'blablabla'"
            ],
            "application/vnd.google.colaboratory.intrinsic+json": {
              "type": "string"
            }
          },
          "metadata": {},
          "execution_count": 8
        }
      ]
    },
    {
      "cell_type": "code",
      "source": [
        "y0"
      ],
      "metadata": {
        "colab": {
          "base_uri": "https://localhost:8080/"
        },
        "id": "oycPzjhEruAp",
        "outputId": "05f5269b-00af-42e4-f17e-91bce9cfac16"
      },
      "execution_count": null,
      "outputs": [
        {
          "output_type": "execute_result",
          "data": {
            "text/plain": [
              "array([[246,  25, 381, ..., 147, 219, 420],\n",
              "       [622, 514, 226, ..., 428, 279, 178],\n",
              "       [ 65, 342, 250, ..., 129, 347, 487],\n",
              "       ...,\n",
              "       [580, 458, 605, ..., 323, 345, 224],\n",
              "       [ 70, 657, 206, ..., 103, 449, 601],\n",
              "       [428,  53, 589, ..., 118,  70, 414]])"
            ]
          },
          "metadata": {},
          "execution_count": 9
        }
      ]
    },
    {
      "cell_type": "markdown",
      "source": [
        "# Depuracion durante el desarrollo : La palabra reservada assert"
      ],
      "metadata": {
        "id": "8PofyX22ttm9"
      }
    },
    {
      "cell_type": "code",
      "source": [
        "# Primer caso de uso\n",
        "number = 1\n",
        "\n",
        "# Segundo caso de uso\n",
        "number = 10\n",
        "\n",
        "assert (number < 5), \"El numero/input/entrada no debe ser mayor a 5\""
      ],
      "metadata": {
        "colab": {
          "base_uri": "https://localhost:8080/",
          "height": 176
        },
        "id": "zFiRbYj-tyJS",
        "outputId": "595604fd-cec2-4168-d46a-6f6faf4971be"
      },
      "execution_count": null,
      "outputs": [
        {
          "output_type": "error",
          "ename": "AssertionError",
          "evalue": "El numero/input/entrada no debe ser mayor a 5",
          "traceback": [
            "\u001b[0;31m---------------------------------------------------------------------------\u001b[0m",
            "\u001b[0;31mAssertionError\u001b[0m                            Traceback (most recent call last)",
            "\u001b[0;32m<ipython-input-11-7c3e2a560976>\u001b[0m in \u001b[0;36m<cell line: 0>\u001b[0;34m()\u001b[0m\n\u001b[1;32m      4\u001b[0m \u001b[0;31m# Segundo caso de uso\u001b[0m\u001b[0;34m\u001b[0m\u001b[0;34m\u001b[0m\u001b[0m\n\u001b[1;32m      5\u001b[0m \u001b[0mnumber\u001b[0m \u001b[0;34m=\u001b[0m \u001b[0;36m10\u001b[0m\u001b[0;34m\u001b[0m\u001b[0;34m\u001b[0m\u001b[0m\n\u001b[0;32m----> 6\u001b[0;31m \u001b[0;32massert\u001b[0m \u001b[0;34m(\u001b[0m\u001b[0mnumber\u001b[0m \u001b[0;34m<\u001b[0m \u001b[0;36m5\u001b[0m\u001b[0;34m)\u001b[0m\u001b[0;34m,\u001b[0m \u001b[0;34m\"El numero/input/entrada no debe ser mayor a 5\"\u001b[0m\u001b[0;34m\u001b[0m\u001b[0;34m\u001b[0m\u001b[0m\n\u001b[0m",
            "\u001b[0;31mAssertionError\u001b[0m: El numero/input/entrada no debe ser mayor a 5"
          ]
        }
      ]
    },
    {
      "cell_type": "code",
      "source": [
        "# Ejemplito mas trivial : Obtengamos un AssertionError\n",
        "assert(1==2)"
      ],
      "metadata": {
        "colab": {
          "base_uri": "https://localhost:8080/",
          "height": 158
        },
        "id": "6mfeLCpjuUhT",
        "outputId": "47f7dafc-b298-42e6-be23-b94bf5b0c4e9"
      },
      "execution_count": null,
      "outputs": [
        {
          "output_type": "error",
          "ename": "AssertionError",
          "evalue": "",
          "traceback": [
            "\u001b[0;31m---------------------------------------------------------------------------\u001b[0m",
            "\u001b[0;31mAssertionError\u001b[0m                            Traceback (most recent call last)",
            "\u001b[0;32m<ipython-input-12-2638403ffb50>\u001b[0m in \u001b[0;36m<cell line: 0>\u001b[0;34m()\u001b[0m\n\u001b[1;32m      1\u001b[0m \u001b[0;31m# Ejemplito mas trivial : Obtengamos un AssertionError\u001b[0m\u001b[0;34m\u001b[0m\u001b[0;34m\u001b[0m\u001b[0m\n\u001b[0;32m----> 2\u001b[0;31m \u001b[0;32massert\u001b[0m\u001b[0;34m(\u001b[0m\u001b[0;36m1\u001b[0m\u001b[0;34m==\u001b[0m\u001b[0;36m2\u001b[0m\u001b[0;34m)\u001b[0m\u001b[0;34m\u001b[0m\u001b[0;34m\u001b[0m\u001b[0m\n\u001b[0m",
            "\u001b[0;31mAssertionError\u001b[0m: "
          ]
        }
      ]
    },
    {
      "cell_type": "code",
      "source": [
        "# Veamos otra manera (ya aprendida en clase : palabra reservadad raise) de\n",
        "# como ejecutar una excepcion\n",
        "if 1==1:\n",
        "  raise AssertionError()"
      ],
      "metadata": {
        "colab": {
          "base_uri": "https://localhost:8080/",
          "height": 176
        },
        "id": "UiDJ6J8bukbp",
        "outputId": "d96dcacc-4913-40f6-a389-035468ac0f4b"
      },
      "execution_count": null,
      "outputs": [
        {
          "output_type": "error",
          "ename": "AssertionError",
          "evalue": "",
          "traceback": [
            "\u001b[0;31m---------------------------------------------------------------------------\u001b[0m",
            "\u001b[0;31mAssertionError\u001b[0m                            Traceback (most recent call last)",
            "\u001b[0;32m<ipython-input-13-8032d27885bb>\u001b[0m in \u001b[0;36m<cell line: 0>\u001b[0;34m()\u001b[0m\n\u001b[1;32m      2\u001b[0m \u001b[0;31m# como ejecutar una excepcion\u001b[0m\u001b[0;34m\u001b[0m\u001b[0;34m\u001b[0m\u001b[0m\n\u001b[1;32m      3\u001b[0m \u001b[0;32mif\u001b[0m \u001b[0;36m1\u001b[0m\u001b[0;34m==\u001b[0m\u001b[0;36m1\u001b[0m\u001b[0;34m:\u001b[0m\u001b[0;34m\u001b[0m\u001b[0;34m\u001b[0m\u001b[0m\n\u001b[0;32m----> 4\u001b[0;31m   \u001b[0;32mraise\u001b[0m \u001b[0mAssertionError\u001b[0m\u001b[0;34m(\u001b[0m\u001b[0;34m)\u001b[0m\u001b[0;34m\u001b[0m\u001b[0;34m\u001b[0m\u001b[0m\n\u001b[0m",
            "\u001b[0;31mAssertionError\u001b[0m: "
          ]
        }
      ]
    },
    {
      "cell_type": "code",
      "source": [
        "# Asociado a la ejecucion de la clase AssertionError, podemos mostrar un mensaje informativo\n",
        "assert  False, \"La condicional que evalua assert es False\""
      ],
      "metadata": {
        "colab": {
          "base_uri": "https://localhost:8080/",
          "height": 158
        },
        "id": "bmH5QTXWu3jd",
        "outputId": "5a459ecd-22fd-4ebb-dcad-9fd034b45027"
      },
      "execution_count": null,
      "outputs": [
        {
          "output_type": "error",
          "ename": "AssertionError",
          "evalue": "La condicional que evalua assert es False",
          "traceback": [
            "\u001b[0;31m---------------------------------------------------------------------------\u001b[0m",
            "\u001b[0;31mAssertionError\u001b[0m                            Traceback (most recent call last)",
            "\u001b[0;32m<ipython-input-14-a73069ab1400>\u001b[0m in \u001b[0;36m<cell line: 0>\u001b[0;34m()\u001b[0m\n\u001b[1;32m      1\u001b[0m \u001b[0;31m# Asociado a la ejecucion de la clase AssertionError, podemos mostrar un mensaje informativo\u001b[0m\u001b[0;34m\u001b[0m\u001b[0;34m\u001b[0m\u001b[0m\n\u001b[0;32m----> 2\u001b[0;31m \u001b[0;32massert\u001b[0m  \u001b[0;32mFalse\u001b[0m\u001b[0;34m,\u001b[0m \u001b[0;34m\"La condicional que evalua assert es False\"\u001b[0m\u001b[0;34m\u001b[0m\u001b[0;34m\u001b[0m\u001b[0m\n\u001b[0m",
            "\u001b[0;31mAssertionError\u001b[0m: La condicional que evalua assert es False"
          ]
        }
      ]
    },
    {
      "cell_type": "markdown",
      "source": [
        "# Uso de assert en testing"
      ],
      "metadata": {
        "id": "74s0bbf5vXoV"
      }
    },
    {
      "cell_type": "code",
      "source": [
        "# Implementemos el primer requerimiento de un proyecto\n",
        "# Funcion que calcule la media aritmetica de los elementos que\n",
        "# componen a una lista\n",
        "def calcular_media(lista):\n",
        "  return sum(lista)/len(lista)"
      ],
      "metadata": {
        "id": "B9K_SF_0vcvB"
      },
      "execution_count": null,
      "outputs": []
    },
    {
      "cell_type": "code",
      "source": [
        "# Caso de uso 1\n",
        "  # input : [12,13,15,19]\n",
        "  # output : 14.75\n",
        "lista_datos = [12,13,15,19]\n",
        "calcular_media(lista_datos)"
      ],
      "metadata": {
        "colab": {
          "base_uri": "https://localhost:8080/"
        },
        "id": "HGOuKoozvzfQ",
        "outputId": "c5ac2e28-07ae-4135-ec66-041dd37f5d05"
      },
      "execution_count": null,
      "outputs": [
        {
          "output_type": "execute_result",
          "data": {
            "text/plain": [
              "14.75"
            ]
          },
          "metadata": {},
          "execution_count": 16
        }
      ]
    },
    {
      "cell_type": "code",
      "source": [
        "# caso de uso 2\n",
        "  # input : [5,10,4,5]\n",
        "  # output = 7.51\n",
        "assert(calcular_media([5,10,4,5]) == 7.51)"
      ],
      "metadata": {
        "colab": {
          "base_uri": "https://localhost:8080/",
          "height": 176
        },
        "id": "O1punw2kwPe2",
        "outputId": "96ae2b5a-28c4-4654-b518-014ae74feeb7"
      },
      "execution_count": null,
      "outputs": [
        {
          "output_type": "error",
          "ename": "AssertionError",
          "evalue": "",
          "traceback": [
            "\u001b[0;31m---------------------------------------------------------------------------\u001b[0m",
            "\u001b[0;31mAssertionError\u001b[0m                            Traceback (most recent call last)",
            "\u001b[0;32m<ipython-input-17-083a4cf61085>\u001b[0m in \u001b[0;36m<cell line: 0>\u001b[0;34m()\u001b[0m\n\u001b[1;32m      2\u001b[0m   \u001b[0;31m# input : [5,10,4,5]\u001b[0m\u001b[0;34m\u001b[0m\u001b[0;34m\u001b[0m\u001b[0m\n\u001b[1;32m      3\u001b[0m   \u001b[0;31m# output = 7.51\u001b[0m\u001b[0;34m\u001b[0m\u001b[0;34m\u001b[0m\u001b[0m\n\u001b[0;32m----> 4\u001b[0;31m \u001b[0;32massert\u001b[0m\u001b[0;34m(\u001b[0m\u001b[0mcalcular_media\u001b[0m\u001b[0;34m(\u001b[0m\u001b[0;34m[\u001b[0m\u001b[0;36m5\u001b[0m\u001b[0;34m,\u001b[0m\u001b[0;36m10\u001b[0m\u001b[0;34m,\u001b[0m\u001b[0;36m4\u001b[0m\u001b[0;34m,\u001b[0m\u001b[0;36m5\u001b[0m\u001b[0;34m]\u001b[0m\u001b[0;34m)\u001b[0m \u001b[0;34m==\u001b[0m \u001b[0;36m7.51\u001b[0m\u001b[0;34m)\u001b[0m\u001b[0;34m\u001b[0m\u001b[0;34m\u001b[0m\u001b[0m\n\u001b[0m",
            "\u001b[0;31mAssertionError\u001b[0m: "
          ]
        }
      ]
    },
    {
      "cell_type": "markdown",
      "source": [
        "# Uso de assert dentro de funciones"
      ],
      "metadata": {
        "id": "wO2VQJ7SxVm7"
      }
    },
    {
      "cell_type": "code",
      "source": [
        "# Implementemos una funcion suma (con solo dos argumentos) que solo desarrolle\n",
        "# o calcule la adicion o suma de estos argumentos en caso estos sean numeros enteros\n",
        "def suma(arg1, arg2):\n",
        "  # Usemos assert para levantar una excepcion en caso arg1 o arg2 no sean datos de tipo entero\n",
        "  assert(type(arg1) == int),\"El primer argumento debe ser un numero entero\"\n",
        "  assert(type(arg2) == int),\"El segundo argumento debe ser un numero entero\"\n",
        "  return arg1 + arg2\n",
        "\n",
        "# print(suma(12,12))\n",
        "# print(suma(\"zxc\",\"abs\"))\n",
        "# print(suma([12,23,34], [0,1,2]))"
      ],
      "metadata": {
        "id": "dxdsvwtjxX79"
      },
      "execution_count": null,
      "outputs": []
    },
    {
      "cell_type": "code",
      "source": [
        "# Caso de uso 1\n",
        "suma(\"a\", 2)"
      ],
      "metadata": {
        "colab": {
          "base_uri": "https://localhost:8080/",
          "height": 280
        },
        "id": "qsGGWavAyrys",
        "outputId": "c7a462d2-1c15-41c7-b9fc-27415492af59"
      },
      "execution_count": null,
      "outputs": [
        {
          "output_type": "error",
          "ename": "AssertionError",
          "evalue": "El primer argumento debe ser un numero entero",
          "traceback": [
            "\u001b[0;31m---------------------------------------------------------------------------\u001b[0m",
            "\u001b[0;31mAssertionError\u001b[0m                            Traceback (most recent call last)",
            "\u001b[0;32m<ipython-input-20-6aa336ae3102>\u001b[0m in \u001b[0;36m<cell line: 0>\u001b[0;34m()\u001b[0m\n\u001b[1;32m      1\u001b[0m \u001b[0;31m# Caso de uso 1\u001b[0m\u001b[0;34m\u001b[0m\u001b[0;34m\u001b[0m\u001b[0m\n\u001b[0;32m----> 2\u001b[0;31m \u001b[0msuma\u001b[0m\u001b[0;34m(\u001b[0m\u001b[0;34m\"a\"\u001b[0m\u001b[0;34m,\u001b[0m \u001b[0;36m2\u001b[0m\u001b[0;34m)\u001b[0m\u001b[0;34m\u001b[0m\u001b[0;34m\u001b[0m\u001b[0m\n\u001b[0m",
            "\u001b[0;32m<ipython-input-19-6139941cc692>\u001b[0m in \u001b[0;36msuma\u001b[0;34m(arg1, arg2)\u001b[0m\n\u001b[1;32m      3\u001b[0m \u001b[0;32mdef\u001b[0m \u001b[0msuma\u001b[0m\u001b[0;34m(\u001b[0m\u001b[0marg1\u001b[0m\u001b[0;34m,\u001b[0m \u001b[0marg2\u001b[0m\u001b[0;34m)\u001b[0m\u001b[0;34m:\u001b[0m\u001b[0;34m\u001b[0m\u001b[0;34m\u001b[0m\u001b[0m\n\u001b[1;32m      4\u001b[0m   \u001b[0;31m# Usemos assert para levantar una excepcion en caso arg1 o arg2 no sean datos de tipo entero\u001b[0m\u001b[0;34m\u001b[0m\u001b[0;34m\u001b[0m\u001b[0m\n\u001b[0;32m----> 5\u001b[0;31m   \u001b[0;32massert\u001b[0m\u001b[0;34m(\u001b[0m\u001b[0mtype\u001b[0m\u001b[0;34m(\u001b[0m\u001b[0marg1\u001b[0m\u001b[0;34m)\u001b[0m \u001b[0;34m==\u001b[0m \u001b[0mint\u001b[0m\u001b[0;34m)\u001b[0m\u001b[0;34m,\u001b[0m\u001b[0;34m\"El primer argumento debe ser un numero entero\"\u001b[0m\u001b[0;34m\u001b[0m\u001b[0;34m\u001b[0m\u001b[0m\n\u001b[0m\u001b[1;32m      6\u001b[0m   \u001b[0;32massert\u001b[0m\u001b[0;34m(\u001b[0m\u001b[0mtype\u001b[0m\u001b[0;34m(\u001b[0m\u001b[0marg2\u001b[0m\u001b[0;34m)\u001b[0m \u001b[0;34m==\u001b[0m \u001b[0mint\u001b[0m\u001b[0;34m)\u001b[0m\u001b[0;34m,\u001b[0m\u001b[0;34m\"El segundo argumento debe ser un numero entero\"\u001b[0m\u001b[0;34m\u001b[0m\u001b[0;34m\u001b[0m\u001b[0m\n\u001b[1;32m      7\u001b[0m   \u001b[0;32mreturn\u001b[0m \u001b[0marg1\u001b[0m \u001b[0;34m+\u001b[0m \u001b[0marg2\u001b[0m\u001b[0;34m\u001b[0m\u001b[0;34m\u001b[0m\u001b[0m\n",
            "\u001b[0;31mAssertionError\u001b[0m: El primer argumento debe ser un numero entero"
          ]
        }
      ]
    },
    {
      "cell_type": "code",
      "source": [
        "# caso de uso 2\n",
        "suma(1.000000000000000, 2)"
      ],
      "metadata": {
        "colab": {
          "base_uri": "https://localhost:8080/",
          "height": 280
        },
        "id": "PqbTn2zFy1Z3",
        "outputId": "189d05b3-d5bf-4c6b-9244-56cfe0600f8e"
      },
      "execution_count": null,
      "outputs": [
        {
          "output_type": "error",
          "ename": "AssertionError",
          "evalue": "El primer argumento debe ser un numero entero",
          "traceback": [
            "\u001b[0;31m---------------------------------------------------------------------------\u001b[0m",
            "\u001b[0;31mAssertionError\u001b[0m                            Traceback (most recent call last)",
            "\u001b[0;32m<ipython-input-21-69c8e647cd17>\u001b[0m in \u001b[0;36m<cell line: 0>\u001b[0;34m()\u001b[0m\n\u001b[1;32m      1\u001b[0m \u001b[0;31m# caso de uso 2\u001b[0m\u001b[0;34m\u001b[0m\u001b[0;34m\u001b[0m\u001b[0m\n\u001b[0;32m----> 2\u001b[0;31m \u001b[0msuma\u001b[0m\u001b[0;34m(\u001b[0m\u001b[0;36m1.000000000000000\u001b[0m\u001b[0;34m,\u001b[0m \u001b[0;36m2\u001b[0m\u001b[0;34m)\u001b[0m\u001b[0;34m\u001b[0m\u001b[0;34m\u001b[0m\u001b[0m\n\u001b[0m",
            "\u001b[0;32m<ipython-input-19-6139941cc692>\u001b[0m in \u001b[0;36msuma\u001b[0;34m(arg1, arg2)\u001b[0m\n\u001b[1;32m      3\u001b[0m \u001b[0;32mdef\u001b[0m \u001b[0msuma\u001b[0m\u001b[0;34m(\u001b[0m\u001b[0marg1\u001b[0m\u001b[0;34m,\u001b[0m \u001b[0marg2\u001b[0m\u001b[0;34m)\u001b[0m\u001b[0;34m:\u001b[0m\u001b[0;34m\u001b[0m\u001b[0;34m\u001b[0m\u001b[0m\n\u001b[1;32m      4\u001b[0m   \u001b[0;31m# Usemos assert para levantar una excepcion en caso arg1 o arg2 no sean datos de tipo entero\u001b[0m\u001b[0;34m\u001b[0m\u001b[0;34m\u001b[0m\u001b[0m\n\u001b[0;32m----> 5\u001b[0;31m   \u001b[0;32massert\u001b[0m\u001b[0;34m(\u001b[0m\u001b[0mtype\u001b[0m\u001b[0;34m(\u001b[0m\u001b[0marg1\u001b[0m\u001b[0;34m)\u001b[0m \u001b[0;34m==\u001b[0m \u001b[0mint\u001b[0m\u001b[0;34m)\u001b[0m\u001b[0;34m,\u001b[0m\u001b[0;34m\"El primer argumento debe ser un numero entero\"\u001b[0m\u001b[0;34m\u001b[0m\u001b[0;34m\u001b[0m\u001b[0m\n\u001b[0m\u001b[1;32m      6\u001b[0m   \u001b[0;32massert\u001b[0m\u001b[0;34m(\u001b[0m\u001b[0mtype\u001b[0m\u001b[0;34m(\u001b[0m\u001b[0marg2\u001b[0m\u001b[0;34m)\u001b[0m \u001b[0;34m==\u001b[0m \u001b[0mint\u001b[0m\u001b[0;34m)\u001b[0m\u001b[0;34m,\u001b[0m\u001b[0;34m\"El segundo argumento debe ser un numero entero\"\u001b[0m\u001b[0;34m\u001b[0m\u001b[0;34m\u001b[0m\u001b[0m\n\u001b[1;32m      7\u001b[0m   \u001b[0;32mreturn\u001b[0m \u001b[0marg1\u001b[0m \u001b[0;34m+\u001b[0m \u001b[0marg2\u001b[0m\u001b[0;34m\u001b[0m\u001b[0;34m\u001b[0m\u001b[0m\n",
            "\u001b[0;31mAssertionError\u001b[0m: El primer argumento debe ser un numero entero"
          ]
        }
      ]
    },
    {
      "cell_type": "markdown",
      "source": [
        "# Siguiente evolucion : Definamos nuestra propias excepciones"
      ],
      "metadata": {
        "id": "wl6DJ0br0G3I"
      }
    },
    {
      "cell_type": "code",
      "source": [
        "# Creacion de una nueva excepcion : que herede de la clase Exception todas sus caracteristicas\n",
        "class MiPrimeraExcepcion(Exception):\n",
        "  pass"
      ],
      "metadata": {
        "id": "Fh2qY89Y2J8Q"
      },
      "execution_count": null,
      "outputs": []
    },
    {
      "cell_type": "code",
      "source": [
        "# Lancemos nuestra primera excepcion\n",
        "raise MiPrimeraExcepcion()"
      ],
      "metadata": {
        "colab": {
          "base_uri": "https://localhost:8080/",
          "height": 158
        },
        "id": "ld8W9g9y24Ep",
        "outputId": "6e7be9f1-c649-4e9a-b413-2ea71cb8dbc4"
      },
      "execution_count": null,
      "outputs": [
        {
          "output_type": "error",
          "ename": "MiPrimeraExcepcion",
          "evalue": "",
          "traceback": [
            "\u001b[0;31m---------------------------------------------------------------------------\u001b[0m",
            "\u001b[0;31mMiPrimeraExcepcion\u001b[0m                        Traceback (most recent call last)",
            "\u001b[0;32m<ipython-input-23-3c0f722ce9dc>\u001b[0m in \u001b[0;36m<cell line: 0>\u001b[0;34m()\u001b[0m\n\u001b[1;32m      1\u001b[0m \u001b[0;31m# Lancemos nuestra primera excepcion\u001b[0m\u001b[0;34m\u001b[0m\u001b[0;34m\u001b[0m\u001b[0m\n\u001b[0;32m----> 2\u001b[0;31m \u001b[0;32mraise\u001b[0m \u001b[0mMiPrimeraExcepcion\u001b[0m\u001b[0;34m(\u001b[0m\u001b[0;34m)\u001b[0m\u001b[0;34m\u001b[0m\u001b[0;34m\u001b[0m\u001b[0m\n\u001b[0m",
            "\u001b[0;31mMiPrimeraExcepcion\u001b[0m: "
          ]
        }
      ]
    },
    {
      "cell_type": "code",
      "source": [
        "# Para obtener informacion adicional de los eventos que generan una excepcion, podemos\n",
        "# utilizar dos o mas parametros de entrada al lanzar la ejecucion\n",
        "\n",
        "class ExcepcionPIT229Clase3(Exception):\n",
        "  def __init__(self, parametro1,parametro2):\n",
        "    self.parametro1 = parametro1\n",
        "    self.parametro2 = parametro2"
      ],
      "metadata": {
        "id": "9Y6QFX-l3SFy"
      },
      "execution_count": null,
      "outputs": []
    },
    {
      "cell_type": "code",
      "source": [
        "# lancemos una instancia de la clase ExcepcionPIT229Clase3\n",
        "raise ExcepcionPIT229Clase3(\"x1\", 666)"
      ],
      "metadata": {
        "colab": {
          "base_uri": "https://localhost:8080/",
          "height": 158
        },
        "id": "zoF1Cq3u481Q",
        "outputId": "493e7c54-41eb-468b-f7b0-928386752f57"
      },
      "execution_count": null,
      "outputs": [
        {
          "output_type": "error",
          "ename": "ExcepcionPIT229Clase3",
          "evalue": "('x1', 666)",
          "traceback": [
            "\u001b[0;31m---------------------------------------------------------------------------\u001b[0m",
            "\u001b[0;31mExcepcionPIT229Clase3\u001b[0m                     Traceback (most recent call last)",
            "\u001b[0;32m<ipython-input-25-d27f10159a72>\u001b[0m in \u001b[0;36m<cell line: 0>\u001b[0;34m()\u001b[0m\n\u001b[1;32m      1\u001b[0m \u001b[0;31m# lancemos una instancia de la clase ExcepcionPIT229Clase3\u001b[0m\u001b[0;34m\u001b[0m\u001b[0;34m\u001b[0m\u001b[0m\n\u001b[0;32m----> 2\u001b[0;31m \u001b[0;32mraise\u001b[0m \u001b[0mExcepcionPIT229Clase3\u001b[0m\u001b[0;34m(\u001b[0m\u001b[0;34m\"x1\"\u001b[0m\u001b[0;34m,\u001b[0m \u001b[0;36m666\u001b[0m\u001b[0;34m)\u001b[0m\u001b[0;34m\u001b[0m\u001b[0;34m\u001b[0m\u001b[0m\n\u001b[0m",
            "\u001b[0;31mExcepcionPIT229Clase3\u001b[0m: ('x1', 666)"
          ]
        }
      ]
    }
  ]
}